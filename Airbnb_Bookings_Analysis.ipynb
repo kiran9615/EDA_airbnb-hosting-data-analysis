{
  "cells": [
    {
      "cell_type": "markdown",
      "metadata": {
        "id": "view-in-github",
        "colab_type": "text"
      },
      "source": [
        "<a href=\"https://colab.research.google.com/github/kiran9615/EDA_airbnb-hosting-data-analysis/blob/main/Airbnb_Bookings_Analysis.ipynb\" target=\"_parent\"><img src=\"https://colab.research.google.com/assets/colab-badge.svg\" alt=\"Open In Colab\"/></a>"
      ]
    },
    {
      "cell_type": "markdown",
      "metadata": {
        "id": "Y06xIdG26kRF"
      },
      "source": [
        "***Since 2008, guests and hosts have used Airbnb to expand on traveling possibilities and present a more unique, personalized way of experiencing the world. Today, Airbnb became one of a kind service that is used and recognized by the whole world. Data analysis on millions of listings provided through Airbnb is a crucial factor for the company. These millions of listings generate a lot of data - data that can be analyzed and used for security, business decisions, understanding of customers' and providers' (hosts) behavior and performance on the platform, guiding marketing initiatives, implementation of innovative additional services and much more.***\n",
        "\n",
        "# ***This dataset has around 49,000 observations in it with 16 columns and it is a mix between categorical and numeric values.***\n",
        "\n",
        "***Explore and analyze the data to discover key understandings (not limited to these) such as :***\n",
        "\n",
        "*What can we learn about different hosts and areas?*\n",
        "\n",
        "*What can we learn from predictions? (ex: locations, prices, reviews, etc)*\n",
        "\n",
        "*Which hosts are the busiest and why?*\n",
        "\n",
        "*Is there any noticeable difference of traffic among different areas and what could be the reason for it?*"
      ]
    },
    {
      "cell_type": "code",
      "execution_count": null,
      "metadata": {
        "id": "L7Ro-E0Tfvqs"
      },
      "outputs": [],
      "source": [
        "#importing all the necessary modules needed during analysis\n",
        "import numpy as np\n",
        "import pandas as pd\n",
        "from matplotlib import pyplot as plt\n",
        "import seaborn as sns\n",
        "%matplotlib inline\n",
        "import warnings\n",
        "warnings.filterwarnings('ignore')"
      ]
    },
    {
      "cell_type": "code",
      "execution_count": null,
      "metadata": {
        "colab": {
          "base_uri": "https://localhost:8080/"
        },
        "id": "Uqq1EE8lRpJW",
        "outputId": "2e491b44-d2b8-46be-88db-a10a01c3bf05"
      },
      "outputs": [
        {
          "output_type": "stream",
          "name": "stdout",
          "text": [
            "Mounted at /content/drive\n"
          ]
        }
      ],
      "source": [
        "# mounting google drive in colab \n",
        "from google.colab import drive\n",
        "drive.mount('/content/drive')"
      ]
    },
    {
      "cell_type": "code",
      "execution_count": null,
      "metadata": {
        "id": "Mck1FEKRR3p6"
      },
      "outputs": [],
      "source": [
        "#reading airbnb data \n",
        "file_path = '/content/drive/MyDrive/Datascience/Datasets/Airbnb NYC 2019.csv'\n",
        "airbnbNY_data = pd.read_csv(file_path)"
      ]
    },
    {
      "cell_type": "markdown",
      "metadata": {
        "id": "hQRkJ9echIuE"
      },
      "source": [
        "# ***Part 1: Basic datapreprocessing and Cleaning***"
      ]
    },
    {
      "cell_type": "code",
      "execution_count": null,
      "metadata": {
        "colab": {
          "base_uri": "https://localhost:8080/"
        },
        "id": "imstWQBuSvcf",
        "outputId": "41d2933b-828c-4751-a238-ebc983bf6643"
      },
      "outputs": [
        {
          "output_type": "execute_result",
          "data": {
            "text/plain": [
              "(48895, 16)"
            ]
          },
          "metadata": {},
          "execution_count": 4
        }
      ],
      "source": [
        "#----------------------Block 1----------------------------------\n",
        "\n",
        "#checking for no. of observations and features in our dataset\n",
        "airbnbNY_data.shape"
      ]
    },
    {
      "cell_type": "markdown",
      "metadata": {
        "id": "iAcEzFiiQVyW"
      },
      "source": [
        "*We have a listings of 48895 observations with 16 features*"
      ]
    },
    {
      "cell_type": "code",
      "execution_count": null,
      "metadata": {
        "colab": {
          "base_uri": "https://localhost:8080/",
          "height": 461
        },
        "id": "X8MG2jBomQj6",
        "outputId": "1ac439cb-da10-4345-ce9b-f8445d69f270"
      },
      "outputs": [
        {
          "output_type": "execute_result",
          "data": {
            "text/html": [
              "\n",
              "  <div id=\"df-26ef11ec-5db7-4280-8faa-1c8f960e9977\">\n",
              "    <div class=\"colab-df-container\">\n",
              "      <div>\n",
              "<style scoped>\n",
              "    .dataframe tbody tr th:only-of-type {\n",
              "        vertical-align: middle;\n",
              "    }\n",
              "\n",
              "    .dataframe tbody tr th {\n",
              "        vertical-align: top;\n",
              "    }\n",
              "\n",
              "    .dataframe thead th {\n",
              "        text-align: right;\n",
              "    }\n",
              "</style>\n",
              "<table border=\"1\" class=\"dataframe\">\n",
              "  <thead>\n",
              "    <tr style=\"text-align: right;\">\n",
              "      <th></th>\n",
              "      <th>id</th>\n",
              "      <th>name</th>\n",
              "      <th>host_id</th>\n",
              "      <th>host_name</th>\n",
              "      <th>neighbourhood_group</th>\n",
              "      <th>neighbourhood</th>\n",
              "      <th>latitude</th>\n",
              "      <th>longitude</th>\n",
              "      <th>room_type</th>\n",
              "      <th>price</th>\n",
              "      <th>minimum_nights</th>\n",
              "      <th>number_of_reviews</th>\n",
              "      <th>last_review</th>\n",
              "      <th>reviews_per_month</th>\n",
              "      <th>calculated_host_listings_count</th>\n",
              "      <th>availability_365</th>\n",
              "    </tr>\n",
              "  </thead>\n",
              "  <tbody>\n",
              "    <tr>\n",
              "      <th>0</th>\n",
              "      <td>2539</td>\n",
              "      <td>Clean &amp; quiet apt home by the park</td>\n",
              "      <td>2787</td>\n",
              "      <td>John</td>\n",
              "      <td>Brooklyn</td>\n",
              "      <td>Kensington</td>\n",
              "      <td>40.64749</td>\n",
              "      <td>-73.97237</td>\n",
              "      <td>Private room</td>\n",
              "      <td>149</td>\n",
              "      <td>1</td>\n",
              "      <td>9</td>\n",
              "      <td>2018-10-19</td>\n",
              "      <td>0.21</td>\n",
              "      <td>6</td>\n",
              "      <td>365</td>\n",
              "    </tr>\n",
              "    <tr>\n",
              "      <th>1</th>\n",
              "      <td>2595</td>\n",
              "      <td>Skylit Midtown Castle</td>\n",
              "      <td>2845</td>\n",
              "      <td>Jennifer</td>\n",
              "      <td>Manhattan</td>\n",
              "      <td>Midtown</td>\n",
              "      <td>40.75362</td>\n",
              "      <td>-73.98377</td>\n",
              "      <td>Entire home/apt</td>\n",
              "      <td>225</td>\n",
              "      <td>1</td>\n",
              "      <td>45</td>\n",
              "      <td>2019-05-21</td>\n",
              "      <td>0.38</td>\n",
              "      <td>2</td>\n",
              "      <td>355</td>\n",
              "    </tr>\n",
              "    <tr>\n",
              "      <th>2</th>\n",
              "      <td>3647</td>\n",
              "      <td>THE VILLAGE OF HARLEM....NEW YORK !</td>\n",
              "      <td>4632</td>\n",
              "      <td>Elisabeth</td>\n",
              "      <td>Manhattan</td>\n",
              "      <td>Harlem</td>\n",
              "      <td>40.80902</td>\n",
              "      <td>-73.94190</td>\n",
              "      <td>Private room</td>\n",
              "      <td>150</td>\n",
              "      <td>3</td>\n",
              "      <td>0</td>\n",
              "      <td>NaN</td>\n",
              "      <td>NaN</td>\n",
              "      <td>1</td>\n",
              "      <td>365</td>\n",
              "    </tr>\n",
              "    <tr>\n",
              "      <th>3</th>\n",
              "      <td>3831</td>\n",
              "      <td>Cozy Entire Floor of Brownstone</td>\n",
              "      <td>4869</td>\n",
              "      <td>LisaRoxanne</td>\n",
              "      <td>Brooklyn</td>\n",
              "      <td>Clinton Hill</td>\n",
              "      <td>40.68514</td>\n",
              "      <td>-73.95976</td>\n",
              "      <td>Entire home/apt</td>\n",
              "      <td>89</td>\n",
              "      <td>1</td>\n",
              "      <td>270</td>\n",
              "      <td>2019-07-05</td>\n",
              "      <td>4.64</td>\n",
              "      <td>1</td>\n",
              "      <td>194</td>\n",
              "    </tr>\n",
              "    <tr>\n",
              "      <th>4</th>\n",
              "      <td>5022</td>\n",
              "      <td>Entire Apt: Spacious Studio/Loft by central park</td>\n",
              "      <td>7192</td>\n",
              "      <td>Laura</td>\n",
              "      <td>Manhattan</td>\n",
              "      <td>East Harlem</td>\n",
              "      <td>40.79851</td>\n",
              "      <td>-73.94399</td>\n",
              "      <td>Entire home/apt</td>\n",
              "      <td>80</td>\n",
              "      <td>10</td>\n",
              "      <td>9</td>\n",
              "      <td>2018-11-19</td>\n",
              "      <td>0.10</td>\n",
              "      <td>1</td>\n",
              "      <td>0</td>\n",
              "    </tr>\n",
              "  </tbody>\n",
              "</table>\n",
              "</div>\n",
              "      <button class=\"colab-df-convert\" onclick=\"convertToInteractive('df-26ef11ec-5db7-4280-8faa-1c8f960e9977')\"\n",
              "              title=\"Convert this dataframe to an interactive table.\"\n",
              "              style=\"display:none;\">\n",
              "        \n",
              "  <svg xmlns=\"http://www.w3.org/2000/svg\" height=\"24px\"viewBox=\"0 0 24 24\"\n",
              "       width=\"24px\">\n",
              "    <path d=\"M0 0h24v24H0V0z\" fill=\"none\"/>\n",
              "    <path d=\"M18.56 5.44l.94 2.06.94-2.06 2.06-.94-2.06-.94-.94-2.06-.94 2.06-2.06.94zm-11 1L8.5 8.5l.94-2.06 2.06-.94-2.06-.94L8.5 2.5l-.94 2.06-2.06.94zm10 10l.94 2.06.94-2.06 2.06-.94-2.06-.94-.94-2.06-.94 2.06-2.06.94z\"/><path d=\"M17.41 7.96l-1.37-1.37c-.4-.4-.92-.59-1.43-.59-.52 0-1.04.2-1.43.59L10.3 9.45l-7.72 7.72c-.78.78-.78 2.05 0 2.83L4 21.41c.39.39.9.59 1.41.59.51 0 1.02-.2 1.41-.59l7.78-7.78 2.81-2.81c.8-.78.8-2.07 0-2.86zM5.41 20L4 18.59l7.72-7.72 1.47 1.35L5.41 20z\"/>\n",
              "  </svg>\n",
              "      </button>\n",
              "      \n",
              "  <style>\n",
              "    .colab-df-container {\n",
              "      display:flex;\n",
              "      flex-wrap:wrap;\n",
              "      gap: 12px;\n",
              "    }\n",
              "\n",
              "    .colab-df-convert {\n",
              "      background-color: #E8F0FE;\n",
              "      border: none;\n",
              "      border-radius: 50%;\n",
              "      cursor: pointer;\n",
              "      display: none;\n",
              "      fill: #1967D2;\n",
              "      height: 32px;\n",
              "      padding: 0 0 0 0;\n",
              "      width: 32px;\n",
              "    }\n",
              "\n",
              "    .colab-df-convert:hover {\n",
              "      background-color: #E2EBFA;\n",
              "      box-shadow: 0px 1px 2px rgba(60, 64, 67, 0.3), 0px 1px 3px 1px rgba(60, 64, 67, 0.15);\n",
              "      fill: #174EA6;\n",
              "    }\n",
              "\n",
              "    [theme=dark] .colab-df-convert {\n",
              "      background-color: #3B4455;\n",
              "      fill: #D2E3FC;\n",
              "    }\n",
              "\n",
              "    [theme=dark] .colab-df-convert:hover {\n",
              "      background-color: #434B5C;\n",
              "      box-shadow: 0px 1px 3px 1px rgba(0, 0, 0, 0.15);\n",
              "      filter: drop-shadow(0px 1px 2px rgba(0, 0, 0, 0.3));\n",
              "      fill: #FFFFFF;\n",
              "    }\n",
              "  </style>\n",
              "\n",
              "      <script>\n",
              "        const buttonEl =\n",
              "          document.querySelector('#df-26ef11ec-5db7-4280-8faa-1c8f960e9977 button.colab-df-convert');\n",
              "        buttonEl.style.display =\n",
              "          google.colab.kernel.accessAllowed ? 'block' : 'none';\n",
              "\n",
              "        async function convertToInteractive(key) {\n",
              "          const element = document.querySelector('#df-26ef11ec-5db7-4280-8faa-1c8f960e9977');\n",
              "          const dataTable =\n",
              "            await google.colab.kernel.invokeFunction('convertToInteractive',\n",
              "                                                     [key], {});\n",
              "          if (!dataTable) return;\n",
              "\n",
              "          const docLinkHtml = 'Like what you see? Visit the ' +\n",
              "            '<a target=\"_blank\" href=https://colab.research.google.com/notebooks/data_table.ipynb>data table notebook</a>'\n",
              "            + ' to learn more about interactive tables.';\n",
              "          element.innerHTML = '';\n",
              "          dataTable['output_type'] = 'display_data';\n",
              "          await google.colab.output.renderOutput(dataTable, element);\n",
              "          const docLink = document.createElement('div');\n",
              "          docLink.innerHTML = docLinkHtml;\n",
              "          element.appendChild(docLink);\n",
              "        }\n",
              "      </script>\n",
              "    </div>\n",
              "  </div>\n",
              "  "
            ],
            "text/plain": [
              "     id  ... availability_365\n",
              "0  2539  ...              365\n",
              "1  2595  ...              355\n",
              "2  3647  ...              365\n",
              "3  3831  ...              194\n",
              "4  5022  ...                0\n",
              "\n",
              "[5 rows x 16 columns]"
            ]
          },
          "metadata": {},
          "execution_count": 5
        }
      ],
      "source": [
        "#----------------------Block 2----------------------------------\n",
        "\n",
        "# visualising first 5 observations from our dataset \n",
        "airbnbNY_data.head()"
      ]
    },
    {
      "cell_type": "markdown",
      "metadata": {
        "id": "ihSProwlQmv7"
      },
      "source": [
        " ****Data Dictionary****\n",
        "\n",
        "*1. ID - ID is just an unique identifier of each row.*\n",
        "\n",
        "*2. Name - It is a rental name which user sees while booking(hotel name).*\n",
        "\n",
        "*3. Host ID - Every host on Airbnb gets an unique host id, host id here represents that id only.*\n",
        "\n",
        "*4. Host name - Name of the host.*\n",
        "\n",
        "*5. Neighbourhood_group - Whole New York is divied into 5 neighbourhood_group(boroughs) regionally. It shows in which borough particular listing is located.*\n",
        "\n",
        "*6. Neighbourhood - Each borough is further sub divided into neighbourhoods. This column shows the neighbourhood of particular listing.*\n",
        "\n",
        "*7. Latitude and longitude - These shows the geographical positions of a rental.*\n",
        "\n",
        "*8. Room_Type -  Which room type a rental is offering.*\n",
        "\n",
        "*9. Price - Price per night that a rental is charging.*\n",
        "\n",
        "*10. Minimum Nights - For this much of nights minimally rental can be booked.*\n",
        "\n",
        "*11. Number of reviews - Number of reviews a rental has got till now.*\n",
        "\n",
        "*12. Review Per month - An average no. of reviews that a rental got per month.*\n",
        "\n",
        "*13. Last review - Date on which a rental got their last review.*\n",
        "\n",
        "*14. calculated_host_listings_count -  It is the no. of rentals a host is hosting in the dataset.*\n",
        "\n",
        "*15. Availability 365 - It is the no. of days for which a rental is available to book.*\n",
        "\n",
        "*NOTE - I have used the word rentals, listings and hostings interchangably here. All of these means the same.*"
      ]
    },
    {
      "cell_type": "code",
      "execution_count": null,
      "metadata": {
        "colab": {
          "base_uri": "https://localhost:8080/"
        },
        "id": "XzN212LUSx3P",
        "outputId": "16fa89b1-dee2-4bc3-963d-93794db642bb"
      },
      "outputs": [
        {
          "output_type": "stream",
          "name": "stdout",
          "text": [
            "<class 'pandas.core.frame.DataFrame'>\n",
            "RangeIndex: 48895 entries, 0 to 48894\n",
            "Data columns (total 16 columns):\n",
            " #   Column                          Non-Null Count  Dtype  \n",
            "---  ------                          --------------  -----  \n",
            " 0   id                              48895 non-null  int64  \n",
            " 1   name                            48879 non-null  object \n",
            " 2   host_id                         48895 non-null  int64  \n",
            " 3   host_name                       48874 non-null  object \n",
            " 4   neighbourhood_group             48895 non-null  object \n",
            " 5   neighbourhood                   48895 non-null  object \n",
            " 6   latitude                        48895 non-null  float64\n",
            " 7   longitude                       48895 non-null  float64\n",
            " 8   room_type                       48895 non-null  object \n",
            " 9   price                           48895 non-null  int64  \n",
            " 10  minimum_nights                  48895 non-null  int64  \n",
            " 11  number_of_reviews               48895 non-null  int64  \n",
            " 12  last_review                     38843 non-null  object \n",
            " 13  reviews_per_month               38843 non-null  float64\n",
            " 14  calculated_host_listings_count  48895 non-null  int64  \n",
            " 15  availability_365                48895 non-null  int64  \n",
            "dtypes: float64(3), int64(7), object(6)\n",
            "memory usage: 6.0+ MB\n"
          ]
        }
      ],
      "source": [
        "#----------------------Block 3----------------------------------\n",
        "\n",
        "#getting basic information about dataset\n",
        "airbnbNY_data.info()"
      ]
    },
    {
      "cell_type": "markdown",
      "metadata": {
        "id": "3R6miKMAQwia"
      },
      "source": [
        "*Outcomes*\n",
        "\n",
        "*1. Dataype of each columns*\n",
        "\n",
        "*2. Memory usage due to dataset*\n",
        "\n",
        "*3. Number of non null values in each columns*\n"
      ]
    },
    {
      "cell_type": "code",
      "execution_count": null,
      "metadata": {
        "colab": {
          "base_uri": "https://localhost:8080/"
        },
        "id": "RlYK1p6vS15M",
        "outputId": "db81f33b-42df-4384-c24d-7f69bf42d6d9"
      },
      "outputs": [
        {
          "output_type": "execute_result",
          "data": {
            "text/plain": [
              "id                                    0\n",
              "name                                 16\n",
              "host_id                               0\n",
              "host_name                            21\n",
              "neighbourhood_group                   0\n",
              "neighbourhood                         0\n",
              "latitude                              0\n",
              "longitude                             0\n",
              "room_type                             0\n",
              "price                                 0\n",
              "minimum_nights                        0\n",
              "number_of_reviews                     0\n",
              "last_review                       10052\n",
              "reviews_per_month                 10052\n",
              "calculated_host_listings_count        0\n",
              "availability_365                      0\n",
              "dtype: int64"
            ]
          },
          "metadata": {},
          "execution_count": 7
        }
      ],
      "source": [
        "#----------------------Block 4----------------------------------\n",
        "\n",
        "# getting count of each null values in each column\n",
        "airbnbNY_data.isnull().sum()"
      ]
    },
    {
      "cell_type": "markdown",
      "metadata": {
        "id": "yuHSRWTpReJL"
      },
      "source": [
        "*1. Although Name and Host name has null values but it won't be of significant use in our analysis, we won't be caring much about it.*\n",
        "\n",
        "*2. Last review and review per month both have same number of null values. Actual reason is they are interdependent. Last_review includes a date of last review of specific listing. If it is null that means listing hasn't got any reviews yet and for the same reason review per moth is also null.*\n",
        "\n",
        "*3. If you look for the observations having review_per_month and last_review as null values, logiclly no. of reviews value should be zero there. So, lets verify this.* \n",
        "\n"
      ]
    },
    {
      "cell_type": "code",
      "execution_count": null,
      "metadata": {
        "colab": {
          "base_uri": "https://localhost:8080/"
        },
        "id": "JIuCzaFgS30z",
        "outputId": "4f01353f-b269-4a80-a2f8-7ece8ddf3ca7"
      },
      "outputs": [
        {
          "output_type": "execute_result",
          "data": {
            "text/plain": [
              "0    10052\n",
              "Name: number_of_reviews, dtype: int64"
            ]
          },
          "metadata": {},
          "execution_count": 8
        }
      ],
      "source": [
        "#----------------------Block 5----------------------------------\n",
        "\n",
        "# checking for number_of_review unique values where we have null values for last_review and review_per_month \n",
        "airbnbNY_data[airbnbNY_data['last_review'].isnull() & airbnbNY_data['reviews_per_month'].isnull()]['number_of_reviews'].value_counts()"
      ]
    },
    {
      "cell_type": "markdown",
      "metadata": {
        "id": "Y6OmU92-kdlD"
      },
      "source": [
        "*We will delete the last review column from dataframe as that is not much useful in terms of further data analysis and make reviews_per_ month  0 where reviews_per_month is Null.*"
      ]
    },
    {
      "cell_type": "code",
      "execution_count": null,
      "metadata": {
        "id": "evL-PSd_i67x"
      },
      "outputs": [],
      "source": [
        "#----------------------Block 6----------------------------------\n",
        "\n",
        "airbnbNY_data.drop(['last_review'],axis = 1, inplace = True)   # dropping last review column\n",
        "airbnbNY_data['reviews_per_month'].fillna(0,inplace=True)    #filling null values with 0 in reviews_per_month column"
      ]
    },
    {
      "cell_type": "markdown",
      "metadata": {
        "id": "G0y1kVPv4HVe"
      },
      "source": [
        "*Name of hotel is also not of a significant use to us so we'll drop that as well*"
      ]
    },
    {
      "cell_type": "code",
      "execution_count": null,
      "metadata": {
        "id": "DjJL83L14eeP"
      },
      "outputs": [],
      "source": [
        "#----------------------Block 7----------------------------------\n",
        "\n",
        "airbnbNY_data.drop(['name'],axis = 1, inplace = True)   # dropping name column\n",
        "airbnbNY_data.drop(['host_name'],axis = 1, inplace = True)   # dropping host_name column"
      ]
    },
    {
      "cell_type": "code",
      "execution_count": null,
      "metadata": {
        "colab": {
          "base_uri": "https://localhost:8080/"
        },
        "id": "BsOGmrb54mya",
        "outputId": "ab2bb5fe-a7f6-43d2-b573-d32bbf7c6b27"
      },
      "outputs": [
        {
          "output_type": "execute_result",
          "data": {
            "text/plain": [
              "id                                0\n",
              "host_id                           0\n",
              "neighbourhood_group               0\n",
              "neighbourhood                     0\n",
              "latitude                          0\n",
              "longitude                         0\n",
              "room_type                         0\n",
              "price                             0\n",
              "minimum_nights                    0\n",
              "number_of_reviews                 0\n",
              "reviews_per_month                 0\n",
              "calculated_host_listings_count    0\n",
              "availability_365                  0\n",
              "dtype: int64"
            ]
          },
          "metadata": {},
          "execution_count": 11
        }
      ],
      "source": [
        "#----------------------Block 8----------------------------------\n",
        "\n",
        "#null values check\n",
        "airbnbNY_data.isnull().sum()"
      ]
    },
    {
      "cell_type": "markdown",
      "metadata": {
        "id": "WBvRzS-o5Ozj"
      },
      "source": [
        "*We have treated null values and dropped all unneccesary columns as well .*"
      ]
    },
    {
      "cell_type": "code",
      "execution_count": null,
      "metadata": {
        "colab": {
          "base_uri": "https://localhost:8080/",
          "height": 300
        },
        "id": "lsp0fZ6UVG58",
        "outputId": "31c3e444-fda7-4d74-9a70-72b556b62d80"
      },
      "outputs": [
        {
          "output_type": "execute_result",
          "data": {
            "text/html": [
              "\n",
              "  <div id=\"df-43999cd4-69fa-4533-a7d9-1e67a9a3c03b\">\n",
              "    <div class=\"colab-df-container\">\n",
              "      <div>\n",
              "<style scoped>\n",
              "    .dataframe tbody tr th:only-of-type {\n",
              "        vertical-align: middle;\n",
              "    }\n",
              "\n",
              "    .dataframe tbody tr th {\n",
              "        vertical-align: top;\n",
              "    }\n",
              "\n",
              "    .dataframe thead th {\n",
              "        text-align: right;\n",
              "    }\n",
              "</style>\n",
              "<table border=\"1\" class=\"dataframe\">\n",
              "  <thead>\n",
              "    <tr style=\"text-align: right;\">\n",
              "      <th></th>\n",
              "      <th>price</th>\n",
              "      <th>minimum_nights</th>\n",
              "      <th>number_of_reviews</th>\n",
              "      <th>reviews_per_month</th>\n",
              "      <th>calculated_host_listings_count</th>\n",
              "      <th>availability_365</th>\n",
              "    </tr>\n",
              "  </thead>\n",
              "  <tbody>\n",
              "    <tr>\n",
              "      <th>count</th>\n",
              "      <td>48895.000000</td>\n",
              "      <td>48895.000000</td>\n",
              "      <td>48895.000000</td>\n",
              "      <td>48895.000000</td>\n",
              "      <td>48895.000000</td>\n",
              "      <td>48895.000000</td>\n",
              "    </tr>\n",
              "    <tr>\n",
              "      <th>mean</th>\n",
              "      <td>152.720687</td>\n",
              "      <td>7.029962</td>\n",
              "      <td>23.274466</td>\n",
              "      <td>1.090910</td>\n",
              "      <td>7.143982</td>\n",
              "      <td>112.781327</td>\n",
              "    </tr>\n",
              "    <tr>\n",
              "      <th>std</th>\n",
              "      <td>240.154170</td>\n",
              "      <td>20.510550</td>\n",
              "      <td>44.550582</td>\n",
              "      <td>1.597283</td>\n",
              "      <td>32.952519</td>\n",
              "      <td>131.622289</td>\n",
              "    </tr>\n",
              "    <tr>\n",
              "      <th>min</th>\n",
              "      <td>0.000000</td>\n",
              "      <td>1.000000</td>\n",
              "      <td>0.000000</td>\n",
              "      <td>0.000000</td>\n",
              "      <td>1.000000</td>\n",
              "      <td>0.000000</td>\n",
              "    </tr>\n",
              "    <tr>\n",
              "      <th>25%</th>\n",
              "      <td>69.000000</td>\n",
              "      <td>1.000000</td>\n",
              "      <td>1.000000</td>\n",
              "      <td>0.040000</td>\n",
              "      <td>1.000000</td>\n",
              "      <td>0.000000</td>\n",
              "    </tr>\n",
              "    <tr>\n",
              "      <th>50%</th>\n",
              "      <td>106.000000</td>\n",
              "      <td>3.000000</td>\n",
              "      <td>5.000000</td>\n",
              "      <td>0.370000</td>\n",
              "      <td>1.000000</td>\n",
              "      <td>45.000000</td>\n",
              "    </tr>\n",
              "    <tr>\n",
              "      <th>75%</th>\n",
              "      <td>175.000000</td>\n",
              "      <td>5.000000</td>\n",
              "      <td>24.000000</td>\n",
              "      <td>1.580000</td>\n",
              "      <td>2.000000</td>\n",
              "      <td>227.000000</td>\n",
              "    </tr>\n",
              "    <tr>\n",
              "      <th>max</th>\n",
              "      <td>10000.000000</td>\n",
              "      <td>1250.000000</td>\n",
              "      <td>629.000000</td>\n",
              "      <td>58.500000</td>\n",
              "      <td>327.000000</td>\n",
              "      <td>365.000000</td>\n",
              "    </tr>\n",
              "  </tbody>\n",
              "</table>\n",
              "</div>\n",
              "      <button class=\"colab-df-convert\" onclick=\"convertToInteractive('df-43999cd4-69fa-4533-a7d9-1e67a9a3c03b')\"\n",
              "              title=\"Convert this dataframe to an interactive table.\"\n",
              "              style=\"display:none;\">\n",
              "        \n",
              "  <svg xmlns=\"http://www.w3.org/2000/svg\" height=\"24px\"viewBox=\"0 0 24 24\"\n",
              "       width=\"24px\">\n",
              "    <path d=\"M0 0h24v24H0V0z\" fill=\"none\"/>\n",
              "    <path d=\"M18.56 5.44l.94 2.06.94-2.06 2.06-.94-2.06-.94-.94-2.06-.94 2.06-2.06.94zm-11 1L8.5 8.5l.94-2.06 2.06-.94-2.06-.94L8.5 2.5l-.94 2.06-2.06.94zm10 10l.94 2.06.94-2.06 2.06-.94-2.06-.94-.94-2.06-.94 2.06-2.06.94z\"/><path d=\"M17.41 7.96l-1.37-1.37c-.4-.4-.92-.59-1.43-.59-.52 0-1.04.2-1.43.59L10.3 9.45l-7.72 7.72c-.78.78-.78 2.05 0 2.83L4 21.41c.39.39.9.59 1.41.59.51 0 1.02-.2 1.41-.59l7.78-7.78 2.81-2.81c.8-.78.8-2.07 0-2.86zM5.41 20L4 18.59l7.72-7.72 1.47 1.35L5.41 20z\"/>\n",
              "  </svg>\n",
              "      </button>\n",
              "      \n",
              "  <style>\n",
              "    .colab-df-container {\n",
              "      display:flex;\n",
              "      flex-wrap:wrap;\n",
              "      gap: 12px;\n",
              "    }\n",
              "\n",
              "    .colab-df-convert {\n",
              "      background-color: #E8F0FE;\n",
              "      border: none;\n",
              "      border-radius: 50%;\n",
              "      cursor: pointer;\n",
              "      display: none;\n",
              "      fill: #1967D2;\n",
              "      height: 32px;\n",
              "      padding: 0 0 0 0;\n",
              "      width: 32px;\n",
              "    }\n",
              "\n",
              "    .colab-df-convert:hover {\n",
              "      background-color: #E2EBFA;\n",
              "      box-shadow: 0px 1px 2px rgba(60, 64, 67, 0.3), 0px 1px 3px 1px rgba(60, 64, 67, 0.15);\n",
              "      fill: #174EA6;\n",
              "    }\n",
              "\n",
              "    [theme=dark] .colab-df-convert {\n",
              "      background-color: #3B4455;\n",
              "      fill: #D2E3FC;\n",
              "    }\n",
              "\n",
              "    [theme=dark] .colab-df-convert:hover {\n",
              "      background-color: #434B5C;\n",
              "      box-shadow: 0px 1px 3px 1px rgba(0, 0, 0, 0.15);\n",
              "      filter: drop-shadow(0px 1px 2px rgba(0, 0, 0, 0.3));\n",
              "      fill: #FFFFFF;\n",
              "    }\n",
              "  </style>\n",
              "\n",
              "      <script>\n",
              "        const buttonEl =\n",
              "          document.querySelector('#df-43999cd4-69fa-4533-a7d9-1e67a9a3c03b button.colab-df-convert');\n",
              "        buttonEl.style.display =\n",
              "          google.colab.kernel.accessAllowed ? 'block' : 'none';\n",
              "\n",
              "        async function convertToInteractive(key) {\n",
              "          const element = document.querySelector('#df-43999cd4-69fa-4533-a7d9-1e67a9a3c03b');\n",
              "          const dataTable =\n",
              "            await google.colab.kernel.invokeFunction('convertToInteractive',\n",
              "                                                     [key], {});\n",
              "          if (!dataTable) return;\n",
              "\n",
              "          const docLinkHtml = 'Like what you see? Visit the ' +\n",
              "            '<a target=\"_blank\" href=https://colab.research.google.com/notebooks/data_table.ipynb>data table notebook</a>'\n",
              "            + ' to learn more about interactive tables.';\n",
              "          element.innerHTML = '';\n",
              "          dataTable['output_type'] = 'display_data';\n",
              "          await google.colab.output.renderOutput(dataTable, element);\n",
              "          const docLink = document.createElement('div');\n",
              "          docLink.innerHTML = docLinkHtml;\n",
              "          element.appendChild(docLink);\n",
              "        }\n",
              "      </script>\n",
              "    </div>\n",
              "  </div>\n",
              "  "
            ],
            "text/plain": [
              "              price  ...  availability_365\n",
              "count  48895.000000  ...      48895.000000\n",
              "mean     152.720687  ...        112.781327\n",
              "std      240.154170  ...        131.622289\n",
              "min        0.000000  ...          0.000000\n",
              "25%       69.000000  ...          0.000000\n",
              "50%      106.000000  ...         45.000000\n",
              "75%      175.000000  ...        227.000000\n",
              "max    10000.000000  ...        365.000000\n",
              "\n",
              "[8 rows x 6 columns]"
            ]
          },
          "metadata": {},
          "execution_count": 12
        }
      ],
      "source": [
        "#----------------------Block 9----------------------------------\n",
        "\n",
        "#checking for descriptive summary of data\n",
        "airbnbNY_data.drop(['id','host_id','latitude','longitude'], axis =1).describe()"
      ]
    },
    {
      "cell_type": "markdown",
      "metadata": {
        "id": "5xRFMcszeUkH"
      },
      "source": [
        "*Descriptive table tells us that except availability 365, all other features has some serious outliers.*\n",
        "\n",
        "*As a part of this project we are only performing EDA .So there might not be a need of outlier treatment but in some specific cases outliers affects our EDA task as well. So we'll look for temporary treatment at that point.*\n"
      ]
    },
    {
      "cell_type": "markdown",
      "metadata": {
        "id": "OHR2xLWh8RxL"
      },
      "source": [
        "# ***Part 2: Feature analysis and engineering***"
      ]
    },
    {
      "cell_type": "markdown",
      "metadata": {
        "id": "hy23Hf2U8cTF"
      },
      "source": [
        "##***1 .Visualising and analysing about different areas(neighbourhood and boroughs)***"
      ]
    },
    {
      "cell_type": "code",
      "execution_count": null,
      "metadata": {
        "colab": {
          "base_uri": "https://localhost:8080/"
        },
        "id": "kCKPcObq17oP",
        "outputId": "50745d98-c48b-4f96-fa33-a328fc082432"
      },
      "outputs": [
        {
          "output_type": "execute_result",
          "data": {
            "text/plain": [
              "array(['Brooklyn', 'Manhattan', 'Queens', 'Staten Island', 'Bronx'],\n",
              "      dtype=object)"
            ]
          },
          "metadata": {},
          "execution_count": 29
        }
      ],
      "source": [
        "#----------------------Block 10----------------------------------\n",
        "\n",
        "# unique categories in neighbourhood_group\n",
        "airbnbNY_data['neighbourhood_group'].unique()"
      ]
    },
    {
      "cell_type": "markdown",
      "metadata": {
        "id": "iJJvGaPo2K96"
      },
      "source": [
        "*1. There are total of 5 neighbourhood groups.*\n",
        "\n",
        "\n",
        "*2. In New York whole New York city has been divided in these(neighbourhood_group) five adminstrative region and these are called borough there. So we will rename the neighbourhood_group columns to borough for better comprehensiveness.*\n"
      ]
    },
    {
      "cell_type": "code",
      "execution_count": null,
      "metadata": {
        "id": "37Zzwojl22C6"
      },
      "outputs": [],
      "source": [
        "#----------------------Block 11----------------------------------\n",
        "\n",
        "airbnbNY_data.rename(columns={'neighbourhood_group':'borough'}, inplace=True) # renaming neighbourhood group column to borough"
      ]
    },
    {
      "cell_type": "code",
      "execution_count": null,
      "metadata": {
        "colab": {
          "base_uri": "https://localhost:8080/",
          "height": 357
        },
        "id": "v_E1vXV0jECI",
        "outputId": "c594d31e-e591-4c82-e452-7b40a6c01b3b"
      },
      "outputs": [
        {
          "output_type": "execute_result",
          "data": {
            "text/html": [
              "\n",
              "  <div id=\"df-4260b9c4-d91e-4ee4-8889-57246e115352\">\n",
              "    <div class=\"colab-df-container\">\n",
              "      <div>\n",
              "<style scoped>\n",
              "    .dataframe tbody tr th:only-of-type {\n",
              "        vertical-align: middle;\n",
              "    }\n",
              "\n",
              "    .dataframe tbody tr th {\n",
              "        vertical-align: top;\n",
              "    }\n",
              "\n",
              "    .dataframe thead th {\n",
              "        text-align: right;\n",
              "    }\n",
              "</style>\n",
              "<table border=\"1\" class=\"dataframe\">\n",
              "  <thead>\n",
              "    <tr style=\"text-align: right;\">\n",
              "      <th></th>\n",
              "      <th>id</th>\n",
              "      <th>host_id</th>\n",
              "      <th>borough</th>\n",
              "      <th>neighbourhood</th>\n",
              "      <th>latitude</th>\n",
              "      <th>longitude</th>\n",
              "      <th>room_type</th>\n",
              "      <th>price</th>\n",
              "      <th>minimum_nights</th>\n",
              "      <th>number_of_reviews</th>\n",
              "      <th>reviews_per_month</th>\n",
              "      <th>calculated_host_listings_count</th>\n",
              "      <th>availability_365</th>\n",
              "    </tr>\n",
              "  </thead>\n",
              "  <tbody>\n",
              "    <tr>\n",
              "      <th>0</th>\n",
              "      <td>2539</td>\n",
              "      <td>2787</td>\n",
              "      <td>Brooklyn</td>\n",
              "      <td>Kensington</td>\n",
              "      <td>40.64749</td>\n",
              "      <td>-73.97237</td>\n",
              "      <td>Private room</td>\n",
              "      <td>149</td>\n",
              "      <td>1</td>\n",
              "      <td>9</td>\n",
              "      <td>0.21</td>\n",
              "      <td>6</td>\n",
              "      <td>365</td>\n",
              "    </tr>\n",
              "    <tr>\n",
              "      <th>1</th>\n",
              "      <td>2595</td>\n",
              "      <td>2845</td>\n",
              "      <td>Manhattan</td>\n",
              "      <td>Midtown</td>\n",
              "      <td>40.75362</td>\n",
              "      <td>-73.98377</td>\n",
              "      <td>Entire home/apt</td>\n",
              "      <td>225</td>\n",
              "      <td>1</td>\n",
              "      <td>45</td>\n",
              "      <td>0.38</td>\n",
              "      <td>2</td>\n",
              "      <td>355</td>\n",
              "    </tr>\n",
              "    <tr>\n",
              "      <th>2</th>\n",
              "      <td>3647</td>\n",
              "      <td>4632</td>\n",
              "      <td>Manhattan</td>\n",
              "      <td>Harlem</td>\n",
              "      <td>40.80902</td>\n",
              "      <td>-73.94190</td>\n",
              "      <td>Private room</td>\n",
              "      <td>150</td>\n",
              "      <td>3</td>\n",
              "      <td>0</td>\n",
              "      <td>0.00</td>\n",
              "      <td>1</td>\n",
              "      <td>365</td>\n",
              "    </tr>\n",
              "    <tr>\n",
              "      <th>3</th>\n",
              "      <td>3831</td>\n",
              "      <td>4869</td>\n",
              "      <td>Brooklyn</td>\n",
              "      <td>Clinton Hill</td>\n",
              "      <td>40.68514</td>\n",
              "      <td>-73.95976</td>\n",
              "      <td>Entire home/apt</td>\n",
              "      <td>89</td>\n",
              "      <td>1</td>\n",
              "      <td>270</td>\n",
              "      <td>4.64</td>\n",
              "      <td>1</td>\n",
              "      <td>194</td>\n",
              "    </tr>\n",
              "    <tr>\n",
              "      <th>4</th>\n",
              "      <td>5022</td>\n",
              "      <td>7192</td>\n",
              "      <td>Manhattan</td>\n",
              "      <td>East Harlem</td>\n",
              "      <td>40.79851</td>\n",
              "      <td>-73.94399</td>\n",
              "      <td>Entire home/apt</td>\n",
              "      <td>80</td>\n",
              "      <td>10</td>\n",
              "      <td>9</td>\n",
              "      <td>0.10</td>\n",
              "      <td>1</td>\n",
              "      <td>0</td>\n",
              "    </tr>\n",
              "  </tbody>\n",
              "</table>\n",
              "</div>\n",
              "      <button class=\"colab-df-convert\" onclick=\"convertToInteractive('df-4260b9c4-d91e-4ee4-8889-57246e115352')\"\n",
              "              title=\"Convert this dataframe to an interactive table.\"\n",
              "              style=\"display:none;\">\n",
              "        \n",
              "  <svg xmlns=\"http://www.w3.org/2000/svg\" height=\"24px\"viewBox=\"0 0 24 24\"\n",
              "       width=\"24px\">\n",
              "    <path d=\"M0 0h24v24H0V0z\" fill=\"none\"/>\n",
              "    <path d=\"M18.56 5.44l.94 2.06.94-2.06 2.06-.94-2.06-.94-.94-2.06-.94 2.06-2.06.94zm-11 1L8.5 8.5l.94-2.06 2.06-.94-2.06-.94L8.5 2.5l-.94 2.06-2.06.94zm10 10l.94 2.06.94-2.06 2.06-.94-2.06-.94-.94-2.06-.94 2.06-2.06.94z\"/><path d=\"M17.41 7.96l-1.37-1.37c-.4-.4-.92-.59-1.43-.59-.52 0-1.04.2-1.43.59L10.3 9.45l-7.72 7.72c-.78.78-.78 2.05 0 2.83L4 21.41c.39.39.9.59 1.41.59.51 0 1.02-.2 1.41-.59l7.78-7.78 2.81-2.81c.8-.78.8-2.07 0-2.86zM5.41 20L4 18.59l7.72-7.72 1.47 1.35L5.41 20z\"/>\n",
              "  </svg>\n",
              "      </button>\n",
              "      \n",
              "  <style>\n",
              "    .colab-df-container {\n",
              "      display:flex;\n",
              "      flex-wrap:wrap;\n",
              "      gap: 12px;\n",
              "    }\n",
              "\n",
              "    .colab-df-convert {\n",
              "      background-color: #E8F0FE;\n",
              "      border: none;\n",
              "      border-radius: 50%;\n",
              "      cursor: pointer;\n",
              "      display: none;\n",
              "      fill: #1967D2;\n",
              "      height: 32px;\n",
              "      padding: 0 0 0 0;\n",
              "      width: 32px;\n",
              "    }\n",
              "\n",
              "    .colab-df-convert:hover {\n",
              "      background-color: #E2EBFA;\n",
              "      box-shadow: 0px 1px 2px rgba(60, 64, 67, 0.3), 0px 1px 3px 1px rgba(60, 64, 67, 0.15);\n",
              "      fill: #174EA6;\n",
              "    }\n",
              "\n",
              "    [theme=dark] .colab-df-convert {\n",
              "      background-color: #3B4455;\n",
              "      fill: #D2E3FC;\n",
              "    }\n",
              "\n",
              "    [theme=dark] .colab-df-convert:hover {\n",
              "      background-color: #434B5C;\n",
              "      box-shadow: 0px 1px 3px 1px rgba(0, 0, 0, 0.15);\n",
              "      filter: drop-shadow(0px 1px 2px rgba(0, 0, 0, 0.3));\n",
              "      fill: #FFFFFF;\n",
              "    }\n",
              "  </style>\n",
              "\n",
              "      <script>\n",
              "        const buttonEl =\n",
              "          document.querySelector('#df-4260b9c4-d91e-4ee4-8889-57246e115352 button.colab-df-convert');\n",
              "        buttonEl.style.display =\n",
              "          google.colab.kernel.accessAllowed ? 'block' : 'none';\n",
              "\n",
              "        async function convertToInteractive(key) {\n",
              "          const element = document.querySelector('#df-4260b9c4-d91e-4ee4-8889-57246e115352');\n",
              "          const dataTable =\n",
              "            await google.colab.kernel.invokeFunction('convertToInteractive',\n",
              "                                                     [key], {});\n",
              "          if (!dataTable) return;\n",
              "\n",
              "          const docLinkHtml = 'Like what you see? Visit the ' +\n",
              "            '<a target=\"_blank\" href=https://colab.research.google.com/notebooks/data_table.ipynb>data table notebook</a>'\n",
              "            + ' to learn more about interactive tables.';\n",
              "          element.innerHTML = '';\n",
              "          dataTable['output_type'] = 'display_data';\n",
              "          await google.colab.output.renderOutput(dataTable, element);\n",
              "          const docLink = document.createElement('div');\n",
              "          docLink.innerHTML = docLinkHtml;\n",
              "          element.appendChild(docLink);\n",
              "        }\n",
              "      </script>\n",
              "    </div>\n",
              "  </div>\n",
              "  "
            ],
            "text/plain": [
              "     id  host_id  ... calculated_host_listings_count availability_365\n",
              "0  2539     2787  ...                              6              365\n",
              "1  2595     2845  ...                              2              355\n",
              "2  3647     4632  ...                              1              365\n",
              "3  3831     4869  ...                              1              194\n",
              "4  5022     7192  ...                              1                0\n",
              "\n",
              "[5 rows x 13 columns]"
            ]
          },
          "metadata": {},
          "execution_count": 45
        }
      ],
      "source": [
        "#----------------------Block 12----------------------------------\n",
        "\n",
        "\n",
        "airbnbNY_data.head()  # data check for column rename "
      ]
    },
    {
      "cell_type": "markdown",
      "metadata": {
        "id": "MjGvXAaU4Vyh"
      },
      "source": [
        "###**Lets look into how hosting is divided among these boroughs**"
      ]
    },
    {
      "cell_type": "code",
      "execution_count": null,
      "metadata": {
        "colab": {
          "base_uri": "https://localhost:8080/"
        },
        "id": "VCCs7PTRG0lL",
        "outputId": "385f4ec3-ef96-4d44-e95d-d1a0bd51311e"
      },
      "outputs": [
        {
          "output_type": "execute_result",
          "data": {
            "text/plain": [
              "Manhattan        21661\n",
              "Brooklyn         20104\n",
              "Queens            5666\n",
              "Bronx             1091\n",
              "Staten Island      373\n",
              "Name: borough, dtype: int64"
            ]
          },
          "metadata": {},
          "execution_count": 46
        }
      ],
      "source": [
        "#----------------------Block 13----------------------------------\n",
        "\n",
        "#checking for the observations under each borough\n",
        "borough_hositing = airbnbNY_data['borough'].value_counts().sort_values(ascending=False)\n",
        "borough_hositing"
      ]
    },
    {
      "cell_type": "code",
      "execution_count": null,
      "metadata": {
        "colab": {
          "base_uri": "https://localhost:8080/",
          "height": 441
        },
        "id": "RkLK0wJAHhCm",
        "outputId": "d6a83e0e-c26e-4b25-b7d6-b990ca9948e1"
      },
      "outputs": [
        {
          "output_type": "display_data",
          "data": {
            "image/png": "[encoded data removed]",
            "text/plain": [
              "<Figure size 1152x432 with 2 Axes>"
            ]
          },
          "metadata": {
            "needs_background": "light"
          }
        }
      ],
      "source": [
        "#----------------------Block 14----------------------------------\n",
        "\n",
        "#plotting the above found details\n",
        "fig,axes= plt.subplots(1,2,figsize=(16,6))\n",
        "borough_hositing.plot.pie(autopct = '%1.2f%%', ax = axes[0]) #pie plot\n",
        "axes[0].set_title('Percentage split of hostings \\n among each borough')  # title for pie plot\n",
        "axes[0].legend()\n",
        "borough_hositing.plot.bar(ax = axes[1],color=['blue','orange','green','red','purple'])  #bar plot\n",
        "axes[1].set_title('Number of hostings among different boroughs')  # title for bar plot\n",
        "axes[1].set(ylabel='No. of hostings', xlabel='Boroughs')   # labelling y and x axis\n",
        "fig.tight_layout() #for creating proper spacing and arrangement among different figures on canvas"
      ]
    },
    {
      "cell_type": "markdown",
      "metadata": {
        "id": "HU8OidukLRmn"
      },
      "source": [
        "*From above charts we can see that major no. of hostings are from Brooklyn and Manhattan from this listing of airbnb New York city whereas Staten Island and Bronx are way too less populous in terms of hostings.*\n",
        "\n",
        "*Actually Manhattan is one of  the most attracted tourism borough in New York called to be as a heart of New York city and Brooklyn follows after Manhattan and also it is most populous borough that is one of the strong reason for Brooklyn and Manhattan to be dominating in terms of hostings.* \n"
      ]
    },
    {
      "cell_type": "markdown",
      "metadata": {
        "id": "2koBHFHS1Kup"
      },
      "source": [
        "###**Checking for some of the top neighbourhoods and to which borough they belong**\n",
        "\n",
        "\n",
        "\n",
        "\n",
        "*Note : We are qualifying neighbourhood as top on the basis of number of hostings.*\n",
        "\n"
      ]
    },
    {
      "cell_type": "code",
      "execution_count": null,
      "metadata": {
        "colab": {
          "base_uri": "https://localhost:8080/",
          "height": 676
        },
        "id": "mIEZsnXP1ZJb",
        "outputId": "15a4c95e-94b1-46f7-9a54-545c50a55a02"
      },
      "outputs": [
        {
          "output_type": "execute_result",
          "data": {
            "text/html": [
              "\n",
              "  <div id=\"df-133db4a2-4bed-494f-a650-736eb3e98860\">\n",
              "    <div class=\"colab-df-container\">\n",
              "      <div>\n",
              "<style scoped>\n",
              "    .dataframe tbody tr th:only-of-type {\n",
              "        vertical-align: middle;\n",
              "    }\n",
              "\n",
              "    .dataframe tbody tr th {\n",
              "        vertical-align: top;\n",
              "    }\n",
              "\n",
              "    .dataframe thead th {\n",
              "        text-align: right;\n",
              "    }\n",
              "</style>\n",
              "<table border=\"1\" class=\"dataframe\">\n",
              "  <thead>\n",
              "    <tr style=\"text-align: right;\">\n",
              "      <th></th>\n",
              "      <th>borough</th>\n",
              "      <th>neighbourhood</th>\n",
              "      <th>num of hostings</th>\n",
              "    </tr>\n",
              "  </thead>\n",
              "  <tbody>\n",
              "    <tr>\n",
              "      <th>0</th>\n",
              "      <td>Brooklyn</td>\n",
              "      <td>Williamsburg</td>\n",
              "      <td>3920</td>\n",
              "    </tr>\n",
              "    <tr>\n",
              "      <th>1</th>\n",
              "      <td>Brooklyn</td>\n",
              "      <td>Bedford-Stuyvesant</td>\n",
              "      <td>3714</td>\n",
              "    </tr>\n",
              "    <tr>\n",
              "      <th>2</th>\n",
              "      <td>Manhattan</td>\n",
              "      <td>Harlem</td>\n",
              "      <td>2658</td>\n",
              "    </tr>\n",
              "    <tr>\n",
              "      <th>3</th>\n",
              "      <td>Brooklyn</td>\n",
              "      <td>Bushwick</td>\n",
              "      <td>2465</td>\n",
              "    </tr>\n",
              "    <tr>\n",
              "      <th>4</th>\n",
              "      <td>Manhattan</td>\n",
              "      <td>Upper West Side</td>\n",
              "      <td>1971</td>\n",
              "    </tr>\n",
              "    <tr>\n",
              "      <th>5</th>\n",
              "      <td>Manhattan</td>\n",
              "      <td>Hell's Kitchen</td>\n",
              "      <td>1958</td>\n",
              "    </tr>\n",
              "    <tr>\n",
              "      <th>6</th>\n",
              "      <td>Manhattan</td>\n",
              "      <td>East Village</td>\n",
              "      <td>1853</td>\n",
              "    </tr>\n",
              "    <tr>\n",
              "      <th>7</th>\n",
              "      <td>Manhattan</td>\n",
              "      <td>Upper East Side</td>\n",
              "      <td>1798</td>\n",
              "    </tr>\n",
              "    <tr>\n",
              "      <th>8</th>\n",
              "      <td>Brooklyn</td>\n",
              "      <td>Crown Heights</td>\n",
              "      <td>1564</td>\n",
              "    </tr>\n",
              "    <tr>\n",
              "      <th>9</th>\n",
              "      <td>Manhattan</td>\n",
              "      <td>Midtown</td>\n",
              "      <td>1545</td>\n",
              "    </tr>\n",
              "    <tr>\n",
              "      <th>10</th>\n",
              "      <td>Manhattan</td>\n",
              "      <td>East Harlem</td>\n",
              "      <td>1117</td>\n",
              "    </tr>\n",
              "    <tr>\n",
              "      <th>11</th>\n",
              "      <td>Brooklyn</td>\n",
              "      <td>Greenpoint</td>\n",
              "      <td>1115</td>\n",
              "    </tr>\n",
              "    <tr>\n",
              "      <th>12</th>\n",
              "      <td>Manhattan</td>\n",
              "      <td>Chelsea</td>\n",
              "      <td>1113</td>\n",
              "    </tr>\n",
              "    <tr>\n",
              "      <th>13</th>\n",
              "      <td>Manhattan</td>\n",
              "      <td>Lower East Side</td>\n",
              "      <td>911</td>\n",
              "    </tr>\n",
              "    <tr>\n",
              "      <th>14</th>\n",
              "      <td>Queens</td>\n",
              "      <td>Astoria</td>\n",
              "      <td>900</td>\n",
              "    </tr>\n",
              "    <tr>\n",
              "      <th>15</th>\n",
              "      <td>Manhattan</td>\n",
              "      <td>Washington Heights</td>\n",
              "      <td>899</td>\n",
              "    </tr>\n",
              "    <tr>\n",
              "      <th>16</th>\n",
              "      <td>Manhattan</td>\n",
              "      <td>West Village</td>\n",
              "      <td>768</td>\n",
              "    </tr>\n",
              "    <tr>\n",
              "      <th>17</th>\n",
              "      <td>Manhattan</td>\n",
              "      <td>Financial District</td>\n",
              "      <td>744</td>\n",
              "    </tr>\n",
              "    <tr>\n",
              "      <th>18</th>\n",
              "      <td>Brooklyn</td>\n",
              "      <td>Flatbush</td>\n",
              "      <td>621</td>\n",
              "    </tr>\n",
              "    <tr>\n",
              "      <th>19</th>\n",
              "      <td>Brooklyn</td>\n",
              "      <td>Clinton Hill</td>\n",
              "      <td>572</td>\n",
              "    </tr>\n",
              "  </tbody>\n",
              "</table>\n",
              "</div>\n",
              "      <button class=\"colab-df-convert\" onclick=\"convertToInteractive('df-133db4a2-4bed-494f-a650-736eb3e98860')\"\n",
              "              title=\"Convert this dataframe to an interactive table.\"\n",
              "              style=\"display:none;\">\n",
              "        \n",
              "  <svg xmlns=\"http://www.w3.org/2000/svg\" height=\"24px\"viewBox=\"0 0 24 24\"\n",
              "       width=\"24px\">\n",
              "    <path d=\"M0 0h24v24H0V0z\" fill=\"none\"/>\n",
              "    <path d=\"M18.56 5.44l.94 2.06.94-2.06 2.06-.94-2.06-.94-.94-2.06-.94 2.06-2.06.94zm-11 1L8.5 8.5l.94-2.06 2.06-.94-2.06-.94L8.5 2.5l-.94 2.06-2.06.94zm10 10l.94 2.06.94-2.06 2.06-.94-2.06-.94-.94-2.06-.94 2.06-2.06.94z\"/><path d=\"M17.41 7.96l-1.37-1.37c-.4-.4-.92-.59-1.43-.59-.52 0-1.04.2-1.43.59L10.3 9.45l-7.72 7.72c-.78.78-.78 2.05 0 2.83L4 21.41c.39.39.9.59 1.41.59.51 0 1.02-.2 1.41-.59l7.78-7.78 2.81-2.81c.8-.78.8-2.07 0-2.86zM5.41 20L4 18.59l7.72-7.72 1.47 1.35L5.41 20z\"/>\n",
              "  </svg>\n",
              "      </button>\n",
              "      \n",
              "  <style>\n",
              "    .colab-df-container {\n",
              "      display:flex;\n",
              "      flex-wrap:wrap;\n",
              "      gap: 12px;\n",
              "    }\n",
              "\n",
              "    .colab-df-convert {\n",
              "      background-color: #E8F0FE;\n",
              "      border: none;\n",
              "      border-radius: 50%;\n",
              "      cursor: pointer;\n",
              "      display: none;\n",
              "      fill: #1967D2;\n",
              "      height: 32px;\n",
              "      padding: 0 0 0 0;\n",
              "      width: 32px;\n",
              "    }\n",
              "\n",
              "    .colab-df-convert:hover {\n",
              "      background-color: #E2EBFA;\n",
              "      box-shadow: 0px 1px 2px rgba(60, 64, 67, 0.3), 0px 1px 3px 1px rgba(60, 64, 67, 0.15);\n",
              "      fill: #174EA6;\n",
              "    }\n",
              "\n",
              "    [theme=dark] .colab-df-convert {\n",
              "      background-color: #3B4455;\n",
              "      fill: #D2E3FC;\n",
              "    }\n",
              "\n",
              "    [theme=dark] .colab-df-convert:hover {\n",
              "      background-color: #434B5C;\n",
              "      box-shadow: 0px 1px 3px 1px rgba(0, 0, 0, 0.15);\n",
              "      filter: drop-shadow(0px 1px 2px rgba(0, 0, 0, 0.3));\n",
              "      fill: #FFFFFF;\n",
              "    }\n",
              "  </style>\n",
              "\n",
              "      <script>\n",
              "        const buttonEl =\n",
              "          document.querySelector('#df-133db4a2-4bed-494f-a650-736eb3e98860 button.colab-df-convert');\n",
              "        buttonEl.style.display =\n",
              "          google.colab.kernel.accessAllowed ? 'block' : 'none';\n",
              "\n",
              "        async function convertToInteractive(key) {\n",
              "          const element = document.querySelector('#df-133db4a2-4bed-494f-a650-736eb3e98860');\n",
              "          const dataTable =\n",
              "            await google.colab.kernel.invokeFunction('convertToInteractive',\n",
              "                                                     [key], {});\n",
              "          if (!dataTable) return;\n",
              "\n",
              "          const docLinkHtml = 'Like what you see? Visit the ' +\n",
              "            '<a target=\"_blank\" href=https://colab.research.google.com/notebooks/data_table.ipynb>data table notebook</a>'\n",
              "            + ' to learn more about interactive tables.';\n",
              "          element.innerHTML = '';\n",
              "          dataTable['output_type'] = 'display_data';\n",
              "          await google.colab.output.renderOutput(dataTable, element);\n",
              "          const docLink = document.createElement('div');\n",
              "          docLink.innerHTML = docLinkHtml;\n",
              "          element.appendChild(docLink);\n",
              "        }\n",
              "      </script>\n",
              "    </div>\n",
              "  </div>\n",
              "  "
            ],
            "text/plain": [
              "      borough       neighbourhood  num of hostings\n",
              "0    Brooklyn        Williamsburg             3920\n",
              "1    Brooklyn  Bedford-Stuyvesant             3714\n",
              "2   Manhattan              Harlem             2658\n",
              "3    Brooklyn            Bushwick             2465\n",
              "4   Manhattan     Upper West Side             1971\n",
              "5   Manhattan      Hell's Kitchen             1958\n",
              "6   Manhattan        East Village             1853\n",
              "7   Manhattan     Upper East Side             1798\n",
              "8    Brooklyn       Crown Heights             1564\n",
              "9   Manhattan             Midtown             1545\n",
              "10  Manhattan         East Harlem             1117\n",
              "11   Brooklyn          Greenpoint             1115\n",
              "12  Manhattan             Chelsea             1113\n",
              "13  Manhattan     Lower East Side              911\n",
              "14     Queens             Astoria              900\n",
              "15  Manhattan  Washington Heights              899\n",
              "16  Manhattan        West Village              768\n",
              "17  Manhattan  Financial District              744\n",
              "18   Brooklyn            Flatbush              621\n",
              "19   Brooklyn        Clinton Hill              572"
            ]
          },
          "metadata": {},
          "execution_count": 48
        }
      ],
      "source": [
        "#----------------------Block 15----------------------------------\n",
        "\n",
        "#grouping observation on borough first and then on neighbourhood and then picking up their count\n",
        "top_20_neighbourhood = airbnbNY_data.groupby(['borough','neighbourhood']).agg({'id':'count'}).sort_values(by='id',ascending=False)[0:20].reset_index()\n",
        "top_20_neighbourhood.rename(columns={'id':'num of hostings'},inplace=True)\n",
        "top_20_neighbourhood"
      ]
    },
    {
      "cell_type": "code",
      "execution_count": null,
      "metadata": {
        "colab": {
          "base_uri": "https://localhost:8080/",
          "height": 566
        },
        "id": "RwbDDRDn2EQ7",
        "outputId": "d9b87f55-a121-4d4c-989f-a4b0e24c0ff4"
      },
      "outputs": [
        {
          "output_type": "stream",
          "name": "stdout",
          "text": [
            "{'Queens': 'darkslategray', 'Brooklyn': 'teal', 'Manhattan': 'darkturquoise'}\n"
          ]
        },
        {
          "output_type": "display_data",
          "data": {
            "image/png": "[encoded data removed]",
            "text/plain": [
              "<Figure size 1080x504 with 1 Axes>"
            ]
          },
          "metadata": {
            "needs_background": "light"
          }
        }
      ],
      "source": [
        "#----------------------Block 16----------------------------------\n",
        "\n",
        "#visualising the same\n",
        "plt.figure(figsize=(15,7))\n",
        "from matplotlib.lines import Line2D\n",
        "borough_dict = {} #initialising an empty dictionary to store the colour representation of boroughs\n",
        "unique_borough = set(list(top_20_neighbourhood['borough']))\n",
        "borough_list = list(top_20_neighbourhood['borough'])\n",
        "color_list=[] #initialising an empty list for storing the colour of each bar in bar plot\n",
        "color=['darkslategray','teal','darkturquoise']\n",
        "index=0\n",
        "for borough in unique_borough:\n",
        "  borough_dict[borough] =color[index] #assigning unique colour that represents each borough\n",
        "  index=index+1\n",
        "for borough in borough_list:   \n",
        "       color_list.append(borough_dict[borough]) #storing the colour of each bar of bar plot in color_list\n",
        "plt.bar(top_20_neighbourhood['neighbourhood'],top_20_neighbourhood['num of hostings'],color=color_list) #plotting a bar plot\n",
        "# creating a custom labels for a graph\n",
        "labels = list(borough_dict.keys())\n",
        "custom_lines = [Line2D([1,2,5,5], [1,2,5,5], color='darkslategray', lw=4),\n",
        "                Line2D([1,2,5,5], [1,2,5,5], color='teal', lw=4),\n",
        "                Line2D([1,2,5,5], [1,2,5,5], color='darkturquoise', lw=4)]\n",
        "plt.xticks(rotation = 90)\n",
        "plt.legend(custom_lines,labels)\n",
        "plt.xlabel('neighbourhood')\n",
        "plt.ylabel('Number of hosts')\n",
        "plt.title(\"Top 20 neighbourhoods in terms of number of hostings\")"
      ]
    },
    {
      "cell_type": "markdown",
      "metadata": {
        "id": "UxqeDuAf2qR1"
      },
      "source": [
        "*From the above graph we can see that :*\n",
        "\n",
        "* Among top 20 neighbourhoods most of these neighbourhood belongs to Manhattan borough.\n",
        "*Although If looking for top 3 densely hosted neighbourhood top 2 belongs to Brooklyn."
      ]
    },
    {
      "cell_type": "markdown",
      "metadata": {
        "id": "J9WtOOV7OrfB"
      },
      "source": [
        "###**Neighbourhoods each borough have**"
      ]
    },
    {
      "cell_type": "code",
      "execution_count": null,
      "metadata": {
        "colab": {
          "base_uri": "https://localhost:8080/",
          "height": 460
        },
        "id": "9JhD4v4LOxfi",
        "outputId": "1ff74cc0-e52e-4e1b-dc8a-075032245f21"
      },
      "outputs": [
        {
          "output_type": "display_data",
          "data": {
            "image/png": "[encoded data removed]",
            "text/plain": [
              "<Figure size 720x432 with 1 Axes>"
            ]
          },
          "metadata": {
            "needs_background": "light"
          }
        }
      ],
      "source": [
        "#----------------------Block 17----------------------------------\n",
        "\n",
        "fig = plt.figure(figsize=(10,6)) #defining figure\n",
        "ngbrhood = airbnbNY_data.groupby('borough')['neighbourhood'].nunique().sort_values(ascending=False) # number of unique neighbourhoods in each borough\n",
        "ngbrhood.plot.bar(color='orange')  # bar plot\n",
        "plt.ylabel('No. of neighbourhoods')\n",
        "plt.title('Number of neighbourhoods in each borough')\n",
        "for ind, val in enumerate(ngbrhood):\n",
        "  plt.text(x = ind, y =val+1, s = str(val))  #plotting the numbers over the bar"
      ]
    },
    {
      "cell_type": "markdown",
      "metadata": {
        "id": "B8SAV391UL8S"
      },
      "source": [
        "*Although Mahnhattan and Brooklyn have most no. of hostings but in terms of neighbourhood they are quite back.*\n",
        "\n",
        "*Reason for it can be Manhattan and Brooklyn have most tourist places and many hostings has been bunched around under same neigbourhood. Thus having most hostings without having much of neighbourhoods.*"
      ]
    },
    {
      "cell_type": "markdown",
      "metadata": {
        "id": "uX-Vzw98Vr-m"
      },
      "source": [
        "###**Lets look for the price distribution in each boroughs**"
      ]
    },
    {
      "cell_type": "code",
      "execution_count": null,
      "metadata": {
        "colab": {
          "base_uri": "https://localhost:8080/",
          "height": 1000
        },
        "id": "2Bce7OmqV0jT",
        "outputId": "8e469e15-0c57-452a-ccc8-8bd61f3d1dad"
      },
      "outputs": [
        {
          "output_type": "display_data",
          "data": {
            "image/png": "[encoded data removed]",
            "text/plain": [
              "<Figure size 360x360 with 1 Axes>"
            ]
          },
          "metadata": {
            "needs_background": "light"
          }
        },
        {
          "output_type": "display_data",
          "data": {
            "image/png": "[encoded data removed]",
            "text/plain": [
              "<Figure size 360x360 with 1 Axes>"
            ]
          },
          "metadata": {
            "needs_background": "light"
          }
        },
        {
          "output_type": "display_data",
          "data": {
            "image/png": "[encoded data removed]",
            "text/plain": [
              "<Figure size 360x360 with 1 Axes>"
            ]
          },
          "metadata": {
            "needs_background": "light"
          }
        },
        {
          "output_type": "display_data",
          "data": {
            "image/png": "[encoded data removed]",
            "text/plain": [
              "<Figure size 360x360 with 1 Axes>"
            ]
          },
          "metadata": {
            "needs_background": "light"
          }
        },
        {
          "output_type": "display_data",
          "data": {
            "image/png": "[encoded data removed]",
            "text/plain": [
              "<Figure size 360x360 with 1 Axes>"
            ]
          },
          "metadata": {
            "needs_background": "light"
          }
        }
      ],
      "source": [
        "#----------------------Block 18----------------------------------\n",
        "\n",
        "boroughs = set(list(airbnbNY_data['borough'])) # storing distinct boroughs\n",
        "for borough in boroughs:\n",
        "  fig = plt.figure(figsize=(5,5))\n",
        "  axs = fig.gca()  # gca--> get current axis\n",
        "  price_dist = list(airbnbNY_data[airbnbNY_data['borough']== borough]['price'])# list of price for each borough\n",
        "  price_dist = [price for price in price_dist if price < 600] # Limiting price value to 600 to avoid outliers that limits our visualisation\n",
        "  axs.set_title(borough)\n",
        "  sns.distplot(price_dist, ax=axs,color='green')  #distribution plot"
      ]
    },
    {
      "cell_type": "markdown",
      "metadata": {
        "id": "GLVz2kxoaqj-"
      },
      "source": [
        "*Note as told earlier as needed here we have done an outlier treatment.*\n",
        "\n",
        "*Even after removing outliers still the data is bit skewed. We can further decrease the threshold of price also.*\n",
        "\n",
        "*For Manhattan price range mostly varies between 80-250 approx.*\n",
        "\n",
        "*For Brooklyn price range mostly varies between 40-110 approx.*\n",
        "\n",
        "*For Bronx its quite low and somewhere limits between 30-80.*\n",
        "\n",
        "*Staten Island and Queens is quite similar and is somewhere ends up nearby or less than 100.*\n",
        "\n",
        "*Note : Prices are heavily influenced by the outliers .I have set an threshold of price 600 in order to avoid outlier so that we can visualize the range better.*"
      ]
    },
    {
      "cell_type": "markdown",
      "metadata": {
        "id": "UaoLf-TzDaws"
      },
      "source": [
        "###**Lets check how does an average price varies in each borough**"
      ]
    },
    {
      "cell_type": "code",
      "execution_count": null,
      "metadata": {
        "colab": {
          "base_uri": "https://localhost:8080/",
          "height": 460
        },
        "id": "Iz67aL3h2Occ",
        "outputId": "c872b19b-39eb-4314-c94c-897d550ce3cb"
      },
      "outputs": [
        {
          "output_type": "display_data",
          "data": {
            "image/png": "[encoded data removed]",
            "text/plain": [
              "<Figure size 720x432 with 1 Axes>"
            ]
          },
          "metadata": {
            "needs_background": "light"
          }
        }
      ],
      "source": [
        "#----------------------Block 19----------------------------------\n",
        "\n",
        "fig= plt.figure(figsize=(10,6))\n",
        "axes = fig.gca()\n",
        "avgprice_df = airbnbNY_data[airbnbNY_data['price']<600]  # creating sub dataframe with price less than 600\n",
        "avgprice_borough = avgprice_df.groupby('borough').agg({'price':'mean'}).sort_values(by='price',ascending = False)#grouping by borough and averaging out by price\n",
        "avgprice_borough.plot.bar(ax = axes)  # bar plot\n",
        "plt.title('Average Pricing in each borough')\n",
        "avgprice = list(np.around(avgprice_borough.values.reshape(5,))) #rounding up and storing average price of each borough in a list\n",
        "axes.set_ylabel('average price')\n",
        "for ind, val in enumerate(avgprice):\n",
        "  axes.text(x = ind, y =val+3, s = str(val))"
      ]
    },
    {
      "cell_type": "markdown",
      "metadata": {
        "id": "AxOCeeUPJTEt"
      },
      "source": [
        "* Manhattan is one of the borough that charges quite high for hostings followed by Brooklyn.\n",
        "\n",
        "* Manhattan include most of the tourist places including Times Square that can be the reason of this price hikes.\n"
      ]
    },
    {
      "cell_type": "markdown",
      "metadata": {
        "id": "7cH6wYUHLOR4"
      },
      "source": [
        "###**Lets check the same in terms of price for each neighbourhood**"
      ]
    },
    {
      "cell_type": "code",
      "execution_count": null,
      "metadata": {
        "colab": {
          "base_uri": "https://localhost:8080/",
          "height": 495
        },
        "id": "-gPhtoEmEI0P",
        "outputId": "bbeb9d0c-87b4-4122-8640-6f01c6cff37a"
      },
      "outputs": [
        {
          "output_type": "execute_result",
          "data": {
            "text/plain": [
              "Text(0.5, 1.0, '10 Neighbourhoods having highest average prices')"
            ]
          },
          "metadata": {},
          "execution_count": 39
        },
        {
          "output_type": "display_data",
          "data": {
            "image/png": "[encoded data removed]",
            "text/plain": [
              "<Figure size 1080x432 with 1 Axes>"
            ]
          },
          "metadata": {
            "needs_background": "light"
          }
        }
      ],
      "source": [
        "#----------------------Block 20----------------------------------\n",
        "\n",
        "#Seperating out the top 10 neighbourhoods with highest average charges\n",
        "avgprice_neighbourhood = airbnbNY_data.groupby(['borough','neighbourhood']).agg({'price':'mean'}).reset_index().sort_values(by='price',ascending=False)[0:10]\n",
        "plt.figure(figsize=(15,6))\n",
        "borough_dict = {}   #dictionary to store unique borough and color label associated with it \n",
        "unique_borough = set(list(avgprice_neighbourhood['borough']))  # seperating out the unique borough names from sub dataframe\n",
        "borough_list = list(avgprice_neighbourhood['borough'])  #listing out all observations boroughs from sub dataframe\n",
        "color_list=[]  # list to store the color associated with bar plots\n",
        "color=['bisque','cyan','pink','lavender','red']\n",
        "index=0 \n",
        "for borough in unique_borough:\n",
        "  borough_dict[borough] =color[index]\n",
        "  index=index+1\n",
        "for borough in borough_list:   \n",
        "       color_list.append(borough_dict[borough])\n",
        "plt.bar(avgprice_neighbourhood['neighbourhood'],avgprice_neighbourhood['price'],color=color_list)\n",
        "labels = list(borough_dict.keys())\n",
        "custom_lines = [Line2D([0], [0], color='bisque', lw=4),  # custom limes for label of bar graph \n",
        "                Line2D([0], [0], color='cyan', lw=4),\n",
        "                Line2D([0], [0], color='pink', lw=4),\n",
        "                Line2D([0], [0], color='lavender', lw=4),\n",
        "                Line2D([0], [0], color='red', lw=4)]\n",
        "plt.xticks(rotation = 90)\n",
        "plt.legend(custom_lines,labels)\n",
        "plt.xlabel('neighbourhood')\n",
        "plt.ylabel('Average Price')\n",
        "plt.title(\"10 Neighbourhoods having highest average prices\")"
      ]
    },
    {
      "cell_type": "markdown",
      "metadata": {
        "id": "iKACOXzFi479"
      },
      "source": [
        "*Staten Islands neighbourhoods seems to have some of the top chargable rentals and Manhattan follows them. Although from our previous analysis it seems that Manhattan is one of the expensive borough but still We have to investigate it a bit further as this might be the result of strong outliers as well. So lets visualize box plots for these 10 neighbourhoods to know if they actually have a higher prices or its just some strong outliers.*"
      ]
    },
    {
      "cell_type": "code",
      "execution_count": null,
      "metadata": {
        "id": "dYyMx_tjJ1wg"
      },
      "outputs": [],
      "source": [
        "#----------------------Block 21----------------------------------\n",
        "\n",
        "# nghbrhood function to segregate the dataframe only for top 10 neighbours\n",
        "def nghbrhood(col):\n",
        "  if col in neighbourhood_lst:\n",
        "    return True\n",
        "  else:\n",
        "    return False"
      ]
    },
    {
      "cell_type": "code",
      "execution_count": null,
      "metadata": {
        "colab": {
          "base_uri": "https://localhost:8080/",
          "height": 530
        },
        "id": "imiVfOEekt-_",
        "outputId": "76fd7802-507f-400b-8416-65d3417ce94a"
      },
      "outputs": [
        {
          "output_type": "execute_result",
          "data": {
            "text/plain": [
              "Text(0.5, 1.0, 'Price distribution in top 10 neighbourhoods')"
            ]
          },
          "metadata": {},
          "execution_count": 41
        },
        {
          "output_type": "display_data",
          "data": {
            "image/png": "[encoded data removed]",
            "text/plain": [
              "<Figure size 1080x576 with 1 Axes>"
            ]
          },
          "metadata": {
            "needs_background": "light"
          }
        }
      ],
      "source": [
        "#----------------------Block 22----------------------------------\n",
        "\n",
        "neighbourhood_lst = list(avgprice_neighbourhood['neighbourhood'])\n",
        "plt.figure(figsize=(15,8))\n",
        "df_nghbrhoodprice = airbnbNY_data[airbnbNY_data['neighbourhood'].apply(nghbrhood)]  #applying above defined function \n",
        "sns.boxplot(x='neighbourhood',y='price', data = df_nghbrhoodprice )  # boxplot\n",
        "plt.title('Price distribution in top 10 neighbourhoods')"
      ]
    },
    {
      "cell_type": "markdown",
      "metadata": {
        "id": "qPA6RPJrqLSb"
      },
      "source": [
        "*So as thought it seems that Fort Wadsworth and Woodrow doesn't have multiple entries they both only have one listing, Fort Wadsworth with price nearby 800 and Woodsrow having a price nearby 700.*\n",
        "\n",
        "*Whereas Tribeca, Flatiron district and battery part city is heavily influenced by the outliers.*\n",
        "\n",
        "*Prince's bay and River Dales are the ones that doesnt seems to be affected by the outlier and in general have higher prices.*\n",
        "\n",
        "*Lets see if we try with the threshold price of 600 how does result varies.*"
      ]
    },
    {
      "cell_type": "code",
      "execution_count": null,
      "metadata": {
        "colab": {
          "base_uri": "https://localhost:8080/",
          "height": 494
        },
        "id": "18unz6abrovU",
        "outputId": "79cce9bb-bd58-486b-ecfe-ed6a3265b1bd"
      },
      "outputs": [
        {
          "output_type": "execute_result",
          "data": {
            "text/plain": [
              "Text(0.5, 1.0, '10 Neighbourhoods having highest average prices')"
            ]
          },
          "metadata": {},
          "execution_count": 42
        },
        {
          "output_type": "display_data",
          "data": {
            "image/png": "[encoded data removed]",
            "text/plain": [
              "<Figure size 1080x432 with 1 Axes>"
            ]
          },
          "metadata": {
            "needs_background": "light"
          }
        }
      ],
      "source": [
        "#----------------------Block 23----------------------------------\n",
        "\n",
        "#Seperating out the top 10 neighbourhoods with highest average charges having price threshold 600\n",
        "avgprice_neighbourhood = avgprice_df.groupby(['borough','neighbourhood']).agg({'price':'mean'}).reset_index().sort_values(by='price',ascending=False)[0:10]\n",
        "plt.figure(figsize=(15,6))\n",
        "borough_dict = {}   #dictionary to store unique borough and color label associated with it \n",
        "unique_borough = set(list(avgprice_neighbourhood['borough']))  # seperating out the unique borough names from sub dataframe\n",
        "borough_list = list(avgprice_neighbourhood['borough'])  #listing out all observations boroughs from sub dataframe\n",
        "color_list=[]  # list to store the color associated with bar plots\n",
        "color=['bisque','cyan','pink','blue','red']\n",
        "index=0\n",
        "for borough in unique_borough:\n",
        "  borough_dict[borough] =color[index]\n",
        "  index=index+1\n",
        "for borough in borough_list:   \n",
        "       color_list.append(borough_dict[borough])\n",
        "plt.bar(avgprice_neighbourhood['neighbourhood'],avgprice_neighbourhood['price'],color=color_list)\n",
        "labels = list(borough_dict.keys())\n",
        "custom_lines = [Line2D([0], [0], color='bisque', lw=4),  # custom limes for label of bar graph \n",
        "                Line2D([0], [0], color='cyan', lw=4),\n",
        "                Line2D([0], [0], color='pink', lw=4),\n",
        "                Line2D([0], [0], color='blue', lw=4),\n",
        "                Line2D([0], [0], color='red', lw=4)]\n",
        "plt.xticks(rotation = 90)\n",
        "plt.legend(custom_lines,labels)\n",
        "plt.xlabel('neighbourhood')\n",
        "plt.ylabel('Average Price')\n",
        "plt.title(\"10 Neighbourhoods having highest average prices\")"
      ]
    },
    {
      "cell_type": "code",
      "execution_count": null,
      "metadata": {
        "colab": {
          "base_uri": "https://localhost:8080/",
          "height": 530
        },
        "id": "ROC9V-pTr_r8",
        "outputId": "d1b5e5a6-8d36-4a1d-d768-b93c8a32a5f0"
      },
      "outputs": [
        {
          "output_type": "execute_result",
          "data": {
            "text/plain": [
              "Text(0.5, 1.0, 'Price distribution in top 10 neighbourhoods')"
            ]
          },
          "metadata": {},
          "execution_count": 43
        },
        {
          "output_type": "display_data",
          "data": {
            "image/png": "[encoded data removed]",
            "text/plain": [
              "<Figure size 1080x576 with 1 Axes>"
            ]
          },
          "metadata": {
            "needs_background": "light"
          }
        }
      ],
      "source": [
        "#----------------------Block 24----------------------------------\n",
        "neighbourhood_lst = list(avgprice_neighbourhood['neighbourhood'])\n",
        "plt.figure(figsize=(15,8))\n",
        "df_nghbrhoodprice = avgprice_df[avgprice_df['neighbourhood'].apply(nghbrhood)]  #applying above defined function \n",
        "sns.boxplot(x='neighbourhood',y='price', hue='borough',data = df_nghbrhoodprice)  # boxplot\n",
        "plt.title('Price distribution in top 10 neighbourhoods') #adding title to the plot"
      ]
    },
    {
      "cell_type": "markdown",
      "metadata": {
        "id": "9eAbiu0RxO2d"
      },
      "source": [
        "*As we have changed a price threshold to 600 picture changes pretty much thus these neighhbourhood prices are influenced by outliers. You can also try changing multiple threshold and can visualize how the graph and neighbourhood changes* "
      ]
    },
    {
      "cell_type": "markdown",
      "metadata": {
        "id": "og3TJmGzrnbI"
      },
      "source": [
        "###**We have played pretty much along with area and collected an info :**\n",
        "\n",
        "\n",
        "*1. Among all 5 boroughs Manhattans and Brooklyn are the ones who have most rentals. Manhattan is the most famous tourism borough and that is one of the reasons for most rentals.*\n",
        "\n",
        "*2. Although Manhattan dominates in no. of hostings but neighbourhoods of Brooklyn dominates on first 2 positions in among top 20 neighbourhoods. Still if we quantify the result than we see we have most number of Manhattan neighbourhoods tooks a place among top 20 neighbourhood.*\n",
        "\n",
        "*3. Williamsburg is a hip neighbourhood in Brooklyn that draws the young and the fashionable to its chic boutiques, trendy cafes and buzzy restaurants. Street art brightens residential thoroughfares and repurposed factories, while the waterfront provides stunning views of Manhattan and seasonal venues for outdoor concerts and food markets.*\n",
        "\n",
        "*4.Number of neighbourhood is highest in Queens and lowest in Manhattan still Manhattan has most no. of rentals.*\n",
        "\n",
        "*5. Due to this tourism factor average price of rentals is higher in Manhattan and after Manhattan Brooklyn follows it.*\n",
        "\n",
        "*6. Price data contains too many outliers, mostly the price of hotel saturates at max near 500-600 but we have some rentals charging as high as 10000. Thus creating a bias in average prices. We have tried to visualize the price data among different neighbourhoods and in that case also after outlier treatment out of top higest pricing neighbourhood 7 belongs to Manhattan.*\n"
      ]
    },
    {
      "cell_type": "markdown",
      "metadata": {
        "id": "fWi-17M2rw7x"
      },
      "source": [
        "##***2. Visualising and analysing about different room types***"
      ]
    },
    {
      "cell_type": "code",
      "execution_count": null,
      "metadata": {
        "colab": {
          "base_uri": "https://localhost:8080/"
        },
        "id": "GOq4jS2tonnm",
        "outputId": "5f878399-e96f-428b-98d4-eb9353a7f3d1"
      },
      "outputs": [
        {
          "output_type": "execute_result",
          "data": {
            "text/plain": [
              "array(['Private room', 'Entire home/apt', 'Shared room'], dtype=object)"
            ]
          },
          "metadata": {},
          "execution_count": 28
        }
      ],
      "source": [
        "#----------------------Block 25----------------------------------\n",
        "\n",
        "#unique room_type values \n",
        "airbnbNY_data['room_type'].unique()"
      ]
    },
    {
      "cell_type": "markdown",
      "source": [
        "###**Lets check the room type feature**"
      ],
      "metadata": {
        "id": "OHng0TcJ5EZy"
      }
    },
    {
      "cell_type": "code",
      "execution_count": null,
      "metadata": {
        "colab": {
          "base_uri": "https://localhost:8080/",
          "height": 492
        },
        "id": "mS1DtwhYwLwS",
        "outputId": "1ab66762-8d5a-4558-aefd-667309dba99f"
      },
      "outputs": [
        {
          "output_type": "execute_result",
          "data": {
            "text/plain": [
              "Text(0, 0.5, 'counts')"
            ]
          },
          "metadata": {},
          "execution_count": 29
        },
        {
          "output_type": "display_data",
          "data": {
            "image/png": "[encoded data removed]",
            "text/plain": [
              "<Figure size 720x432 with 1 Axes>"
            ]
          },
          "metadata": {
            "needs_background": "light"
          }
        }
      ],
      "source": [
        "#----------------------Block 26----------------------------------\n",
        "\n",
        "plt.rcParams['figure.figsize']=(10,6) #defining figure\n",
        "airbnbNY_data['room_type'].value_counts().plot.bar() # counts of each room type\n",
        "plt.title('Number of each roomtype rentals in a dataset')\n",
        "plt.xlabel('Room_type')\n",
        "plt.ylabel('counts')"
      ]
    },
    {
      "cell_type": "markdown",
      "metadata": {
        "id": "H0pa3LPF7MzG"
      },
      "source": [
        "*Mostly rentals are there for entire home or private rooms and just very few in case of shared room. Shared room might be not much prefered by visitiors.*"
      ]
    },
    {
      "cell_type": "markdown",
      "source": [
        "###**Lets check how room types are divided in each borough**"
      ],
      "metadata": {
        "id": "IfpLkbbokxEQ"
      }
    },
    {
      "cell_type": "code",
      "execution_count": null,
      "metadata": {
        "colab": {
          "base_uri": "https://localhost:8080/",
          "height": 268
        },
        "id": "eINkjBw04KT3",
        "outputId": "6c127dd1-73fb-4b6f-b1b9-fb42427598b5"
      },
      "outputs": [
        {
          "output_type": "execute_result",
          "data": {
            "text/html": [
              "\n",
              "  <div id=\"df-0a687430-7494-4704-b306-39f6007b7bb8\">\n",
              "    <div class=\"colab-df-container\">\n",
              "      <div>\n",
              "<style scoped>\n",
              "    .dataframe tbody tr th:only-of-type {\n",
              "        vertical-align: middle;\n",
              "    }\n",
              "\n",
              "    .dataframe tbody tr th {\n",
              "        vertical-align: top;\n",
              "    }\n",
              "\n",
              "    .dataframe thead tr th {\n",
              "        text-align: left;\n",
              "    }\n",
              "\n",
              "    .dataframe thead tr:last-of-type th {\n",
              "        text-align: right;\n",
              "    }\n",
              "</style>\n",
              "<table border=\"1\" class=\"dataframe\">\n",
              "  <thead>\n",
              "    <tr>\n",
              "      <th></th>\n",
              "      <th colspan=\"3\" halign=\"left\">room_type</th>\n",
              "    </tr>\n",
              "    <tr>\n",
              "      <th>room_type</th>\n",
              "      <th>Entire home/apt</th>\n",
              "      <th>Private room</th>\n",
              "      <th>Shared room</th>\n",
              "    </tr>\n",
              "    <tr>\n",
              "      <th>borough</th>\n",
              "      <th></th>\n",
              "      <th></th>\n",
              "      <th></th>\n",
              "    </tr>\n",
              "  </thead>\n",
              "  <tbody>\n",
              "    <tr>\n",
              "      <th>Bronx</th>\n",
              "      <td>379</td>\n",
              "      <td>652</td>\n",
              "      <td>60</td>\n",
              "    </tr>\n",
              "    <tr>\n",
              "      <th>Brooklyn</th>\n",
              "      <td>9559</td>\n",
              "      <td>10132</td>\n",
              "      <td>413</td>\n",
              "    </tr>\n",
              "    <tr>\n",
              "      <th>Manhattan</th>\n",
              "      <td>13199</td>\n",
              "      <td>7982</td>\n",
              "      <td>480</td>\n",
              "    </tr>\n",
              "    <tr>\n",
              "      <th>Queens</th>\n",
              "      <td>2096</td>\n",
              "      <td>3372</td>\n",
              "      <td>198</td>\n",
              "    </tr>\n",
              "    <tr>\n",
              "      <th>Staten Island</th>\n",
              "      <td>176</td>\n",
              "      <td>188</td>\n",
              "      <td>9</td>\n",
              "    </tr>\n",
              "  </tbody>\n",
              "</table>\n",
              "</div>\n",
              "      <button class=\"colab-df-convert\" onclick=\"convertToInteractive('df-0a687430-7494-4704-b306-39f6007b7bb8')\"\n",
              "              title=\"Convert this dataframe to an interactive table.\"\n",
              "              style=\"display:none;\">\n",
              "        \n",
              "  <svg xmlns=\"http://www.w3.org/2000/svg\" height=\"24px\"viewBox=\"0 0 24 24\"\n",
              "       width=\"24px\">\n",
              "    <path d=\"M0 0h24v24H0V0z\" fill=\"none\"/>\n",
              "    <path d=\"M18.56 5.44l.94 2.06.94-2.06 2.06-.94-2.06-.94-.94-2.06-.94 2.06-2.06.94zm-11 1L8.5 8.5l.94-2.06 2.06-.94-2.06-.94L8.5 2.5l-.94 2.06-2.06.94zm10 10l.94 2.06.94-2.06 2.06-.94-2.06-.94-.94-2.06-.94 2.06-2.06.94z\"/><path d=\"M17.41 7.96l-1.37-1.37c-.4-.4-.92-.59-1.43-.59-.52 0-1.04.2-1.43.59L10.3 9.45l-7.72 7.72c-.78.78-.78 2.05 0 2.83L4 21.41c.39.39.9.59 1.41.59.51 0 1.02-.2 1.41-.59l7.78-7.78 2.81-2.81c.8-.78.8-2.07 0-2.86zM5.41 20L4 18.59l7.72-7.72 1.47 1.35L5.41 20z\"/>\n",
              "  </svg>\n",
              "      </button>\n",
              "      \n",
              "  <style>\n",
              "    .colab-df-container {\n",
              "      display:flex;\n",
              "      flex-wrap:wrap;\n",
              "      gap: 12px;\n",
              "    }\n",
              "\n",
              "    .colab-df-convert {\n",
              "      background-color: #E8F0FE;\n",
              "      border: none;\n",
              "      border-radius: 50%;\n",
              "      cursor: pointer;\n",
              "      display: none;\n",
              "      fill: #1967D2;\n",
              "      height: 32px;\n",
              "      padding: 0 0 0 0;\n",
              "      width: 32px;\n",
              "    }\n",
              "\n",
              "    .colab-df-convert:hover {\n",
              "      background-color: #E2EBFA;\n",
              "      box-shadow: 0px 1px 2px rgba(60, 64, 67, 0.3), 0px 1px 3px 1px rgba(60, 64, 67, 0.15);\n",
              "      fill: #174EA6;\n",
              "    }\n",
              "\n",
              "    [theme=dark] .colab-df-convert {\n",
              "      background-color: #3B4455;\n",
              "      fill: #D2E3FC;\n",
              "    }\n",
              "\n",
              "    [theme=dark] .colab-df-convert:hover {\n",
              "      background-color: #434B5C;\n",
              "      box-shadow: 0px 1px 3px 1px rgba(0, 0, 0, 0.15);\n",
              "      filter: drop-shadow(0px 1px 2px rgba(0, 0, 0, 0.3));\n",
              "      fill: #FFFFFF;\n",
              "    }\n",
              "  </style>\n",
              "\n",
              "      <script>\n",
              "        const buttonEl =\n",
              "          document.querySelector('#df-0a687430-7494-4704-b306-39f6007b7bb8 button.colab-df-convert');\n",
              "        buttonEl.style.display =\n",
              "          google.colab.kernel.accessAllowed ? 'block' : 'none';\n",
              "\n",
              "        async function convertToInteractive(key) {\n",
              "          const element = document.querySelector('#df-0a687430-7494-4704-b306-39f6007b7bb8');\n",
              "          const dataTable =\n",
              "            await google.colab.kernel.invokeFunction('convertToInteractive',\n",
              "                                                     [key], {});\n",
              "          if (!dataTable) return;\n",
              "\n",
              "          const docLinkHtml = 'Like what you see? Visit the ' +\n",
              "            '<a target=\"_blank\" href=https://colab.research.google.com/notebooks/data_table.ipynb>data table notebook</a>'\n",
              "            + ' to learn more about interactive tables.';\n",
              "          element.innerHTML = '';\n",
              "          dataTable['output_type'] = 'display_data';\n",
              "          await google.colab.output.renderOutput(dataTable, element);\n",
              "          const docLink = document.createElement('div');\n",
              "          docLink.innerHTML = docLinkHtml;\n",
              "          element.appendChild(docLink);\n",
              "        }\n",
              "      </script>\n",
              "    </div>\n",
              "  </div>\n",
              "  "
            ],
            "text/plain": [
              "                    room_type                         \n",
              "room_type     Entire home/apt Private room Shared room\n",
              "borough                                               \n",
              "Bronx                     379          652          60\n",
              "Brooklyn                 9559        10132         413\n",
              "Manhattan               13199         7982         480\n",
              "Queens                   2096         3372         198\n",
              "Staten Island             176          188           9"
            ]
          },
          "metadata": {},
          "execution_count": 30
        }
      ],
      "source": [
        "#----------------------Block 27----------------------------------\n",
        "\n",
        "#looking how room_types are divided in each borough\n",
        "roomtype_in_borough = airbnbNY_data.groupby(['borough','room_type']).agg({'room_type':'count'}) #grouping by borough and roomtype, and counting number of different room type in each borough then\n",
        "roomtype_in_borough = roomtype_in_borough.unstack() #to change wide table to a long table\n",
        "roomtype_in_borough"
      ]
    },
    {
      "cell_type": "code",
      "source": [
        "#----------------------Block 28----------------------------------\n",
        "\n",
        "roomtype_in_borough.columns #to check for columns of the dataframe"
      ],
      "metadata": {
        "colab": {
          "base_uri": "https://localhost:8080/"
        },
        "id": "K6SvMupAHXHW",
        "outputId": "13ce597a-f488-4cd7-b091-7dbd0c60968f"
      },
      "execution_count": null,
      "outputs": [
        {
          "output_type": "execute_result",
          "data": {
            "text/plain": [
              "MultiIndex([('room_type', 'Entire home/apt'),\n",
              "            ('room_type',    'Private room'),\n",
              "            ('room_type',     'Shared room')],\n",
              "           names=[None, 'room_type'])"
            ]
          },
          "metadata": {},
          "execution_count": 117
        }
      ]
    },
    {
      "cell_type": "code",
      "execution_count": null,
      "metadata": {
        "colab": {
          "base_uri": "https://localhost:8080/",
          "height": 971
        },
        "id": "GDBqpNqo9Zsg",
        "outputId": "b0f7123a-17e7-4d68-9467-23b8ee3aefbb"
      },
      "outputs": [
        {
          "output_type": "display_data",
          "data": {
            "image/png": "[encoded data removed]",
            "text/plain": [
              "<Figure size 576x1080 with 6 Axes>"
            ]
          },
          "metadata": {
            "needs_background": "light"
          }
        }
      ],
      "source": [
        "#----------------------Block 29----------------------------------\n",
        "\n",
        "#plotting the pie charts for each borough to get the percentage split visualization of different room types \n",
        "plt.rcParams['figure.figsize'] = (8, 15) #defining figure\n",
        "fig, axes = plt.subplots(3,2) #creating figure and multiple axes(3*2=6)\n",
        "fig.suptitle('Percentage split of each room type in each borough') #to give a main title for all plots of 6 axes\n",
        "label=[]\n",
        "k=0\n",
        "for i in range(3):\n",
        "  label.append(roomtype_in_borough.columns[i][1]) #storing different room types in the list\n",
        "for i in range(3):\n",
        "  for j in range(2):\n",
        "    if i == 2 and j==1:\n",
        "      break\n",
        "    axes[i,j].pie(roomtype_in_borough.iloc[k],labels=label, autopct='%1.1f%%',radius=1) # plotting pie chart for each borough in different axes\n",
        "    axes[i,j].set_title(list(roomtype_in_borough.index)[k]) #setting title as the name of borough for each pie plot \n",
        "    k=k+1\n",
        "plt.figlegend(label) #to place a legend(room type) in the figure\n",
        "axes[2][1].set_axis_off() #to turn off the axes[2][1]\n"
      ]
    },
    {
      "cell_type": "markdown",
      "metadata": {
        "id": "-DBsug0a99EC"
      },
      "source": [
        "*In each borough shared room is very negligent.*\n",
        "\n",
        "*One thing noticable is that among all boroughs only Manhattan has more number of entire home than private rooms. Other than Manhattan in each borough private room takes up that place.*"
      ]
    },
    {
      "cell_type": "markdown",
      "metadata": {
        "id": "KyzNK4RY_o9K"
      },
      "source": [
        "###**Lets check on how does prices distributed among these room types**"
      ]
    },
    {
      "cell_type": "code",
      "execution_count": null,
      "metadata": {
        "colab": {
          "base_uri": "https://localhost:8080/",
          "height": 421
        },
        "id": "JGsUfEVO9kMC",
        "outputId": "cd541f1d-0024-486b-e6c1-36af56531dad"
      },
      "outputs": [
        {
          "output_type": "execute_result",
          "data": {
            "text/plain": [
              "Text(0.5, 1.0, 'Box plot for the prices of room type')"
            ]
          },
          "metadata": {},
          "execution_count": 33
        },
        {
          "output_type": "display_data",
          "data": {
            "image/png": "[encoded data removed]",
            "text/plain": [
              "<Figure size 576x432 with 1 Axes>"
            ]
          },
          "metadata": {
            "needs_background": "light"
          }
        }
      ],
      "source": [
        "#----------------------Block 30----------------------------------\n",
        "\n",
        "sns.boxplot(x='room_type', y='price', data = airbnbNY_data) # price dist box plot\n",
        "plt.title('Box plot for the prices of room type')"
      ]
    },
    {
      "cell_type": "markdown",
      "metadata": {
        "id": "_OMcpJDFBGeY"
      },
      "source": [
        "*Our prices of each room type is strongly influenced by the outliers.*\n",
        "\n",
        "*For each roomtype maximum price saturates at nearby 300-400 and above that mostly are outliers.*"
      ]
    },
    {
      "cell_type": "code",
      "execution_count": null,
      "metadata": {
        "colab": {
          "base_uri": "https://localhost:8080/",
          "height": 421
        },
        "id": "6f1BuRXiAu-k",
        "outputId": "d3167e20-8900-4913-9e88-8e203f9f9709"
      },
      "outputs": [
        {
          "output_type": "execute_result",
          "data": {
            "text/plain": [
              "Text(0.5, 1.0, 'Box plot for the prices of room type after treating outliers')"
            ]
          },
          "metadata": {},
          "execution_count": 36
        },
        {
          "output_type": "display_data",
          "data": {
            "image/png": "[encoded data removed]",
            "text/plain": [
              "<Figure size 576x432 with 1 Axes>"
            ]
          },
          "metadata": {
            "needs_background": "light"
          }
        }
      ],
      "source": [
        "#----------------------Block 31----------------------------------\n",
        "plt.rcParams['figure.figsize'] = (8, 6)\n",
        "price_df = airbnbNY_data[airbnbNY_data['price']<600] #sub dataframe to treat outliers\n",
        "sns.boxplot(x='room_type', y='price', data = price_df) \n",
        "plt.title('Box plot for the prices of room type after treating outliers')"
      ]
    },
    {
      "cell_type": "markdown",
      "metadata": {
        "id": "UQvwPcJiCQrD"
      },
      "source": [
        "*Note :  Although we have removed whole lot outliers but some are still there and we have to bear with them.*\n",
        "\n",
        "*For entire apartments price range is varying till 370 approx and a median or an average value somewhere lies nearby 140-150.*\n",
        "\n",
        "*For private room price range is varying till 250 approx rest are still  outliers and a median or an average value somewhere lies nearby 70-80.*\n",
        "\n",
        "*For shared rooms price range is varying till 80 approx and a median or an average value somewhere lies nearby 40-50.*\n"
      ]
    },
    {
      "cell_type": "markdown",
      "metadata": {
        "id": "_reG_I9wDTFd"
      },
      "source": [
        "###**Now lets see whether every borough have a nearby same average price range or it differs**"
      ]
    },
    {
      "cell_type": "code",
      "execution_count": null,
      "metadata": {
        "colab": {
          "base_uri": "https://localhost:8080/",
          "height": 520
        },
        "id": "7d4MDo2EB1HQ",
        "outputId": "b30080e8-a060-4ae1-d949-9c97025043bf"
      },
      "outputs": [
        {
          "output_type": "execute_result",
          "data": {
            "text/html": [
              "\n",
              "  <div id=\"df-d63f5044-9728-4fde-ad01-648492ed9ada\">\n",
              "    <div class=\"colab-df-container\">\n",
              "      <div>\n",
              "<style scoped>\n",
              "    .dataframe tbody tr th:only-of-type {\n",
              "        vertical-align: middle;\n",
              "    }\n",
              "\n",
              "    .dataframe tbody tr th {\n",
              "        vertical-align: top;\n",
              "    }\n",
              "\n",
              "    .dataframe thead th {\n",
              "        text-align: right;\n",
              "    }\n",
              "</style>\n",
              "<table border=\"1\" class=\"dataframe\">\n",
              "  <thead>\n",
              "    <tr style=\"text-align: right;\">\n",
              "      <th></th>\n",
              "      <th>borough</th>\n",
              "      <th>room_type</th>\n",
              "      <th>price</th>\n",
              "    </tr>\n",
              "  </thead>\n",
              "  <tbody>\n",
              "    <tr>\n",
              "      <th>0</th>\n",
              "      <td>Bronx</td>\n",
              "      <td>Entire home/apt</td>\n",
              "      <td>122.486702</td>\n",
              "    </tr>\n",
              "    <tr>\n",
              "      <th>1</th>\n",
              "      <td>Bronx</td>\n",
              "      <td>Private room</td>\n",
              "      <td>61.272727</td>\n",
              "    </tr>\n",
              "    <tr>\n",
              "      <th>2</th>\n",
              "      <td>Bronx</td>\n",
              "      <td>Shared room</td>\n",
              "      <td>47.254237</td>\n",
              "    </tr>\n",
              "    <tr>\n",
              "      <th>3</th>\n",
              "      <td>Brooklyn</td>\n",
              "      <td>Entire home/apt</td>\n",
              "      <td>161.836750</td>\n",
              "    </tr>\n",
              "    <tr>\n",
              "      <th>4</th>\n",
              "      <td>Brooklyn</td>\n",
              "      <td>Private room</td>\n",
              "      <td>71.607585</td>\n",
              "    </tr>\n",
              "    <tr>\n",
              "      <th>5</th>\n",
              "      <td>Brooklyn</td>\n",
              "      <td>Shared room</td>\n",
              "      <td>48.890777</td>\n",
              "    </tr>\n",
              "    <tr>\n",
              "      <th>6</th>\n",
              "      <td>Manhattan</td>\n",
              "      <td>Entire home/apt</td>\n",
              "      <td>207.179467</td>\n",
              "    </tr>\n",
              "    <tr>\n",
              "      <th>7</th>\n",
              "      <td>Manhattan</td>\n",
              "      <td>Private room</td>\n",
              "      <td>104.308734</td>\n",
              "    </tr>\n",
              "    <tr>\n",
              "      <th>8</th>\n",
              "      <td>Manhattan</td>\n",
              "      <td>Shared room</td>\n",
              "      <td>84.085954</td>\n",
              "    </tr>\n",
              "    <tr>\n",
              "      <th>9</th>\n",
              "      <td>Queens</td>\n",
              "      <td>Entire home/apt</td>\n",
              "      <td>139.125000</td>\n",
              "    </tr>\n",
              "    <tr>\n",
              "      <th>10</th>\n",
              "      <td>Queens</td>\n",
              "      <td>Private room</td>\n",
              "      <td>67.020809</td>\n",
              "    </tr>\n",
              "    <tr>\n",
              "      <th>11</th>\n",
              "      <td>Queens</td>\n",
              "      <td>Shared room</td>\n",
              "      <td>49.312821</td>\n",
              "    </tr>\n",
              "    <tr>\n",
              "      <th>12</th>\n",
              "      <td>Staten Island</td>\n",
              "      <td>Entire home/apt</td>\n",
              "      <td>124.835294</td>\n",
              "    </tr>\n",
              "    <tr>\n",
              "      <th>13</th>\n",
              "      <td>Staten Island</td>\n",
              "      <td>Private room</td>\n",
              "      <td>62.292553</td>\n",
              "    </tr>\n",
              "    <tr>\n",
              "      <th>14</th>\n",
              "      <td>Staten Island</td>\n",
              "      <td>Shared room</td>\n",
              "      <td>57.444444</td>\n",
              "    </tr>\n",
              "  </tbody>\n",
              "</table>\n",
              "</div>\n",
              "      <button class=\"colab-df-convert\" onclick=\"convertToInteractive('df-d63f5044-9728-4fde-ad01-648492ed9ada')\"\n",
              "              title=\"Convert this dataframe to an interactive table.\"\n",
              "              style=\"display:none;\">\n",
              "        \n",
              "  <svg xmlns=\"http://www.w3.org/2000/svg\" height=\"24px\"viewBox=\"0 0 24 24\"\n",
              "       width=\"24px\">\n",
              "    <path d=\"M0 0h24v24H0V0z\" fill=\"none\"/>\n",
              "    <path d=\"M18.56 5.44l.94 2.06.94-2.06 2.06-.94-2.06-.94-.94-2.06-.94 2.06-2.06.94zm-11 1L8.5 8.5l.94-2.06 2.06-.94-2.06-.94L8.5 2.5l-.94 2.06-2.06.94zm10 10l.94 2.06.94-2.06 2.06-.94-2.06-.94-.94-2.06-.94 2.06-2.06.94z\"/><path d=\"M17.41 7.96l-1.37-1.37c-.4-.4-.92-.59-1.43-.59-.52 0-1.04.2-1.43.59L10.3 9.45l-7.72 7.72c-.78.78-.78 2.05 0 2.83L4 21.41c.39.39.9.59 1.41.59.51 0 1.02-.2 1.41-.59l7.78-7.78 2.81-2.81c.8-.78.8-2.07 0-2.86zM5.41 20L4 18.59l7.72-7.72 1.47 1.35L5.41 20z\"/>\n",
              "  </svg>\n",
              "      </button>\n",
              "      \n",
              "  <style>\n",
              "    .colab-df-container {\n",
              "      display:flex;\n",
              "      flex-wrap:wrap;\n",
              "      gap: 12px;\n",
              "    }\n",
              "\n",
              "    .colab-df-convert {\n",
              "      background-color: #E8F0FE;\n",
              "      border: none;\n",
              "      border-radius: 50%;\n",
              "      cursor: pointer;\n",
              "      display: none;\n",
              "      fill: #1967D2;\n",
              "      height: 32px;\n",
              "      padding: 0 0 0 0;\n",
              "      width: 32px;\n",
              "    }\n",
              "\n",
              "    .colab-df-convert:hover {\n",
              "      background-color: #E2EBFA;\n",
              "      box-shadow: 0px 1px 2px rgba(60, 64, 67, 0.3), 0px 1px 3px 1px rgba(60, 64, 67, 0.15);\n",
              "      fill: #174EA6;\n",
              "    }\n",
              "\n",
              "    [theme=dark] .colab-df-convert {\n",
              "      background-color: #3B4455;\n",
              "      fill: #D2E3FC;\n",
              "    }\n",
              "\n",
              "    [theme=dark] .colab-df-convert:hover {\n",
              "      background-color: #434B5C;\n",
              "      box-shadow: 0px 1px 3px 1px rgba(0, 0, 0, 0.15);\n",
              "      filter: drop-shadow(0px 1px 2px rgba(0, 0, 0, 0.3));\n",
              "      fill: #FFFFFF;\n",
              "    }\n",
              "  </style>\n",
              "\n",
              "      <script>\n",
              "        const buttonEl =\n",
              "          document.querySelector('#df-d63f5044-9728-4fde-ad01-648492ed9ada button.colab-df-convert');\n",
              "        buttonEl.style.display =\n",
              "          google.colab.kernel.accessAllowed ? 'block' : 'none';\n",
              "\n",
              "        async function convertToInteractive(key) {\n",
              "          const element = document.querySelector('#df-d63f5044-9728-4fde-ad01-648492ed9ada');\n",
              "          const dataTable =\n",
              "            await google.colab.kernel.invokeFunction('convertToInteractive',\n",
              "                                                     [key], {});\n",
              "          if (!dataTable) return;\n",
              "\n",
              "          const docLinkHtml = 'Like what you see? Visit the ' +\n",
              "            '<a target=\"_blank\" href=https://colab.research.google.com/notebooks/data_table.ipynb>data table notebook</a>'\n",
              "            + ' to learn more about interactive tables.';\n",
              "          element.innerHTML = '';\n",
              "          dataTable['output_type'] = 'display_data';\n",
              "          await google.colab.output.renderOutput(dataTable, element);\n",
              "          const docLink = document.createElement('div');\n",
              "          docLink.innerHTML = docLinkHtml;\n",
              "          element.appendChild(docLink);\n",
              "        }\n",
              "      </script>\n",
              "    </div>\n",
              "  </div>\n",
              "  "
            ],
            "text/plain": [
              "          borough        room_type       price\n",
              "0           Bronx  Entire home/apt  122.486702\n",
              "1           Bronx     Private room   61.272727\n",
              "2           Bronx      Shared room   47.254237\n",
              "3        Brooklyn  Entire home/apt  161.836750\n",
              "4        Brooklyn     Private room   71.607585\n",
              "5        Brooklyn      Shared room   48.890777\n",
              "6       Manhattan  Entire home/apt  207.179467\n",
              "7       Manhattan     Private room  104.308734\n",
              "8       Manhattan      Shared room   84.085954\n",
              "9          Queens  Entire home/apt  139.125000\n",
              "10         Queens     Private room   67.020809\n",
              "11         Queens      Shared room   49.312821\n",
              "12  Staten Island  Entire home/apt  124.835294\n",
              "13  Staten Island     Private room   62.292553\n",
              "14  Staten Island      Shared room   57.444444"
            ]
          },
          "metadata": {},
          "execution_count": 34
        }
      ],
      "source": [
        "#----------------------Block 32----------------------------------\n",
        "\n",
        "#average price of each roomtype in each borough\n",
        "#taken a subdataframe with rmoved outliers so that outliers doesn't affect the average price much \n",
        "average_price = price_df.groupby(['borough','room_type']).agg({'price':'mean'}).reset_index() #grouping by borough and room type and averaging on price then\n",
        "average_price"
      ]
    },
    {
      "cell_type": "code",
      "execution_count": null,
      "metadata": {
        "colab": {
          "base_uri": "https://localhost:8080/",
          "height": 530
        },
        "id": "ugUwxCmDDvmp",
        "outputId": "e83b2350-6a06-41f6-e7ae-1e644c0d3d35"
      },
      "outputs": [
        {
          "output_type": "execute_result",
          "data": {
            "text/plain": [
              "Text(0.5, 1.0, 'Average Price of each room type in each borough')"
            ]
          },
          "metadata": {},
          "execution_count": 35
        },
        {
          "output_type": "display_data",
          "data": {
            "image/png": "[encoded data removed]",
            "text/plain": [
              "<Figure size 1440x576 with 1 Axes>"
            ]
          },
          "metadata": {
            "needs_background": "light"
          }
        }
      ],
      "source": [
        "#----------------------Block 33----------------------------------\n",
        "\n",
        "#plotting the summary of average prices\n",
        "plt.figure(figsize=(20,8))\n",
        "entire_home = average_price[average_price['room_type']=='Entire home/apt'] #to create a Sub dataframe from average price dataframe where room type is entire room\n",
        "private_room = average_price[average_price['room_type']=='Private room'] #to create a Sub dataframe from average price dataframe where room type is private room\n",
        "shared_room =  average_price[average_price['room_type']=='Shared room'] #to create a Sub dataframe from average price dataframe where room type is shared room\n",
        "x_axis=np.arange(len(entire_home['borough'])) #to get evenly spaced values within range of len(entire_home['borough'])\n",
        "plt.bar(x_axis-0.3,entire_home['price'],label ='Entire Home',color='wheat',width=0.3) #to get first bar stick of group of three bars\n",
        "plt.bar(x_axis,private_room['price'],label ='Private Room',color='goldenrod',width=0.3) #to get second bar stick of group of three bars\n",
        "plt.bar(x_axis+0.3,shared_room['price'],label ='Shared Room',color='gold',width=0.3) #to get third bar stick of group of three bars\n",
        "plt.legend() #to place legend in the figure\n",
        "plt.xticks(x_axis,entire_home['borough'])\n",
        "plt.xlabel('Boroughs')\n",
        "plt.ylabel('Average price')\n",
        "plt.title(\"Average Price of each room type in each borough\")"
      ]
    },
    {
      "cell_type": "markdown",
      "metadata": {
        "id": "ZXVDI7mrErkO"
      },
      "source": [
        "*Manhattan is leading in a scoreboard of higher prices and Brooklyn follows Manhattan.*\n",
        "\n",
        "*Manhattan and Brooklyn are tourist areas in NYC and as everywhere rule higher the tourism, higher the prices of rentals also applies here.*  "
      ]
    },
    {
      "cell_type": "markdown",
      "metadata": {
        "id": "v_J19YBAN70l"
      },
      "source": [
        "###**Which room type has most number of reviews**"
      ]
    },
    {
      "cell_type": "code",
      "execution_count": null,
      "metadata": {
        "colab": {
          "base_uri": "https://localhost:8080/",
          "height": 492
        },
        "id": "kduqQCkeEEoO",
        "outputId": "a74ec87e-28fe-4057-80e1-a46624f828ff"
      },
      "outputs": [
        {
          "output_type": "execute_result",
          "data": {
            "text/plain": [
              "Text(0.5, 1.0, 'Total number of reviews each room type have')"
            ]
          },
          "metadata": {},
          "execution_count": 36
        },
        {
          "output_type": "display_data",
          "data": {
            "image/png": "[encoded data removed]",
            "text/plain": [
              "<Figure size 720x432 with 1 Axes>"
            ]
          },
          "metadata": {
            "needs_background": "light"
          }
        }
      ],
      "source": [
        "#----------------------Block 34----------------------------------\n",
        "\n",
        "roomtype_reviews = airbnbNY_data.groupby('room_type').agg({'number_of_reviews':'sum'}) #grouping on room type and adding the number of reviews then\n",
        "plt.rcParams['figure.figsize']=(10,6)\n",
        "roomtype_reviews.plot.bar(color='brown')\n",
        "plt.ylabel('Total number of reviews')\n",
        "plt.title('Total number of reviews each room type have')"
      ]
    },
    {
      "cell_type": "markdown",
      "metadata": {
        "id": "A1H6lkjAP79U"
      },
      "source": [
        "*Number of reviews follow the same pattern as of the availabilities of each room type in listings. We have most no. of entire homes in our listings and so do reviews for them are most. It goes in same fashion for private and shared room as well.*  "
      ]
    },
    {
      "cell_type": "markdown",
      "metadata": {
        "id": "gdAKE08gRE1c"
      },
      "source": [
        "###**After analysis of various factors about roomtype we have gathered following info :**\n",
        "\n",
        "*1 Entire homes are one of the most available rental in New York City whereas shared room are very less preferable.* \n",
        "\n",
        "*2. In every borough private rooms are more in counts whereas in Manhattan entire home wins this race.*\n",
        "\n",
        "*3. For entire homes nearby 75% of rentals are under the price of 200 and in private room its somewhere near 100 and for shared ones its 75 somewhere.*\n",
        "\n",
        "*4 Manhattan is most expensive borough in each of the room types, Brooklyn follows Manhattan, then Queens and Staten Island and Bronx are somewhere at same place.*\n",
        "\n"
      ]
    }
  ],
  "metadata": {
    "colab": {
      "collapsed_sections": [
        "hy23Hf2U8cTF",
        "og3TJmGzrnbI"
      ],
      "name": "Airbnb Bookings Analysis.ipynb",
      "provenance": [],
      "include_colab_link": true
    },
    "kernelspec": {
      "display_name": "Python 3",
      "language": "python",
      "name": "python3"
    },
    "language_info": {
      "codemirror_mode": {
        "name": "ipython",
        "version": 3
      },
      "file_extension": ".py",
      "mimetype": "text/x-python",
      "name": "python",
      "nbconvert_exporter": "python",
      "pygments_lexer": "ipython3",
      "version": "3.6.6"
    }
  },
  "nbformat": 4,
  "nbformat_minor": 0
}