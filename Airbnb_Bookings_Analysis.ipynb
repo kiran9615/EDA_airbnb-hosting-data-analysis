{
  "cells": [
    {
      "cell_type": "markdown",
      "metadata": {
        "id": "view-in-github",
        "colab_type": "text"
      },
      "source": [
        "<a href=\"https://colab.research.google.com/github/kiran9615/EDA_airbnb-hosting-data-analysis/blob/main/Airbnb_Bookings_Analysis.ipynb\" target=\"_parent\"><img src=\"https://colab.research.google.com/assets/colab-badge.svg\" alt=\"Open In Colab\"/></a>"
      ]
    },
    {
      "cell_type": "markdown",
      "metadata": {
        "id": "Y06xIdG26kRF"
      },
      "source": [
        "***Since 2008, guests and hosts have used Airbnb to expand on traveling possibilities and present a more unique, personalized way of experiencing the world. Today, Airbnb became one of a kind service that is used and recognized by the whole world. Data analysis on millions of listings provided through Airbnb is a crucial factor for the company. These millions of listings generate a lot of data - data that can be analyzed and used for security, business decisions, understanding of customers' and providers' (hosts) behavior and performance on the platform, guiding marketing initiatives, implementation of innovative additional services and much more.***\n",
        "\n",
        "# ***This dataset has around 49,000 observations in it with 16 columns and it is a mix between categorical and numeric values.***\n",
        "\n",
        "***Explore and analyze the data to discover key understandings (not limited to these) such as :***\n",
        "\n",
        "*What can we learn about different hosts and areas?*\n",
        "\n",
        "*What can we learn from predictions? (ex: locations, prices, reviews, etc)*\n",
        "\n",
        "*Which hosts are the busiest and why?*\n",
        "\n",
        "*Is there any noticeable difference of traffic among different areas and what could be the reason for it?*"
      ]
    },
    {
      "cell_type": "code",
      "execution_count": 1,
      "metadata": {
        "id": "L7Ro-E0Tfvqs"
      },
      "outputs": [],
      "source": [
        "#importing all the necessary modules needed during analysis\n",
        "import numpy as np\n",
        "import pandas as pd\n",
        "from matplotlib import pyplot as plt\n",
        "import seaborn as sns\n",
        "%matplotlib inline\n",
        "import warnings\n",
        "warnings.filterwarnings('ignore')"
      ]
    },
    {
      "cell_type": "code",
      "execution_count": 2,
      "metadata": {
        "colab": {
          "base_uri": "https://localhost:8080/"
        },
        "id": "Uqq1EE8lRpJW",
        "outputId": "c1fc227d-15be-4a09-b3a3-fe144c0d8bec"
      },
      "outputs": [
        {
          "output_type": "stream",
          "name": "stdout",
          "text": [
            "Mounted at /content/drive\n"
          ]
        }
      ],
      "source": [
        "# mounting google drive in colab \n",
        "from google.colab import drive\n",
        "drive.mount('/content/drive')"
      ]
    },
    {
      "cell_type": "code",
      "execution_count": 3,
      "metadata": {
        "id": "Mck1FEKRR3p6"
      },
      "outputs": [],
      "source": [
        "#reading airbnb data \n",
        "file_path = '/content/drive/MyDrive/Datascience/Datasets/Airbnb NYC 2019.csv'\n",
        "airbnbNY_data = pd.read_csv(file_path)"
      ]
    },
    {
      "cell_type": "markdown",
      "metadata": {
        "id": "hQRkJ9echIuE"
      },
      "source": [
        "# ***Part 1: Basic datapreprocessing and Cleaning***"
      ]
    },
    {
      "cell_type": "code",
      "execution_count": 4,
      "metadata": {
        "colab": {
          "base_uri": "https://localhost:8080/"
        },
        "id": "imstWQBuSvcf",
        "outputId": "810b3e79-c33e-46b3-cb2c-b32f33f75cc3"
      },
      "outputs": [
        {
          "output_type": "execute_result",
          "data": {
            "text/plain": [
              "(48895, 16)"
            ]
          },
          "metadata": {},
          "execution_count": 4
        }
      ],
      "source": [
        "#----------------------Block 1----------------------------------\n",
        "\n",
        "#checking for no. of observations and features in our dataset\n",
        "airbnbNY_data.shape"
      ]
    },
    {
      "cell_type": "markdown",
      "metadata": {
        "id": "iAcEzFiiQVyW"
      },
      "source": [
        "*We have a listings of 48895 observations with 16 features*"
      ]
    },
    {
      "cell_type": "code",
      "execution_count": 5,
      "metadata": {
        "colab": {
          "base_uri": "https://localhost:8080/",
          "height": 0
        },
        "id": "X8MG2jBomQj6",
        "outputId": "dc913ae8-bfda-447b-ca69-ec237d93a857"
      },
      "outputs": [
        {
          "output_type": "execute_result",
          "data": {
            "text/html": [
              "\n",
              "  <div id=\"df-d9fd97d3-3cde-4323-8dac-45a38bd0fe67\">\n",
              "    <div class=\"colab-df-container\">\n",
              "      <div>\n",
              "<style scoped>\n",
              "    .dataframe tbody tr th:only-of-type {\n",
              "        vertical-align: middle;\n",
              "    }\n",
              "\n",
              "    .dataframe tbody tr th {\n",
              "        vertical-align: top;\n",
              "    }\n",
              "\n",
              "    .dataframe thead th {\n",
              "        text-align: right;\n",
              "    }\n",
              "</style>\n",
              "<table border=\"1\" class=\"dataframe\">\n",
              "  <thead>\n",
              "    <tr style=\"text-align: right;\">\n",
              "      <th></th>\n",
              "      <th>id</th>\n",
              "      <th>name</th>\n",
              "      <th>host_id</th>\n",
              "      <th>host_name</th>\n",
              "      <th>neighbourhood_group</th>\n",
              "      <th>neighbourhood</th>\n",
              "      <th>latitude</th>\n",
              "      <th>longitude</th>\n",
              "      <th>room_type</th>\n",
              "      <th>price</th>\n",
              "      <th>minimum_nights</th>\n",
              "      <th>number_of_reviews</th>\n",
              "      <th>last_review</th>\n",
              "      <th>reviews_per_month</th>\n",
              "      <th>calculated_host_listings_count</th>\n",
              "      <th>availability_365</th>\n",
              "    </tr>\n",
              "  </thead>\n",
              "  <tbody>\n",
              "    <tr>\n",
              "      <th>0</th>\n",
              "      <td>2539</td>\n",
              "      <td>Clean &amp; quiet apt home by the park</td>\n",
              "      <td>2787</td>\n",
              "      <td>John</td>\n",
              "      <td>Brooklyn</td>\n",
              "      <td>Kensington</td>\n",
              "      <td>40.64749</td>\n",
              "      <td>-73.97237</td>\n",
              "      <td>Private room</td>\n",
              "      <td>149</td>\n",
              "      <td>1</td>\n",
              "      <td>9</td>\n",
              "      <td>2018-10-19</td>\n",
              "      <td>0.21</td>\n",
              "      <td>6</td>\n",
              "      <td>365</td>\n",
              "    </tr>\n",
              "    <tr>\n",
              "      <th>1</th>\n",
              "      <td>2595</td>\n",
              "      <td>Skylit Midtown Castle</td>\n",
              "      <td>2845</td>\n",
              "      <td>Jennifer</td>\n",
              "      <td>Manhattan</td>\n",
              "      <td>Midtown</td>\n",
              "      <td>40.75362</td>\n",
              "      <td>-73.98377</td>\n",
              "      <td>Entire home/apt</td>\n",
              "      <td>225</td>\n",
              "      <td>1</td>\n",
              "      <td>45</td>\n",
              "      <td>2019-05-21</td>\n",
              "      <td>0.38</td>\n",
              "      <td>2</td>\n",
              "      <td>355</td>\n",
              "    </tr>\n",
              "    <tr>\n",
              "      <th>2</th>\n",
              "      <td>3647</td>\n",
              "      <td>THE VILLAGE OF HARLEM....NEW YORK !</td>\n",
              "      <td>4632</td>\n",
              "      <td>Elisabeth</td>\n",
              "      <td>Manhattan</td>\n",
              "      <td>Harlem</td>\n",
              "      <td>40.80902</td>\n",
              "      <td>-73.94190</td>\n",
              "      <td>Private room</td>\n",
              "      <td>150</td>\n",
              "      <td>3</td>\n",
              "      <td>0</td>\n",
              "      <td>NaN</td>\n",
              "      <td>NaN</td>\n",
              "      <td>1</td>\n",
              "      <td>365</td>\n",
              "    </tr>\n",
              "    <tr>\n",
              "      <th>3</th>\n",
              "      <td>3831</td>\n",
              "      <td>Cozy Entire Floor of Brownstone</td>\n",
              "      <td>4869</td>\n",
              "      <td>LisaRoxanne</td>\n",
              "      <td>Brooklyn</td>\n",
              "      <td>Clinton Hill</td>\n",
              "      <td>40.68514</td>\n",
              "      <td>-73.95976</td>\n",
              "      <td>Entire home/apt</td>\n",
              "      <td>89</td>\n",
              "      <td>1</td>\n",
              "      <td>270</td>\n",
              "      <td>2019-07-05</td>\n",
              "      <td>4.64</td>\n",
              "      <td>1</td>\n",
              "      <td>194</td>\n",
              "    </tr>\n",
              "    <tr>\n",
              "      <th>4</th>\n",
              "      <td>5022</td>\n",
              "      <td>Entire Apt: Spacious Studio/Loft by central park</td>\n",
              "      <td>7192</td>\n",
              "      <td>Laura</td>\n",
              "      <td>Manhattan</td>\n",
              "      <td>East Harlem</td>\n",
              "      <td>40.79851</td>\n",
              "      <td>-73.94399</td>\n",
              "      <td>Entire home/apt</td>\n",
              "      <td>80</td>\n",
              "      <td>10</td>\n",
              "      <td>9</td>\n",
              "      <td>2018-11-19</td>\n",
              "      <td>0.10</td>\n",
              "      <td>1</td>\n",
              "      <td>0</td>\n",
              "    </tr>\n",
              "  </tbody>\n",
              "</table>\n",
              "</div>\n",
              "      <button class=\"colab-df-convert\" onclick=\"convertToInteractive('df-d9fd97d3-3cde-4323-8dac-45a38bd0fe67')\"\n",
              "              title=\"Convert this dataframe to an interactive table.\"\n",
              "              style=\"display:none;\">\n",
              "        \n",
              "  <svg xmlns=\"http://www.w3.org/2000/svg\" height=\"24px\"viewBox=\"0 0 24 24\"\n",
              "       width=\"24px\">\n",
              "    <path d=\"M0 0h24v24H0V0z\" fill=\"none\"/>\n",
              "    <path d=\"M18.56 5.44l.94 2.06.94-2.06 2.06-.94-2.06-.94-.94-2.06-.94 2.06-2.06.94zm-11 1L8.5 8.5l.94-2.06 2.06-.94-2.06-.94L8.5 2.5l-.94 2.06-2.06.94zm10 10l.94 2.06.94-2.06 2.06-.94-2.06-.94-.94-2.06-.94 2.06-2.06.94z\"/><path d=\"M17.41 7.96l-1.37-1.37c-.4-.4-.92-.59-1.43-.59-.52 0-1.04.2-1.43.59L10.3 9.45l-7.72 7.72c-.78.78-.78 2.05 0 2.83L4 21.41c.39.39.9.59 1.41.59.51 0 1.02-.2 1.41-.59l7.78-7.78 2.81-2.81c.8-.78.8-2.07 0-2.86zM5.41 20L4 18.59l7.72-7.72 1.47 1.35L5.41 20z\"/>\n",
              "  </svg>\n",
              "      </button>\n",
              "      \n",
              "  <style>\n",
              "    .colab-df-container {\n",
              "      display:flex;\n",
              "      flex-wrap:wrap;\n",
              "      gap: 12px;\n",
              "    }\n",
              "\n",
              "    .colab-df-convert {\n",
              "      background-color: #E8F0FE;\n",
              "      border: none;\n",
              "      border-radius: 50%;\n",
              "      cursor: pointer;\n",
              "      display: none;\n",
              "      fill: #1967D2;\n",
              "      height: 32px;\n",
              "      padding: 0 0 0 0;\n",
              "      width: 32px;\n",
              "    }\n",
              "\n",
              "    .colab-df-convert:hover {\n",
              "      background-color: #E2EBFA;\n",
              "      box-shadow: 0px 1px 2px rgba(60, 64, 67, 0.3), 0px 1px 3px 1px rgba(60, 64, 67, 0.15);\n",
              "      fill: #174EA6;\n",
              "    }\n",
              "\n",
              "    [theme=dark] .colab-df-convert {\n",
              "      background-color: #3B4455;\n",
              "      fill: #D2E3FC;\n",
              "    }\n",
              "\n",
              "    [theme=dark] .colab-df-convert:hover {\n",
              "      background-color: #434B5C;\n",
              "      box-shadow: 0px 1px 3px 1px rgba(0, 0, 0, 0.15);\n",
              "      filter: drop-shadow(0px 1px 2px rgba(0, 0, 0, 0.3));\n",
              "      fill: #FFFFFF;\n",
              "    }\n",
              "  </style>\n",
              "\n",
              "      <script>\n",
              "        const buttonEl =\n",
              "          document.querySelector('#df-d9fd97d3-3cde-4323-8dac-45a38bd0fe67 button.colab-df-convert');\n",
              "        buttonEl.style.display =\n",
              "          google.colab.kernel.accessAllowed ? 'block' : 'none';\n",
              "\n",
              "        async function convertToInteractive(key) {\n",
              "          const element = document.querySelector('#df-d9fd97d3-3cde-4323-8dac-45a38bd0fe67');\n",
              "          const dataTable =\n",
              "            await google.colab.kernel.invokeFunction('convertToInteractive',\n",
              "                                                     [key], {});\n",
              "          if (!dataTable) return;\n",
              "\n",
              "          const docLinkHtml = 'Like what you see? Visit the ' +\n",
              "            '<a target=\"_blank\" href=https://colab.research.google.com/notebooks/data_table.ipynb>data table notebook</a>'\n",
              "            + ' to learn more about interactive tables.';\n",
              "          element.innerHTML = '';\n",
              "          dataTable['output_type'] = 'display_data';\n",
              "          await google.colab.output.renderOutput(dataTable, element);\n",
              "          const docLink = document.createElement('div');\n",
              "          docLink.innerHTML = docLinkHtml;\n",
              "          element.appendChild(docLink);\n",
              "        }\n",
              "      </script>\n",
              "    </div>\n",
              "  </div>\n",
              "  "
            ],
            "text/plain": [
              "     id  ... availability_365\n",
              "0  2539  ...              365\n",
              "1  2595  ...              355\n",
              "2  3647  ...              365\n",
              "3  3831  ...              194\n",
              "4  5022  ...                0\n",
              "\n",
              "[5 rows x 16 columns]"
            ]
          },
          "metadata": {},
          "execution_count": 5
        }
      ],
      "source": [
        "#----------------------Block 2----------------------------------\n",
        "\n",
        "# visualising first 5 observations from our dataset \n",
        "airbnbNY_data.head()"
      ]
    },
    {
      "cell_type": "markdown",
      "metadata": {
        "id": "ihSProwlQmv7"
      },
      "source": [
        " ****Data Dictionary****\n",
        "\n",
        "*1. ID - ID is just an unique identifier of each row.*\n",
        "\n",
        "*2. Name - It is a rental name which user sees while booking(hotel name).*\n",
        "\n",
        "*3. Host ID - Every host on Airbnb gets an unique host id, host id here represents that id only.*\n",
        "\n",
        "*4. Host name - Name of the host.*\n",
        "\n",
        "*5. Neighbourhood_group - Whole New York is divied into 5 neighbourhood_group(boroughs) regionally. It shows in which borough particular listing is located.*\n",
        "\n",
        "*6. Neighbourhood - Each borough is further sub divided into neighbourhoods. This column shows the neighbourhood of particular listing.*\n",
        "\n",
        "*7. Latitude and longitude - These shows the geographical positions of a rental.*\n",
        "\n",
        "*8. Room_Type -  Which room type a rental is offering.*\n",
        "\n",
        "*9. Price - Price per night that a rental is charging.*\n",
        "\n",
        "*10. Minimum Nights - For this much of nights minimally rental can be booked.*\n",
        "\n",
        "*11. Number of reviews - Number of reviews a rental has got till now.*\n",
        "\n",
        "*12. Review Per month - An average no. of reviews that a rental got per month.*\n",
        "\n",
        "*13. Last review - Date on which a rental got their last review.*\n",
        "\n",
        "*14. calculated_host_listings_count -  It is the no. of rentals a host is hosting in the dataset.*\n",
        "\n",
        "*15. Availability 365 - It is the no. of days for which a rental is available to book.*\n",
        "\n",
        "*NOTE - I have used the word rentals, listings and hostings interchangably here. All of these means the same.*"
      ]
    },
    {
      "cell_type": "code",
      "execution_count": 6,
      "metadata": {
        "colab": {
          "base_uri": "https://localhost:8080/"
        },
        "id": "XzN212LUSx3P",
        "outputId": "e1819a7d-4d93-437f-d2a1-551fc7e44fdc"
      },
      "outputs": [
        {
          "output_type": "stream",
          "name": "stdout",
          "text": [
            "<class 'pandas.core.frame.DataFrame'>\n",
            "RangeIndex: 48895 entries, 0 to 48894\n",
            "Data columns (total 16 columns):\n",
            " #   Column                          Non-Null Count  Dtype  \n",
            "---  ------                          --------------  -----  \n",
            " 0   id                              48895 non-null  int64  \n",
            " 1   name                            48879 non-null  object \n",
            " 2   host_id                         48895 non-null  int64  \n",
            " 3   host_name                       48874 non-null  object \n",
            " 4   neighbourhood_group             48895 non-null  object \n",
            " 5   neighbourhood                   48895 non-null  object \n",
            " 6   latitude                        48895 non-null  float64\n",
            " 7   longitude                       48895 non-null  float64\n",
            " 8   room_type                       48895 non-null  object \n",
            " 9   price                           48895 non-null  int64  \n",
            " 10  minimum_nights                  48895 non-null  int64  \n",
            " 11  number_of_reviews               48895 non-null  int64  \n",
            " 12  last_review                     38843 non-null  object \n",
            " 13  reviews_per_month               38843 non-null  float64\n",
            " 14  calculated_host_listings_count  48895 non-null  int64  \n",
            " 15  availability_365                48895 non-null  int64  \n",
            "dtypes: float64(3), int64(7), object(6)\n",
            "memory usage: 6.0+ MB\n"
          ]
        }
      ],
      "source": [
        "#----------------------Block 3----------------------------------\n",
        "\n",
        "#getting basic information about dataset\n",
        "airbnbNY_data.info()"
      ]
    },
    {
      "cell_type": "markdown",
      "metadata": {
        "id": "3R6miKMAQwia"
      },
      "source": [
        "*Outcomes*\n",
        "\n",
        "*1. Dataype of each columns*\n",
        "\n",
        "*2. Memory usage due to dataset*\n",
        "\n",
        "*3. Number of non null values in each columns*\n"
      ]
    },
    {
      "cell_type": "code",
      "execution_count": 7,
      "metadata": {
        "colab": {
          "base_uri": "https://localhost:8080/"
        },
        "id": "RlYK1p6vS15M",
        "outputId": "c903646d-b4aa-40f3-f919-9a394e5157e3"
      },
      "outputs": [
        {
          "output_type": "execute_result",
          "data": {
            "text/plain": [
              "id                                    0\n",
              "name                                 16\n",
              "host_id                               0\n",
              "host_name                            21\n",
              "neighbourhood_group                   0\n",
              "neighbourhood                         0\n",
              "latitude                              0\n",
              "longitude                             0\n",
              "room_type                             0\n",
              "price                                 0\n",
              "minimum_nights                        0\n",
              "number_of_reviews                     0\n",
              "last_review                       10052\n",
              "reviews_per_month                 10052\n",
              "calculated_host_listings_count        0\n",
              "availability_365                      0\n",
              "dtype: int64"
            ]
          },
          "metadata": {},
          "execution_count": 7
        }
      ],
      "source": [
        "#----------------------Block 4----------------------------------\n",
        "\n",
        "# getting count of each null values in each column\n",
        "airbnbNY_data.isnull().sum()"
      ]
    },
    {
      "cell_type": "markdown",
      "metadata": {
        "id": "yuHSRWTpReJL"
      },
      "source": [
        "*1. Although Name and Host name has null values but it won't be of significant use in our analysis, we won't be caring much about it.*\n",
        "\n",
        "*2. Last review and review per month both have same number of null values. Actual reason is they are interdependent. Last_review includes a date of last review of specific listing. If it is null that means listing hasn't got any reviews yet and for the same reason review per moth is also null.*\n",
        "\n",
        "*3. If you look for the observations having review_per_month and last_review as null values, logiclly no. of reviews value should be zero there. So, lets verify this.* \n",
        "\n"
      ]
    },
    {
      "cell_type": "code",
      "execution_count": 8,
      "metadata": {
        "colab": {
          "base_uri": "https://localhost:8080/"
        },
        "id": "JIuCzaFgS30z",
        "outputId": "4db7867e-0b6e-4e48-9026-9900d40c9732"
      },
      "outputs": [
        {
          "output_type": "execute_result",
          "data": {
            "text/plain": [
              "0    10052\n",
              "Name: number_of_reviews, dtype: int64"
            ]
          },
          "metadata": {},
          "execution_count": 8
        }
      ],
      "source": [
        "#----------------------Block 5----------------------------------\n",
        "\n",
        "# checking for number_of_review unique values where we have null values for last_review and review_per_month \n",
        "airbnbNY_data[airbnbNY_data['last_review'].isnull() & airbnbNY_data['reviews_per_month'].isnull()]['number_of_reviews'].value_counts()"
      ]
    },
    {
      "cell_type": "markdown",
      "metadata": {
        "id": "Y6OmU92-kdlD"
      },
      "source": [
        "*We will delete the last review column from dataframe as that is not much useful in terms of further data analysis and make reviews_per_ month  0 where reviews_per_month is Null.*"
      ]
    },
    {
      "cell_type": "code",
      "execution_count": 9,
      "metadata": {
        "id": "evL-PSd_i67x"
      },
      "outputs": [],
      "source": [
        "#----------------------Block 6----------------------------------\n",
        "\n",
        "airbnbNY_data.drop(['last_review'],axis = 1, inplace = True)   # dropping last review column\n",
        "airbnbNY_data['reviews_per_month'].fillna(0,inplace=True)    #filling null values with 0 in reviews_per_month column"
      ]
    },
    {
      "cell_type": "markdown",
      "metadata": {
        "id": "G0y1kVPv4HVe"
      },
      "source": [
        "*Name of hotel is also not of a significant use to us so we'll drop that as well*"
      ]
    },
    {
      "cell_type": "code",
      "execution_count": 10,
      "metadata": {
        "id": "DjJL83L14eeP"
      },
      "outputs": [],
      "source": [
        "#----------------------Block 7----------------------------------\n",
        "\n",
        "airbnbNY_data.drop(['name'],axis = 1, inplace = True)   # dropping name column\n",
        "airbnbNY_data.drop(['host_name'],axis = 1, inplace = True)   # dropping host_name column"
      ]
    },
    {
      "cell_type": "code",
      "execution_count": 11,
      "metadata": {
        "colab": {
          "base_uri": "https://localhost:8080/"
        },
        "id": "BsOGmrb54mya",
        "outputId": "1074c667-4d0b-4fe1-b8f0-1bc8831c24e2"
      },
      "outputs": [
        {
          "output_type": "execute_result",
          "data": {
            "text/plain": [
              "id                                0\n",
              "host_id                           0\n",
              "neighbourhood_group               0\n",
              "neighbourhood                     0\n",
              "latitude                          0\n",
              "longitude                         0\n",
              "room_type                         0\n",
              "price                             0\n",
              "minimum_nights                    0\n",
              "number_of_reviews                 0\n",
              "reviews_per_month                 0\n",
              "calculated_host_listings_count    0\n",
              "availability_365                  0\n",
              "dtype: int64"
            ]
          },
          "metadata": {},
          "execution_count": 11
        }
      ],
      "source": [
        "#----------------------Block 8----------------------------------\n",
        "\n",
        "#null values check\n",
        "airbnbNY_data.isnull().sum()"
      ]
    },
    {
      "cell_type": "markdown",
      "metadata": {
        "id": "WBvRzS-o5Ozj"
      },
      "source": [
        "*We have treated null values and dropped all unneccesary columns as well .*"
      ]
    },
    {
      "cell_type": "code",
      "execution_count": 12,
      "metadata": {
        "colab": {
          "base_uri": "https://localhost:8080/",
          "height": 0
        },
        "id": "lsp0fZ6UVG58",
        "outputId": "6162305e-c878-4742-8194-cf97bdce7e86"
      },
      "outputs": [
        {
          "output_type": "execute_result",
          "data": {
            "text/html": [
              "\n",
              "  <div id=\"df-a5c4dc35-1503-47a8-be8e-23664bf01917\">\n",
              "    <div class=\"colab-df-container\">\n",
              "      <div>\n",
              "<style scoped>\n",
              "    .dataframe tbody tr th:only-of-type {\n",
              "        vertical-align: middle;\n",
              "    }\n",
              "\n",
              "    .dataframe tbody tr th {\n",
              "        vertical-align: top;\n",
              "    }\n",
              "\n",
              "    .dataframe thead th {\n",
              "        text-align: right;\n",
              "    }\n",
              "</style>\n",
              "<table border=\"1\" class=\"dataframe\">\n",
              "  <thead>\n",
              "    <tr style=\"text-align: right;\">\n",
              "      <th></th>\n",
              "      <th>price</th>\n",
              "      <th>minimum_nights</th>\n",
              "      <th>number_of_reviews</th>\n",
              "      <th>reviews_per_month</th>\n",
              "      <th>calculated_host_listings_count</th>\n",
              "      <th>availability_365</th>\n",
              "    </tr>\n",
              "  </thead>\n",
              "  <tbody>\n",
              "    <tr>\n",
              "      <th>count</th>\n",
              "      <td>48895.000000</td>\n",
              "      <td>48895.000000</td>\n",
              "      <td>48895.000000</td>\n",
              "      <td>48895.000000</td>\n",
              "      <td>48895.000000</td>\n",
              "      <td>48895.000000</td>\n",
              "    </tr>\n",
              "    <tr>\n",
              "      <th>mean</th>\n",
              "      <td>152.720687</td>\n",
              "      <td>7.029962</td>\n",
              "      <td>23.274466</td>\n",
              "      <td>1.090910</td>\n",
              "      <td>7.143982</td>\n",
              "      <td>112.781327</td>\n",
              "    </tr>\n",
              "    <tr>\n",
              "      <th>std</th>\n",
              "      <td>240.154170</td>\n",
              "      <td>20.510550</td>\n",
              "      <td>44.550582</td>\n",
              "      <td>1.597283</td>\n",
              "      <td>32.952519</td>\n",
              "      <td>131.622289</td>\n",
              "    </tr>\n",
              "    <tr>\n",
              "      <th>min</th>\n",
              "      <td>0.000000</td>\n",
              "      <td>1.000000</td>\n",
              "      <td>0.000000</td>\n",
              "      <td>0.000000</td>\n",
              "      <td>1.000000</td>\n",
              "      <td>0.000000</td>\n",
              "    </tr>\n",
              "    <tr>\n",
              "      <th>25%</th>\n",
              "      <td>69.000000</td>\n",
              "      <td>1.000000</td>\n",
              "      <td>1.000000</td>\n",
              "      <td>0.040000</td>\n",
              "      <td>1.000000</td>\n",
              "      <td>0.000000</td>\n",
              "    </tr>\n",
              "    <tr>\n",
              "      <th>50%</th>\n",
              "      <td>106.000000</td>\n",
              "      <td>3.000000</td>\n",
              "      <td>5.000000</td>\n",
              "      <td>0.370000</td>\n",
              "      <td>1.000000</td>\n",
              "      <td>45.000000</td>\n",
              "    </tr>\n",
              "    <tr>\n",
              "      <th>75%</th>\n",
              "      <td>175.000000</td>\n",
              "      <td>5.000000</td>\n",
              "      <td>24.000000</td>\n",
              "      <td>1.580000</td>\n",
              "      <td>2.000000</td>\n",
              "      <td>227.000000</td>\n",
              "    </tr>\n",
              "    <tr>\n",
              "      <th>max</th>\n",
              "      <td>10000.000000</td>\n",
              "      <td>1250.000000</td>\n",
              "      <td>629.000000</td>\n",
              "      <td>58.500000</td>\n",
              "      <td>327.000000</td>\n",
              "      <td>365.000000</td>\n",
              "    </tr>\n",
              "  </tbody>\n",
              "</table>\n",
              "</div>\n",
              "      <button class=\"colab-df-convert\" onclick=\"convertToInteractive('df-a5c4dc35-1503-47a8-be8e-23664bf01917')\"\n",
              "              title=\"Convert this dataframe to an interactive table.\"\n",
              "              style=\"display:none;\">\n",
              "        \n",
              "  <svg xmlns=\"http://www.w3.org/2000/svg\" height=\"24px\"viewBox=\"0 0 24 24\"\n",
              "       width=\"24px\">\n",
              "    <path d=\"M0 0h24v24H0V0z\" fill=\"none\"/>\n",
              "    <path d=\"M18.56 5.44l.94 2.06.94-2.06 2.06-.94-2.06-.94-.94-2.06-.94 2.06-2.06.94zm-11 1L8.5 8.5l.94-2.06 2.06-.94-2.06-.94L8.5 2.5l-.94 2.06-2.06.94zm10 10l.94 2.06.94-2.06 2.06-.94-2.06-.94-.94-2.06-.94 2.06-2.06.94z\"/><path d=\"M17.41 7.96l-1.37-1.37c-.4-.4-.92-.59-1.43-.59-.52 0-1.04.2-1.43.59L10.3 9.45l-7.72 7.72c-.78.78-.78 2.05 0 2.83L4 21.41c.39.39.9.59 1.41.59.51 0 1.02-.2 1.41-.59l7.78-7.78 2.81-2.81c.8-.78.8-2.07 0-2.86zM5.41 20L4 18.59l7.72-7.72 1.47 1.35L5.41 20z\"/>\n",
              "  </svg>\n",
              "      </button>\n",
              "      \n",
              "  <style>\n",
              "    .colab-df-container {\n",
              "      display:flex;\n",
              "      flex-wrap:wrap;\n",
              "      gap: 12px;\n",
              "    }\n",
              "\n",
              "    .colab-df-convert {\n",
              "      background-color: #E8F0FE;\n",
              "      border: none;\n",
              "      border-radius: 50%;\n",
              "      cursor: pointer;\n",
              "      display: none;\n",
              "      fill: #1967D2;\n",
              "      height: 32px;\n",
              "      padding: 0 0 0 0;\n",
              "      width: 32px;\n",
              "    }\n",
              "\n",
              "    .colab-df-convert:hover {\n",
              "      background-color: #E2EBFA;\n",
              "      box-shadow: 0px 1px 2px rgba(60, 64, 67, 0.3), 0px 1px 3px 1px rgba(60, 64, 67, 0.15);\n",
              "      fill: #174EA6;\n",
              "    }\n",
              "\n",
              "    [theme=dark] .colab-df-convert {\n",
              "      background-color: #3B4455;\n",
              "      fill: #D2E3FC;\n",
              "    }\n",
              "\n",
              "    [theme=dark] .colab-df-convert:hover {\n",
              "      background-color: #434B5C;\n",
              "      box-shadow: 0px 1px 3px 1px rgba(0, 0, 0, 0.15);\n",
              "      filter: drop-shadow(0px 1px 2px rgba(0, 0, 0, 0.3));\n",
              "      fill: #FFFFFF;\n",
              "    }\n",
              "  </style>\n",
              "\n",
              "      <script>\n",
              "        const buttonEl =\n",
              "          document.querySelector('#df-a5c4dc35-1503-47a8-be8e-23664bf01917 button.colab-df-convert');\n",
              "        buttonEl.style.display =\n",
              "          google.colab.kernel.accessAllowed ? 'block' : 'none';\n",
              "\n",
              "        async function convertToInteractive(key) {\n",
              "          const element = document.querySelector('#df-a5c4dc35-1503-47a8-be8e-23664bf01917');\n",
              "          const dataTable =\n",
              "            await google.colab.kernel.invokeFunction('convertToInteractive',\n",
              "                                                     [key], {});\n",
              "          if (!dataTable) return;\n",
              "\n",
              "          const docLinkHtml = 'Like what you see? Visit the ' +\n",
              "            '<a target=\"_blank\" href=https://colab.research.google.com/notebooks/data_table.ipynb>data table notebook</a>'\n",
              "            + ' to learn more about interactive tables.';\n",
              "          element.innerHTML = '';\n",
              "          dataTable['output_type'] = 'display_data';\n",
              "          await google.colab.output.renderOutput(dataTable, element);\n",
              "          const docLink = document.createElement('div');\n",
              "          docLink.innerHTML = docLinkHtml;\n",
              "          element.appendChild(docLink);\n",
              "        }\n",
              "      </script>\n",
              "    </div>\n",
              "  </div>\n",
              "  "
            ],
            "text/plain": [
              "              price  ...  availability_365\n",
              "count  48895.000000  ...      48895.000000\n",
              "mean     152.720687  ...        112.781327\n",
              "std      240.154170  ...        131.622289\n",
              "min        0.000000  ...          0.000000\n",
              "25%       69.000000  ...          0.000000\n",
              "50%      106.000000  ...         45.000000\n",
              "75%      175.000000  ...        227.000000\n",
              "max    10000.000000  ...        365.000000\n",
              "\n",
              "[8 rows x 6 columns]"
            ]
          },
          "metadata": {},
          "execution_count": 12
        }
      ],
      "source": [
        "#----------------------Block 9----------------------------------\n",
        "\n",
        "#checking for descriptive summary of data\n",
        "airbnbNY_data.drop(['id','host_id','latitude','longitude'], axis =1).describe()"
      ]
    },
    {
      "cell_type": "markdown",
      "metadata": {
        "id": "5xRFMcszeUkH"
      },
      "source": [
        "*Descriptive table tells us that except availability 365, all other features has some serious outliers.*\n",
        "\n",
        "*As a part of this project we are only performing EDA .So there might not be a need of outlier treatment but in some specific cases outliers affects our EDA task as well. So we'll look for temporary treatment at that point.*\n"
      ]
    },
    {
      "cell_type": "markdown",
      "metadata": {
        "id": "OHR2xLWh8RxL"
      },
      "source": [
        "# ***Part 2: Feature analysis and engineering***"
      ]
    },
    {
      "cell_type": "markdown",
      "metadata": {
        "id": "hy23Hf2U8cTF"
      },
      "source": [
        "##***1 .Visualising and analysing about different areas(neighbourhood and boroughs)***"
      ]
    },
    {
      "cell_type": "code",
      "execution_count": 13,
      "metadata": {
        "colab": {
          "base_uri": "https://localhost:8080/"
        },
        "id": "kCKPcObq17oP",
        "outputId": "ed1edf67-451c-463c-8085-19c4d75681a1"
      },
      "outputs": [
        {
          "output_type": "execute_result",
          "data": {
            "text/plain": [
              "array(['Brooklyn', 'Manhattan', 'Queens', 'Staten Island', 'Bronx'],\n",
              "      dtype=object)"
            ]
          },
          "metadata": {},
          "execution_count": 13
        }
      ],
      "source": [
        "#----------------------Block 10----------------------------------\n",
        "\n",
        "# unique categories in neighbourhood_group\n",
        "airbnbNY_data['neighbourhood_group'].unique()"
      ]
    },
    {
      "cell_type": "markdown",
      "metadata": {
        "id": "iJJvGaPo2K96"
      },
      "source": [
        "*1. There are total of 5 neighbourhood groups.*\n",
        "\n",
        "\n",
        "*2. In New York whole New York city has been divided in these(neighbourhood_group) five adminstrative region and these are called borough there. So we will rename the neighbourhood_group columns to borough for better comprehensiveness.*\n"
      ]
    },
    {
      "cell_type": "code",
      "execution_count": 14,
      "metadata": {
        "id": "37Zzwojl22C6"
      },
      "outputs": [],
      "source": [
        "#----------------------Block 11----------------------------------\n",
        "\n",
        "airbnbNY_data.rename(columns={'neighbourhood_group':'borough'}, inplace=True) # renaming neighbourhood group column to borough"
      ]
    },
    {
      "cell_type": "code",
      "execution_count": 15,
      "metadata": {
        "colab": {
          "base_uri": "https://localhost:8080/",
          "height": 357
        },
        "id": "v_E1vXV0jECI",
        "outputId": "2848f49a-ac9f-44b5-ed28-53a1799ad4fe"
      },
      "outputs": [
        {
          "output_type": "execute_result",
          "data": {
            "text/html": [
              "\n",
              "  <div id=\"df-8d7eb00f-3543-48d9-b53b-65b32a3a92ba\">\n",
              "    <div class=\"colab-df-container\">\n",
              "      <div>\n",
              "<style scoped>\n",
              "    .dataframe tbody tr th:only-of-type {\n",
              "        vertical-align: middle;\n",
              "    }\n",
              "\n",
              "    .dataframe tbody tr th {\n",
              "        vertical-align: top;\n",
              "    }\n",
              "\n",
              "    .dataframe thead th {\n",
              "        text-align: right;\n",
              "    }\n",
              "</style>\n",
              "<table border=\"1\" class=\"dataframe\">\n",
              "  <thead>\n",
              "    <tr style=\"text-align: right;\">\n",
              "      <th></th>\n",
              "      <th>id</th>\n",
              "      <th>host_id</th>\n",
              "      <th>borough</th>\n",
              "      <th>neighbourhood</th>\n",
              "      <th>latitude</th>\n",
              "      <th>longitude</th>\n",
              "      <th>room_type</th>\n",
              "      <th>price</th>\n",
              "      <th>minimum_nights</th>\n",
              "      <th>number_of_reviews</th>\n",
              "      <th>reviews_per_month</th>\n",
              "      <th>calculated_host_listings_count</th>\n",
              "      <th>availability_365</th>\n",
              "    </tr>\n",
              "  </thead>\n",
              "  <tbody>\n",
              "    <tr>\n",
              "      <th>0</th>\n",
              "      <td>2539</td>\n",
              "      <td>2787</td>\n",
              "      <td>Brooklyn</td>\n",
              "      <td>Kensington</td>\n",
              "      <td>40.64749</td>\n",
              "      <td>-73.97237</td>\n",
              "      <td>Private room</td>\n",
              "      <td>149</td>\n",
              "      <td>1</td>\n",
              "      <td>9</td>\n",
              "      <td>0.21</td>\n",
              "      <td>6</td>\n",
              "      <td>365</td>\n",
              "    </tr>\n",
              "    <tr>\n",
              "      <th>1</th>\n",
              "      <td>2595</td>\n",
              "      <td>2845</td>\n",
              "      <td>Manhattan</td>\n",
              "      <td>Midtown</td>\n",
              "      <td>40.75362</td>\n",
              "      <td>-73.98377</td>\n",
              "      <td>Entire home/apt</td>\n",
              "      <td>225</td>\n",
              "      <td>1</td>\n",
              "      <td>45</td>\n",
              "      <td>0.38</td>\n",
              "      <td>2</td>\n",
              "      <td>355</td>\n",
              "    </tr>\n",
              "    <tr>\n",
              "      <th>2</th>\n",
              "      <td>3647</td>\n",
              "      <td>4632</td>\n",
              "      <td>Manhattan</td>\n",
              "      <td>Harlem</td>\n",
              "      <td>40.80902</td>\n",
              "      <td>-73.94190</td>\n",
              "      <td>Private room</td>\n",
              "      <td>150</td>\n",
              "      <td>3</td>\n",
              "      <td>0</td>\n",
              "      <td>0.00</td>\n",
              "      <td>1</td>\n",
              "      <td>365</td>\n",
              "    </tr>\n",
              "    <tr>\n",
              "      <th>3</th>\n",
              "      <td>3831</td>\n",
              "      <td>4869</td>\n",
              "      <td>Brooklyn</td>\n",
              "      <td>Clinton Hill</td>\n",
              "      <td>40.68514</td>\n",
              "      <td>-73.95976</td>\n",
              "      <td>Entire home/apt</td>\n",
              "      <td>89</td>\n",
              "      <td>1</td>\n",
              "      <td>270</td>\n",
              "      <td>4.64</td>\n",
              "      <td>1</td>\n",
              "      <td>194</td>\n",
              "    </tr>\n",
              "    <tr>\n",
              "      <th>4</th>\n",
              "      <td>5022</td>\n",
              "      <td>7192</td>\n",
              "      <td>Manhattan</td>\n",
              "      <td>East Harlem</td>\n",
              "      <td>40.79851</td>\n",
              "      <td>-73.94399</td>\n",
              "      <td>Entire home/apt</td>\n",
              "      <td>80</td>\n",
              "      <td>10</td>\n",
              "      <td>9</td>\n",
              "      <td>0.10</td>\n",
              "      <td>1</td>\n",
              "      <td>0</td>\n",
              "    </tr>\n",
              "  </tbody>\n",
              "</table>\n",
              "</div>\n",
              "      <button class=\"colab-df-convert\" onclick=\"convertToInteractive('df-8d7eb00f-3543-48d9-b53b-65b32a3a92ba')\"\n",
              "              title=\"Convert this dataframe to an interactive table.\"\n",
              "              style=\"display:none;\">\n",
              "        \n",
              "  <svg xmlns=\"http://www.w3.org/2000/svg\" height=\"24px\"viewBox=\"0 0 24 24\"\n",
              "       width=\"24px\">\n",
              "    <path d=\"M0 0h24v24H0V0z\" fill=\"none\"/>\n",
              "    <path d=\"M18.56 5.44l.94 2.06.94-2.06 2.06-.94-2.06-.94-.94-2.06-.94 2.06-2.06.94zm-11 1L8.5 8.5l.94-2.06 2.06-.94-2.06-.94L8.5 2.5l-.94 2.06-2.06.94zm10 10l.94 2.06.94-2.06 2.06-.94-2.06-.94-.94-2.06-.94 2.06-2.06.94z\"/><path d=\"M17.41 7.96l-1.37-1.37c-.4-.4-.92-.59-1.43-.59-.52 0-1.04.2-1.43.59L10.3 9.45l-7.72 7.72c-.78.78-.78 2.05 0 2.83L4 21.41c.39.39.9.59 1.41.59.51 0 1.02-.2 1.41-.59l7.78-7.78 2.81-2.81c.8-.78.8-2.07 0-2.86zM5.41 20L4 18.59l7.72-7.72 1.47 1.35L5.41 20z\"/>\n",
              "  </svg>\n",
              "      </button>\n",
              "      \n",
              "  <style>\n",
              "    .colab-df-container {\n",
              "      display:flex;\n",
              "      flex-wrap:wrap;\n",
              "      gap: 12px;\n",
              "    }\n",
              "\n",
              "    .colab-df-convert {\n",
              "      background-color: #E8F0FE;\n",
              "      border: none;\n",
              "      border-radius: 50%;\n",
              "      cursor: pointer;\n",
              "      display: none;\n",
              "      fill: #1967D2;\n",
              "      height: 32px;\n",
              "      padding: 0 0 0 0;\n",
              "      width: 32px;\n",
              "    }\n",
              "\n",
              "    .colab-df-convert:hover {\n",
              "      background-color: #E2EBFA;\n",
              "      box-shadow: 0px 1px 2px rgba(60, 64, 67, 0.3), 0px 1px 3px 1px rgba(60, 64, 67, 0.15);\n",
              "      fill: #174EA6;\n",
              "    }\n",
              "\n",
              "    [theme=dark] .colab-df-convert {\n",
              "      background-color: #3B4455;\n",
              "      fill: #D2E3FC;\n",
              "    }\n",
              "\n",
              "    [theme=dark] .colab-df-convert:hover {\n",
              "      background-color: #434B5C;\n",
              "      box-shadow: 0px 1px 3px 1px rgba(0, 0, 0, 0.15);\n",
              "      filter: drop-shadow(0px 1px 2px rgba(0, 0, 0, 0.3));\n",
              "      fill: #FFFFFF;\n",
              "    }\n",
              "  </style>\n",
              "\n",
              "      <script>\n",
              "        const buttonEl =\n",
              "          document.querySelector('#df-8d7eb00f-3543-48d9-b53b-65b32a3a92ba button.colab-df-convert');\n",
              "        buttonEl.style.display =\n",
              "          google.colab.kernel.accessAllowed ? 'block' : 'none';\n",
              "\n",
              "        async function convertToInteractive(key) {\n",
              "          const element = document.querySelector('#df-8d7eb00f-3543-48d9-b53b-65b32a3a92ba');\n",
              "          const dataTable =\n",
              "            await google.colab.kernel.invokeFunction('convertToInteractive',\n",
              "                                                     [key], {});\n",
              "          if (!dataTable) return;\n",
              "\n",
              "          const docLinkHtml = 'Like what you see? Visit the ' +\n",
              "            '<a target=\"_blank\" href=https://colab.research.google.com/notebooks/data_table.ipynb>data table notebook</a>'\n",
              "            + ' to learn more about interactive tables.';\n",
              "          element.innerHTML = '';\n",
              "          dataTable['output_type'] = 'display_data';\n",
              "          await google.colab.output.renderOutput(dataTable, element);\n",
              "          const docLink = document.createElement('div');\n",
              "          docLink.innerHTML = docLinkHtml;\n",
              "          element.appendChild(docLink);\n",
              "        }\n",
              "      </script>\n",
              "    </div>\n",
              "  </div>\n",
              "  "
            ],
            "text/plain": [
              "     id  host_id  ... calculated_host_listings_count availability_365\n",
              "0  2539     2787  ...                              6              365\n",
              "1  2595     2845  ...                              2              355\n",
              "2  3647     4632  ...                              1              365\n",
              "3  3831     4869  ...                              1              194\n",
              "4  5022     7192  ...                              1                0\n",
              "\n",
              "[5 rows x 13 columns]"
            ]
          },
          "metadata": {},
          "execution_count": 15
        }
      ],
      "source": [
        "#----------------------Block 12----------------------------------\n",
        "\n",
        "\n",
        "airbnbNY_data.head()  # data check for column rename "
      ]
    },
    {
      "cell_type": "markdown",
      "metadata": {
        "id": "MjGvXAaU4Vyh"
      },
      "source": [
        "###**Lets look into how hosting is divided among these boroughs**"
      ]
    },
    {
      "cell_type": "code",
      "execution_count": 16,
      "metadata": {
        "colab": {
          "base_uri": "https://localhost:8080/"
        },
        "id": "VCCs7PTRG0lL",
        "outputId": "a84ce418-8db9-479b-d89c-66ef3b75b6c1"
      },
      "outputs": [
        {
          "output_type": "execute_result",
          "data": {
            "text/plain": [
              "Manhattan        21661\n",
              "Brooklyn         20104\n",
              "Queens            5666\n",
              "Bronx             1091\n",
              "Staten Island      373\n",
              "Name: borough, dtype: int64"
            ]
          },
          "metadata": {},
          "execution_count": 16
        }
      ],
      "source": [
        "#----------------------Block 13----------------------------------\n",
        "\n",
        "#checking for the observations under each borough\n",
        "borough_hositing = airbnbNY_data['borough'].value_counts().sort_values(ascending=False)\n",
        "borough_hositing"
      ]
    },
    {
      "cell_type": "code",
      "execution_count": 17,
      "metadata": {
        "colab": {
          "base_uri": "https://localhost:8080/",
          "height": 441
        },
        "id": "RkLK0wJAHhCm",
        "outputId": "7ab2e501-7e86-4f80-dd5f-f55cdf7f2c52"
      },
      "outputs": [
        {
          "output_type": "display_data",
          "data": {
            "image/png": "[encoded data removed]",
            "text/plain": [
              "<Figure size 1152x432 with 2 Axes>"
            ]
          },
          "metadata": {
            "needs_background": "light"
          }
        }
      ],
      "source": [
        "#----------------------Block 14----------------------------------\n",
        "\n",
        "#plotting the above found details\n",
        "fig,axes= plt.subplots(1,2,figsize=(16,6))\n",
        "borough_hositing.plot.pie(autopct = '%1.2f%%', ax = axes[0]) #pie plot\n",
        "axes[0].set_title('Percentage split of hostings \\n among each borough')  # title for pie plot\n",
        "axes[0].legend()\n",
        "borough_hositing.plot.bar(ax = axes[1],color=['blue','orange','green','red','purple'])  #bar plot\n",
        "axes[1].set_title('Number of hostings among different boroughs')  # title for bar plot\n",
        "axes[1].set(ylabel='No. of hostings', xlabel='Boroughs')   # labelling y and x axis\n",
        "fig.tight_layout() #for creating proper spacing and arrangement among different figures on canvas"
      ]
    },
    {
      "cell_type": "markdown",
      "metadata": {
        "id": "HU8OidukLRmn"
      },
      "source": [
        "*From above charts we can see that major no. of hostings are from Brooklyn and Manhattan from this listing of airbnb New York city whereas Staten Island and Bronx are way too less populous in terms of hostings.*\n",
        "\n",
        "*Actually Manhattan is one of  the most attracted tourism borough in New York called to be as a heart of New York city and Brooklyn follows after Manhattan and also it is most populous borough that is one of the strong reason for Brooklyn and Manhattan to be dominating in terms of hostings.* \n"
      ]
    },
    {
      "cell_type": "markdown",
      "metadata": {
        "id": "2koBHFHS1Kup"
      },
      "source": [
        "###**Checking for some of the top neighbourhoods and to which borough they belong**\n",
        "\n",
        "\n",
        "\n",
        "\n",
        "*Note : We are qualifying neighbourhood as top on the basis of number of hostings.*\n",
        "\n"
      ]
    },
    {
      "cell_type": "code",
      "execution_count": 18,
      "metadata": {
        "colab": {
          "base_uri": "https://localhost:8080/",
          "height": 677
        },
        "id": "mIEZsnXP1ZJb",
        "outputId": "35de5eda-3f73-4574-98a3-c54371c7596d"
      },
      "outputs": [
        {
          "output_type": "execute_result",
          "data": {
            "text/html": [
              "\n",
              "  <div id=\"df-08b2203a-8efd-4ac0-b057-0e0fa8fce31c\">\n",
              "    <div class=\"colab-df-container\">\n",
              "      <div>\n",
              "<style scoped>\n",
              "    .dataframe tbody tr th:only-of-type {\n",
              "        vertical-align: middle;\n",
              "    }\n",
              "\n",
              "    .dataframe tbody tr th {\n",
              "        vertical-align: top;\n",
              "    }\n",
              "\n",
              "    .dataframe thead th {\n",
              "        text-align: right;\n",
              "    }\n",
              "</style>\n",
              "<table border=\"1\" class=\"dataframe\">\n",
              "  <thead>\n",
              "    <tr style=\"text-align: right;\">\n",
              "      <th></th>\n",
              "      <th>borough</th>\n",
              "      <th>neighbourhood</th>\n",
              "      <th>num of hostings</th>\n",
              "    </tr>\n",
              "  </thead>\n",
              "  <tbody>\n",
              "    <tr>\n",
              "      <th>0</th>\n",
              "      <td>Brooklyn</td>\n",
              "      <td>Williamsburg</td>\n",
              "      <td>3920</td>\n",
              "    </tr>\n",
              "    <tr>\n",
              "      <th>1</th>\n",
              "      <td>Brooklyn</td>\n",
              "      <td>Bedford-Stuyvesant</td>\n",
              "      <td>3714</td>\n",
              "    </tr>\n",
              "    <tr>\n",
              "      <th>2</th>\n",
              "      <td>Manhattan</td>\n",
              "      <td>Harlem</td>\n",
              "      <td>2658</td>\n",
              "    </tr>\n",
              "    <tr>\n",
              "      <th>3</th>\n",
              "      <td>Brooklyn</td>\n",
              "      <td>Bushwick</td>\n",
              "      <td>2465</td>\n",
              "    </tr>\n",
              "    <tr>\n",
              "      <th>4</th>\n",
              "      <td>Manhattan</td>\n",
              "      <td>Upper West Side</td>\n",
              "      <td>1971</td>\n",
              "    </tr>\n",
              "    <tr>\n",
              "      <th>5</th>\n",
              "      <td>Manhattan</td>\n",
              "      <td>Hell's Kitchen</td>\n",
              "      <td>1958</td>\n",
              "    </tr>\n",
              "    <tr>\n",
              "      <th>6</th>\n",
              "      <td>Manhattan</td>\n",
              "      <td>East Village</td>\n",
              "      <td>1853</td>\n",
              "    </tr>\n",
              "    <tr>\n",
              "      <th>7</th>\n",
              "      <td>Manhattan</td>\n",
              "      <td>Upper East Side</td>\n",
              "      <td>1798</td>\n",
              "    </tr>\n",
              "    <tr>\n",
              "      <th>8</th>\n",
              "      <td>Brooklyn</td>\n",
              "      <td>Crown Heights</td>\n",
              "      <td>1564</td>\n",
              "    </tr>\n",
              "    <tr>\n",
              "      <th>9</th>\n",
              "      <td>Manhattan</td>\n",
              "      <td>Midtown</td>\n",
              "      <td>1545</td>\n",
              "    </tr>\n",
              "    <tr>\n",
              "      <th>10</th>\n",
              "      <td>Manhattan</td>\n",
              "      <td>East Harlem</td>\n",
              "      <td>1117</td>\n",
              "    </tr>\n",
              "    <tr>\n",
              "      <th>11</th>\n",
              "      <td>Brooklyn</td>\n",
              "      <td>Greenpoint</td>\n",
              "      <td>1115</td>\n",
              "    </tr>\n",
              "    <tr>\n",
              "      <th>12</th>\n",
              "      <td>Manhattan</td>\n",
              "      <td>Chelsea</td>\n",
              "      <td>1113</td>\n",
              "    </tr>\n",
              "    <tr>\n",
              "      <th>13</th>\n",
              "      <td>Manhattan</td>\n",
              "      <td>Lower East Side</td>\n",
              "      <td>911</td>\n",
              "    </tr>\n",
              "    <tr>\n",
              "      <th>14</th>\n",
              "      <td>Queens</td>\n",
              "      <td>Astoria</td>\n",
              "      <td>900</td>\n",
              "    </tr>\n",
              "    <tr>\n",
              "      <th>15</th>\n",
              "      <td>Manhattan</td>\n",
              "      <td>Washington Heights</td>\n",
              "      <td>899</td>\n",
              "    </tr>\n",
              "    <tr>\n",
              "      <th>16</th>\n",
              "      <td>Manhattan</td>\n",
              "      <td>West Village</td>\n",
              "      <td>768</td>\n",
              "    </tr>\n",
              "    <tr>\n",
              "      <th>17</th>\n",
              "      <td>Manhattan</td>\n",
              "      <td>Financial District</td>\n",
              "      <td>744</td>\n",
              "    </tr>\n",
              "    <tr>\n",
              "      <th>18</th>\n",
              "      <td>Brooklyn</td>\n",
              "      <td>Flatbush</td>\n",
              "      <td>621</td>\n",
              "    </tr>\n",
              "    <tr>\n",
              "      <th>19</th>\n",
              "      <td>Brooklyn</td>\n",
              "      <td>Clinton Hill</td>\n",
              "      <td>572</td>\n",
              "    </tr>\n",
              "  </tbody>\n",
              "</table>\n",
              "</div>\n",
              "      <button class=\"colab-df-convert\" onclick=\"convertToInteractive('df-08b2203a-8efd-4ac0-b057-0e0fa8fce31c')\"\n",
              "              title=\"Convert this dataframe to an interactive table.\"\n",
              "              style=\"display:none;\">\n",
              "        \n",
              "  <svg xmlns=\"http://www.w3.org/2000/svg\" height=\"24px\"viewBox=\"0 0 24 24\"\n",
              "       width=\"24px\">\n",
              "    <path d=\"M0 0h24v24H0V0z\" fill=\"none\"/>\n",
              "    <path d=\"M18.56 5.44l.94 2.06.94-2.06 2.06-.94-2.06-.94-.94-2.06-.94 2.06-2.06.94zm-11 1L8.5 8.5l.94-2.06 2.06-.94-2.06-.94L8.5 2.5l-.94 2.06-2.06.94zm10 10l.94 2.06.94-2.06 2.06-.94-2.06-.94-.94-2.06-.94 2.06-2.06.94z\"/><path d=\"M17.41 7.96l-1.37-1.37c-.4-.4-.92-.59-1.43-.59-.52 0-1.04.2-1.43.59L10.3 9.45l-7.72 7.72c-.78.78-.78 2.05 0 2.83L4 21.41c.39.39.9.59 1.41.59.51 0 1.02-.2 1.41-.59l7.78-7.78 2.81-2.81c.8-.78.8-2.07 0-2.86zM5.41 20L4 18.59l7.72-7.72 1.47 1.35L5.41 20z\"/>\n",
              "  </svg>\n",
              "      </button>\n",
              "      \n",
              "  <style>\n",
              "    .colab-df-container {\n",
              "      display:flex;\n",
              "      flex-wrap:wrap;\n",
              "      gap: 12px;\n",
              "    }\n",
              "\n",
              "    .colab-df-convert {\n",
              "      background-color: #E8F0FE;\n",
              "      border: none;\n",
              "      border-radius: 50%;\n",
              "      cursor: pointer;\n",
              "      display: none;\n",
              "      fill: #1967D2;\n",
              "      height: 32px;\n",
              "      padding: 0 0 0 0;\n",
              "      width: 32px;\n",
              "    }\n",
              "\n",
              "    .colab-df-convert:hover {\n",
              "      background-color: #E2EBFA;\n",
              "      box-shadow: 0px 1px 2px rgba(60, 64, 67, 0.3), 0px 1px 3px 1px rgba(60, 64, 67, 0.15);\n",
              "      fill: #174EA6;\n",
              "    }\n",
              "\n",
              "    [theme=dark] .colab-df-convert {\n",
              "      background-color: #3B4455;\n",
              "      fill: #D2E3FC;\n",
              "    }\n",
              "\n",
              "    [theme=dark] .colab-df-convert:hover {\n",
              "      background-color: #434B5C;\n",
              "      box-shadow: 0px 1px 3px 1px rgba(0, 0, 0, 0.15);\n",
              "      filter: drop-shadow(0px 1px 2px rgba(0, 0, 0, 0.3));\n",
              "      fill: #FFFFFF;\n",
              "    }\n",
              "  </style>\n",
              "\n",
              "      <script>\n",
              "        const buttonEl =\n",
              "          document.querySelector('#df-08b2203a-8efd-4ac0-b057-0e0fa8fce31c button.colab-df-convert');\n",
              "        buttonEl.style.display =\n",
              "          google.colab.kernel.accessAllowed ? 'block' : 'none';\n",
              "\n",
              "        async function convertToInteractive(key) {\n",
              "          const element = document.querySelector('#df-08b2203a-8efd-4ac0-b057-0e0fa8fce31c');\n",
              "          const dataTable =\n",
              "            await google.colab.kernel.invokeFunction('convertToInteractive',\n",
              "                                                     [key], {});\n",
              "          if (!dataTable) return;\n",
              "\n",
              "          const docLinkHtml = 'Like what you see? Visit the ' +\n",
              "            '<a target=\"_blank\" href=https://colab.research.google.com/notebooks/data_table.ipynb>data table notebook</a>'\n",
              "            + ' to learn more about interactive tables.';\n",
              "          element.innerHTML = '';\n",
              "          dataTable['output_type'] = 'display_data';\n",
              "          await google.colab.output.renderOutput(dataTable, element);\n",
              "          const docLink = document.createElement('div');\n",
              "          docLink.innerHTML = docLinkHtml;\n",
              "          element.appendChild(docLink);\n",
              "        }\n",
              "      </script>\n",
              "    </div>\n",
              "  </div>\n",
              "  "
            ],
            "text/plain": [
              "      borough       neighbourhood  num of hostings\n",
              "0    Brooklyn        Williamsburg             3920\n",
              "1    Brooklyn  Bedford-Stuyvesant             3714\n",
              "2   Manhattan              Harlem             2658\n",
              "3    Brooklyn            Bushwick             2465\n",
              "4   Manhattan     Upper West Side             1971\n",
              "5   Manhattan      Hell's Kitchen             1958\n",
              "6   Manhattan        East Village             1853\n",
              "7   Manhattan     Upper East Side             1798\n",
              "8    Brooklyn       Crown Heights             1564\n",
              "9   Manhattan             Midtown             1545\n",
              "10  Manhattan         East Harlem             1117\n",
              "11   Brooklyn          Greenpoint             1115\n",
              "12  Manhattan             Chelsea             1113\n",
              "13  Manhattan     Lower East Side              911\n",
              "14     Queens             Astoria              900\n",
              "15  Manhattan  Washington Heights              899\n",
              "16  Manhattan        West Village              768\n",
              "17  Manhattan  Financial District              744\n",
              "18   Brooklyn            Flatbush              621\n",
              "19   Brooklyn        Clinton Hill              572"
            ]
          },
          "metadata": {},
          "execution_count": 18
        }
      ],
      "source": [
        "#----------------------Block 15----------------------------------\n",
        "\n",
        "#grouping observation on borough first and then on neighbourhood and then picking up their count\n",
        "top_20_neighbourhood = airbnbNY_data.groupby(['borough','neighbourhood']).agg({'id':'count'}).sort_values(by='id',ascending=False)[0:20].reset_index()\n",
        "top_20_neighbourhood.rename(columns={'id':'num of hostings'},inplace=True)\n",
        "top_20_neighbourhood"
      ]
    },
    {
      "cell_type": "code",
      "execution_count": 19,
      "metadata": {
        "colab": {
          "base_uri": "https://localhost:8080/",
          "height": 566
        },
        "id": "RwbDDRDn2EQ7",
        "outputId": "dfe5fc95-409d-4eaf-d882-641c78b8e173"
      },
      "outputs": [
        {
          "output_type": "execute_result",
          "data": {
            "text/plain": [
              "Text(0.5, 1.0, 'Top 20 neighbourhoods in terms of number of hostings')"
            ]
          },
          "metadata": {},
          "execution_count": 19
        },
        {
          "output_type": "display_data",
          "data": {
            "image/png": "[encoded data removed]",
            "text/plain": [
              "<Figure size 1080x504 with 1 Axes>"
            ]
          },
          "metadata": {
            "needs_background": "light"
          }
        }
      ],
      "source": [
        "#----------------------Block 16----------------------------------\n",
        "\n",
        "#visualising the same\n",
        "plt.figure(figsize=(15,7))\n",
        "from matplotlib.lines import Line2D\n",
        "borough_dict = {} #initialising an empty dictionary to store the colour representation of boroughs\n",
        "unique_borough = set(list(top_20_neighbourhood['borough']))\n",
        "borough_list = list(top_20_neighbourhood['borough'])\n",
        "color_list=[] #initialising an empty list for storing the colour of each bar in bar plot\n",
        "color=['darkslategray','teal','darkturquoise']\n",
        "index=0\n",
        "for borough in unique_borough:\n",
        "  borough_dict[borough] =color[index] #assigning unique colour that represents each borough\n",
        "  index=index+1\n",
        "for borough in borough_list:   \n",
        "       color_list.append(borough_dict[borough]) #storing the colour of each bar of bar plot in color_list\n",
        "plt.bar(top_20_neighbourhood['neighbourhood'],top_20_neighbourhood['num of hostings'],color=color_list) #plotting a bar plot\n",
        "# creating a custom labels for a graph\n",
        "labels = list(borough_dict.keys())\n",
        "custom_lines = [Line2D([1,2,5,5], [1,2,5,5], color='darkslategray', lw=4),\n",
        "                Line2D([1,2,5,5], [1,2,5,5], color='teal', lw=4),\n",
        "                Line2D([1,2,5,5], [1,2,5,5], color='darkturquoise', lw=4)]\n",
        "plt.xticks(rotation = 90)\n",
        "plt.legend(custom_lines,labels)\n",
        "plt.xlabel('neighbourhood')\n",
        "plt.ylabel('Number of hosts')\n",
        "plt.title(\"Top 20 neighbourhoods in terms of number of hostings\")"
      ]
    },
    {
      "cell_type": "markdown",
      "metadata": {
        "id": "UxqeDuAf2qR1"
      },
      "source": [
        "*From the above graph we can see that :*\n",
        "\n",
        "* Among top 20 neighbourhoods most of these neighbourhood belongs to Manhattan borough.\n",
        "*Although If looking for top 3 densely hosted neighbourhood top 2 belongs to Brooklyn."
      ]
    },
    {
      "cell_type": "markdown",
      "metadata": {
        "id": "J9WtOOV7OrfB"
      },
      "source": [
        "###**Neighbourhoods each borough have**"
      ]
    },
    {
      "cell_type": "code",
      "execution_count": 20,
      "metadata": {
        "colab": {
          "base_uri": "https://localhost:8080/",
          "height": 460
        },
        "id": "9JhD4v4LOxfi",
        "outputId": "fa30f04d-0be6-4408-aae7-d68b35fe8967"
      },
      "outputs": [
        {
          "output_type": "display_data",
          "data": {
            "image/png": "[encoded data removed]",
            "text/plain": [
              "<Figure size 720x432 with 1 Axes>"
            ]
          },
          "metadata": {
            "needs_background": "light"
          }
        }
      ],
      "source": [
        "#----------------------Block 17----------------------------------\n",
        "\n",
        "fig = plt.figure(figsize=(10,6)) #defining figure\n",
        "ngbrhood = airbnbNY_data.groupby('borough')['neighbourhood'].nunique().sort_values(ascending=False) # number of unique neighbourhoods in each borough\n",
        "ngbrhood.plot.bar(color='orange')  # bar plot\n",
        "plt.ylabel('No. of neighbourhoods')\n",
        "plt.title('Number of neighbourhoods in each borough')\n",
        "for ind, val in enumerate(ngbrhood):\n",
        "  plt.text(x = ind, y =val+1, s = str(val))  #plotting the numbers over the bar"
      ]
    },
    {
      "cell_type": "markdown",
      "metadata": {
        "id": "B8SAV391UL8S"
      },
      "source": [
        "*Although Mahnhattan and Brooklyn have most no. of hostings but in terms of neighbourhood they are quite back.*\n",
        "\n",
        "*Reason for it can be Manhattan and Brooklyn have most tourist places and many hostings has been bunched around under same neigbourhood. Thus having most hostings without having much of neighbourhoods.*"
      ]
    },
    {
      "cell_type": "markdown",
      "metadata": {
        "id": "uX-Vzw98Vr-m"
      },
      "source": [
        "###**Lets look for the price distribution in each boroughs**"
      ]
    },
    {
      "cell_type": "code",
      "execution_count": 21,
      "metadata": {
        "colab": {
          "base_uri": "https://localhost:8080/",
          "height": 1000
        },
        "id": "2Bce7OmqV0jT",
        "outputId": "e6dbd0e4-53b4-45c9-b3da-9068122acf2f"
      },
      "outputs": [
        {
          "output_type": "display_data",
          "data": {
            "image/png": "[encoded data removed]",
            "text/plain": [
              "<Figure size 360x360 with 1 Axes>"
            ]
          },
          "metadata": {
            "needs_background": "light"
          }
        },
        {
          "output_type": "display_data",
          "data": {
            "image/png": "[encoded data removed]",
            "text/plain": [
              "<Figure size 360x360 with 1 Axes>"
            ]
          },
          "metadata": {
            "needs_background": "light"
          }
        },
        {
          "output_type": "display_data",
          "data": {
            "image/png": "[encoded data removed]",
            "text/plain": [
              "<Figure size 360x360 with 1 Axes>"
            ]
          },
          "metadata": {
            "needs_background": "light"
          }
        },
        {
          "output_type": "display_data",
          "data": {
            "image/png": "[encoded data removed]",
            "text/plain": [
              "<Figure size 360x360 with 1 Axes>"
            ]
          },
          "metadata": {
            "needs_background": "light"
          }
        },
        {
          "output_type": "display_data",
          "data": {
            "image/png": "[encoded data removed]",
            "text/plain": [
              "<Figure size 360x360 with 1 Axes>"
            ]
          },
          "metadata": {
            "needs_background": "light"
          }
        }
      ],
      "source": [
        "#----------------------Block 18----------------------------------\n",
        "\n",
        "boroughs = set(list(airbnbNY_data['borough'])) # storing distinct boroughs\n",
        "for borough in boroughs:\n",
        "  fig = plt.figure(figsize=(5,5))\n",
        "  axs = fig.gca()  # gca--> get current axis\n",
        "  price_dist = list(airbnbNY_data[airbnbNY_data['borough']== borough]['price'])# list of price for each borough\n",
        "  price_dist = [price for price in price_dist if price < 600] # Limiting price value to 600 to avoid outliers that limits our visualisation\n",
        "  axs.set_title(borough)\n",
        "  sns.distplot(price_dist, ax=axs,color='green')  #distribution plot"
      ]
    },
    {
      "cell_type": "markdown",
      "metadata": {
        "id": "GLVz2kxoaqj-"
      },
      "source": [
        "*Note as told earlier as needed here we have done an outlier treatment.*\n",
        "\n",
        "*Even after removing outliers still the data is bit skewed. We can further decrease the threshold of price also.*\n",
        "\n",
        "*For Manhattan price range mostly varies between 80-250 approx.*\n",
        "\n",
        "*For Brooklyn price range mostly varies between 40-110 approx.*\n",
        "\n",
        "*For Bronx its quite low and somewhere limits between 30-80.*\n",
        "\n",
        "*Staten Island and Queens is quite similar and is somewhere ends up nearby or less than 100.*\n",
        "\n",
        "*Note : Prices are heavily influenced by the outliers .I have set an threshold of price 600 in order to avoid outlier so that we can visualize the range better.*"
      ]
    },
    {
      "cell_type": "markdown",
      "metadata": {
        "id": "UaoLf-TzDaws"
      },
      "source": [
        "###**Lets check how does an average price varies in each borough**"
      ]
    },
    {
      "cell_type": "code",
      "execution_count": 22,
      "metadata": {
        "colab": {
          "base_uri": "https://localhost:8080/",
          "height": 460
        },
        "id": "Iz67aL3h2Occ",
        "outputId": "29f67d07-31c0-4512-bfbc-fe90f349f2fd"
      },
      "outputs": [
        {
          "output_type": "display_data",
          "data": {
            "image/png": "[encoded data removed]",
            "text/plain": [
              "<Figure size 720x432 with 1 Axes>"
            ]
          },
          "metadata": {
            "needs_background": "light"
          }
        }
      ],
      "source": [
        "#----------------------Block 19----------------------------------\n",
        "\n",
        "fig= plt.figure(figsize=(10,6))\n",
        "axes = fig.gca()\n",
        "avgprice_df = airbnbNY_data[airbnbNY_data['price']<600]  # creating sub dataframe with price less than 600\n",
        "avgprice_borough = avgprice_df.groupby('borough').agg({'price':'mean'}).sort_values(by='price',ascending = False)#grouping by borough and averaging out by price\n",
        "avgprice_borough.plot.bar(ax = axes)  # bar plot\n",
        "plt.title('Average Pricing in each borough')\n",
        "avgprice = list(np.around(avgprice_borough.values.reshape(5,))) #rounding up and storing average price of each borough in a list\n",
        "axes.set_ylabel('average price')\n",
        "for ind, val in enumerate(avgprice):\n",
        "  axes.text(x = ind, y =val+3, s = str(val))"
      ]
    },
    {
      "cell_type": "markdown",
      "metadata": {
        "id": "AxOCeeUPJTEt"
      },
      "source": [
        "* Manhattan is one of the borough that charges quite high for hostings followed by Brooklyn.\n",
        "\n",
        "* Manhattan include most of the tourist places including Times Square that can be the reason of this price hikes.\n"
      ]
    },
    {
      "cell_type": "markdown",
      "metadata": {
        "id": "7cH6wYUHLOR4"
      },
      "source": [
        "###**Lets check the same in terms of price for each neighbourhood**"
      ]
    },
    {
      "cell_type": "code",
      "execution_count": 23,
      "metadata": {
        "colab": {
          "base_uri": "https://localhost:8080/",
          "height": 495
        },
        "id": "-gPhtoEmEI0P",
        "outputId": "54ca6596-3e04-4273-9a47-d7303a40f8ef"
      },
      "outputs": [
        {
          "output_type": "execute_result",
          "data": {
            "text/plain": [
              "Text(0.5, 1.0, '10 Neighbourhoods having highest average prices')"
            ]
          },
          "metadata": {},
          "execution_count": 23
        },
        {
          "output_type": "display_data",
          "data": {
            "image/png": "[encoded data removed]",
            "text/plain": [
              "<Figure size 1080x432 with 1 Axes>"
            ]
          },
          "metadata": {
            "needs_background": "light"
          }
        }
      ],
      "source": [
        "#----------------------Block 20----------------------------------\n",
        "\n",
        "#Seperating out the top 10 neighbourhoods with highest average charges\n",
        "avgprice_neighbourhood = airbnbNY_data.groupby(['borough','neighbourhood']).agg({'price':'mean'}).reset_index().sort_values(by='price',ascending=False)[0:10]\n",
        "plt.figure(figsize=(15,6))\n",
        "borough_dict = {}   #dictionary to store unique borough and color label associated with it \n",
        "unique_borough = set(list(avgprice_neighbourhood['borough']))  # seperating out the unique borough names from sub dataframe\n",
        "borough_list = list(avgprice_neighbourhood['borough'])  #listing out all observations boroughs from sub dataframe\n",
        "color_list=[]  # list to store the color associated with bar plots\n",
        "color=['bisque','cyan','pink','lavender','red']\n",
        "index=0 \n",
        "for borough in unique_borough:\n",
        "  borough_dict[borough] =color[index]\n",
        "  index=index+1\n",
        "for borough in borough_list:   \n",
        "       color_list.append(borough_dict[borough])\n",
        "plt.bar(avgprice_neighbourhood['neighbourhood'],avgprice_neighbourhood['price'],color=color_list)\n",
        "labels = list(borough_dict.keys())\n",
        "custom_lines = [Line2D([0], [0], color='bisque', lw=4),  # custom limes for label of bar graph \n",
        "                Line2D([0], [0], color='cyan', lw=4),\n",
        "                Line2D([0], [0], color='pink', lw=4),\n",
        "                Line2D([0], [0], color='lavender', lw=4),\n",
        "                Line2D([0], [0], color='red', lw=4)]\n",
        "plt.xticks(rotation = 90)\n",
        "plt.legend(custom_lines,labels)\n",
        "plt.xlabel('neighbourhood')\n",
        "plt.ylabel('Average Price')\n",
        "plt.title(\"10 Neighbourhoods having highest average prices\")"
      ]
    },
    {
      "cell_type": "markdown",
      "metadata": {
        "id": "iKACOXzFi479"
      },
      "source": [
        "*Staten Islands neighbourhoods seems to have some of the top chargable rentals and Manhattan follows them. Although from our previous analysis it seems that Manhattan is one of the expensive borough but still We have to investigate it a bit further as this might be the result of strong outliers as well. So lets visualize box plots for these 10 neighbourhoods to know if they actually have a higher prices or its just some strong outliers.*"
      ]
    },
    {
      "cell_type": "code",
      "execution_count": 24,
      "metadata": {
        "id": "dYyMx_tjJ1wg"
      },
      "outputs": [],
      "source": [
        "#----------------------Block 21----------------------------------\n",
        "\n",
        "# nghbrhood function to segregate the dataframe only for top 10 neighbours\n",
        "def nghbrhood(col):\n",
        "  if col in neighbourhood_lst:\n",
        "    return True\n",
        "  else:\n",
        "    return False"
      ]
    },
    {
      "cell_type": "code",
      "execution_count": 25,
      "metadata": {
        "colab": {
          "base_uri": "https://localhost:8080/",
          "height": 530
        },
        "id": "imiVfOEekt-_",
        "outputId": "b84aed7f-32da-4afc-cbe2-ab3da7c806b2"
      },
      "outputs": [
        {
          "output_type": "execute_result",
          "data": {
            "text/plain": [
              "Text(0.5, 1.0, 'Price distribution in top 10 neighbourhoods')"
            ]
          },
          "metadata": {},
          "execution_count": 25
        },
        {
          "output_type": "display_data",
          "data": {
            "image/png": "[encoded data removed]",
            "text/plain": [
              "<Figure size 1080x576 with 1 Axes>"
            ]
          },
          "metadata": {
            "needs_background": "light"
          }
        }
      ],
      "source": [
        "#----------------------Block 22----------------------------------\n",
        "\n",
        "neighbourhood_lst = list(avgprice_neighbourhood['neighbourhood'])\n",
        "plt.figure(figsize=(15,8))\n",
        "df_nghbrhoodprice = airbnbNY_data[airbnbNY_data['neighbourhood'].apply(nghbrhood)]  #applying above defined function \n",
        "sns.boxplot(x='neighbourhood',y='price', data = df_nghbrhoodprice )  # boxplot\n",
        "plt.title('Price distribution in top 10 neighbourhoods')"
      ]
    },
    {
      "cell_type": "markdown",
      "metadata": {
        "id": "qPA6RPJrqLSb"
      },
      "source": [
        "*So as thought it seems that Fort Wadsworth and Woodrow doesn't have multiple entries they both only have one listing, Fort Wadsworth with price nearby 800 and Woodsrow having a price nearby 700.*\n",
        "\n",
        "*Whereas Tribeca, Flatiron district and battery part city is heavily influenced by the outliers.*\n",
        "\n",
        "*Prince's bay and River Dales are the ones that doesnt seems to be affected by the outlier and in general have higher prices.*\n",
        "\n",
        "*Lets see if we try with the threshold price of 600 how does result varies.*"
      ]
    },
    {
      "cell_type": "code",
      "execution_count": 26,
      "metadata": {
        "colab": {
          "base_uri": "https://localhost:8080/",
          "height": 494
        },
        "id": "18unz6abrovU",
        "outputId": "026129f4-6cc1-4cf9-a8ab-8fe9fc11b443"
      },
      "outputs": [
        {
          "output_type": "execute_result",
          "data": {
            "text/plain": [
              "Text(0.5, 1.0, '10 Neighbourhoods having highest average prices')"
            ]
          },
          "metadata": {},
          "execution_count": 26
        },
        {
          "output_type": "display_data",
          "data": {
            "image/png": "[encoded data removed]",
            "text/plain": [
              "<Figure size 1080x432 with 1 Axes>"
            ]
          },
          "metadata": {
            "needs_background": "light"
          }
        }
      ],
      "source": [
        "#----------------------Block 23----------------------------------\n",
        "\n",
        "#Seperating out the top 10 neighbourhoods with highest average charges having price threshold 600\n",
        "avgprice_neighbourhood = avgprice_df.groupby(['borough','neighbourhood']).agg({'price':'mean'}).reset_index().sort_values(by='price',ascending=False)[0:10]\n",
        "plt.figure(figsize=(15,6))\n",
        "borough_dict = {}   #dictionary to store unique borough and color label associated with it \n",
        "unique_borough = set(list(avgprice_neighbourhood['borough']))  # seperating out the unique borough names from sub dataframe\n",
        "borough_list = list(avgprice_neighbourhood['borough'])  #listing out all observations boroughs from sub dataframe\n",
        "color_list=[]  # list to store the color associated with bar plots\n",
        "color=['bisque','cyan','pink','blue','red']\n",
        "index=0\n",
        "for borough in unique_borough:\n",
        "  borough_dict[borough] =color[index]\n",
        "  index=index+1\n",
        "for borough in borough_list:   \n",
        "       color_list.append(borough_dict[borough])\n",
        "plt.bar(avgprice_neighbourhood['neighbourhood'],avgprice_neighbourhood['price'],color=color_list)\n",
        "labels = list(borough_dict.keys())\n",
        "custom_lines = [Line2D([0], [0], color='bisque', lw=4),  # custom limes for label of bar graph \n",
        "                Line2D([0], [0], color='cyan', lw=4),\n",
        "                Line2D([0], [0], color='pink', lw=4),\n",
        "                Line2D([0], [0], color='blue', lw=4),\n",
        "                Line2D([0], [0], color='red', lw=4)]\n",
        "plt.xticks(rotation = 90)\n",
        "plt.legend(custom_lines,labels)\n",
        "plt.xlabel('neighbourhood')\n",
        "plt.ylabel('Average Price')\n",
        "plt.title(\"10 Neighbourhoods having highest average prices\")"
      ]
    },
    {
      "cell_type": "code",
      "execution_count": 27,
      "metadata": {
        "colab": {
          "base_uri": "https://localhost:8080/",
          "height": 530
        },
        "id": "ROC9V-pTr_r8",
        "outputId": "9939bc34-65fc-48dd-e34e-ae0ad9adde22"
      },
      "outputs": [
        {
          "output_type": "execute_result",
          "data": {
            "text/plain": [
              "Text(0.5, 1.0, 'Price distribution in top 10 neighbourhoods')"
            ]
          },
          "metadata": {},
          "execution_count": 27
        },
        {
          "output_type": "display_data",
          "data": {
            "image/png": "[encoded data removed]",
            "text/plain": [
              "<Figure size 1080x576 with 1 Axes>"
            ]
          },
          "metadata": {
            "needs_background": "light"
          }
        }
      ],
      "source": [
        "#----------------------Block 24----------------------------------\n",
        "neighbourhood_lst = list(avgprice_neighbourhood['neighbourhood'])\n",
        "plt.figure(figsize=(15,8))\n",
        "df_nghbrhoodprice = avgprice_df[avgprice_df['neighbourhood'].apply(nghbrhood)]  #applying above defined function \n",
        "sns.boxplot(x='neighbourhood',y='price', hue='borough',data = df_nghbrhoodprice)  # boxplot\n",
        "plt.title('Price distribution in top 10 neighbourhoods') #adding title to the plot"
      ]
    },
    {
      "cell_type": "markdown",
      "metadata": {
        "id": "9eAbiu0RxO2d"
      },
      "source": [
        "*As we have changed a price threshold to 600 picture changes pretty much thus these neighhbourhood prices are influenced by outliers. You can also try changing multiple threshold and can visualize how the graph and neighbourhood changes* "
      ]
    },
    {
      "cell_type": "markdown",
      "metadata": {
        "id": "og3TJmGzrnbI"
      },
      "source": [
        "###**We have played pretty much along with area and collected an info :**\n",
        "\n",
        "\n",
        "*1. Among all 5 boroughs Manhattans and Brooklyn are the ones who have most rentals. Manhattan is the most famous tourism borough and that is one of the reasons for most rentals.*\n",
        "\n",
        "*2. Although Manhattan dominates in no. of hostings but neighbourhoods of Brooklyn dominates on first 2 positions in among top 20 neighbourhoods. Still if we quantify the result than we see we have most number of Manhattan neighbourhoods tooks a place among top 20 neighbourhood.*\n",
        "\n",
        "*3. Williamsburg is a hip neighbourhood in Brooklyn that draws the young and the fashionable to its chic boutiques, trendy cafes and buzzy restaurants. Street art brightens residential thoroughfares and repurposed factories, while the waterfront provides stunning views of Manhattan and seasonal venues for outdoor concerts and food markets.*\n",
        "\n",
        "*4.Number of neighbourhood is highest in Queens and lowest in Manhattan still Manhattan has most no. of rentals.*\n",
        "\n",
        "*5. Due to this tourism factor average price of rentals is higher in Manhattan and after Manhattan Brooklyn follows it.*\n",
        "\n",
        "*6. Price data contains too many outliers, mostly the price of hotel saturates at max near 500-600 but we have some rentals charging as high as 10000. Thus creating a bias in average prices. We have tried to visualize the price data among different neighbourhoods and in that case also after outlier treatment out of top higest pricing neighbourhood 7 belongs to Manhattan.*\n"
      ]
    },
    {
      "cell_type": "markdown",
      "metadata": {
        "id": "fWi-17M2rw7x"
      },
      "source": [
        "##***2. Visualising and analysing about different room types***"
      ]
    },
    {
      "cell_type": "code",
      "execution_count": 28,
      "metadata": {
        "colab": {
          "base_uri": "https://localhost:8080/"
        },
        "id": "GOq4jS2tonnm",
        "outputId": "bcba96ad-1e44-42d2-958c-f607ac818315"
      },
      "outputs": [
        {
          "output_type": "execute_result",
          "data": {
            "text/plain": [
              "array(['Private room', 'Entire home/apt', 'Shared room'], dtype=object)"
            ]
          },
          "metadata": {},
          "execution_count": 28
        }
      ],
      "source": [
        "#----------------------Block 25----------------------------------\n",
        "\n",
        "#unique room_type values \n",
        "airbnbNY_data['room_type'].unique()"
      ]
    },
    {
      "cell_type": "markdown",
      "source": [
        "###**Lets check the room type feature**"
      ],
      "metadata": {
        "id": "OHng0TcJ5EZy"
      }
    },
    {
      "cell_type": "code",
      "execution_count": 29,
      "metadata": {
        "colab": {
          "base_uri": "https://localhost:8080/",
          "height": 492
        },
        "id": "mS1DtwhYwLwS",
        "outputId": "71058097-5f2d-46c0-cc88-729d0026bb46"
      },
      "outputs": [
        {
          "output_type": "execute_result",
          "data": {
            "text/plain": [
              "Text(0, 0.5, 'counts')"
            ]
          },
          "metadata": {},
          "execution_count": 29
        },
        {
          "output_type": "display_data",
          "data": {
            "image/png": "[encoded data removed]",
            "text/plain": [
              "<Figure size 720x432 with 1 Axes>"
            ]
          },
          "metadata": {
            "needs_background": "light"
          }
        }
      ],
      "source": [
        "#----------------------Block 26----------------------------------\n",
        "\n",
        "plt.rcParams['figure.figsize']=(10,6) #defining figure\n",
        "airbnbNY_data['room_type'].value_counts().plot.bar() # counts of each room type\n",
        "plt.title('Number of each roomtype rentals in a dataset')\n",
        "plt.xlabel('Room_type')\n",
        "plt.ylabel('counts')"
      ]
    },
    {
      "cell_type": "markdown",
      "metadata": {
        "id": "H0pa3LPF7MzG"
      },
      "source": [
        "*Mostly rentals are there for entire home or private rooms and just very few in case of shared room. Shared room might be not much prefered by visitiors.*"
      ]
    },
    {
      "cell_type": "markdown",
      "source": [
        "###**Lets check how room types are divided in each borough**"
      ],
      "metadata": {
        "id": "IfpLkbbokxEQ"
      }
    },
    {
      "cell_type": "code",
      "execution_count": 30,
      "metadata": {
        "colab": {
          "base_uri": "https://localhost:8080/",
          "height": 269
        },
        "id": "eINkjBw04KT3",
        "outputId": "7ad98be9-1f07-42ec-da64-08bd8f2dd229"
      },
      "outputs": [
        {
          "output_type": "execute_result",
          "data": {
            "text/html": [
              "\n",
              "  <div id=\"df-31535ed9-1291-4646-a536-e69f74cdab01\">\n",
              "    <div class=\"colab-df-container\">\n",
              "      <div>\n",
              "<style scoped>\n",
              "    .dataframe tbody tr th:only-of-type {\n",
              "        vertical-align: middle;\n",
              "    }\n",
              "\n",
              "    .dataframe tbody tr th {\n",
              "        vertical-align: top;\n",
              "    }\n",
              "\n",
              "    .dataframe thead tr th {\n",
              "        text-align: left;\n",
              "    }\n",
              "\n",
              "    .dataframe thead tr:last-of-type th {\n",
              "        text-align: right;\n",
              "    }\n",
              "</style>\n",
              "<table border=\"1\" class=\"dataframe\">\n",
              "  <thead>\n",
              "    <tr>\n",
              "      <th></th>\n",
              "      <th colspan=\"3\" halign=\"left\">room_type</th>\n",
              "    </tr>\n",
              "    <tr>\n",
              "      <th>room_type</th>\n",
              "      <th>Entire home/apt</th>\n",
              "      <th>Private room</th>\n",
              "      <th>Shared room</th>\n",
              "    </tr>\n",
              "    <tr>\n",
              "      <th>borough</th>\n",
              "      <th></th>\n",
              "      <th></th>\n",
              "      <th></th>\n",
              "    </tr>\n",
              "  </thead>\n",
              "  <tbody>\n",
              "    <tr>\n",
              "      <th>Bronx</th>\n",
              "      <td>379</td>\n",
              "      <td>652</td>\n",
              "      <td>60</td>\n",
              "    </tr>\n",
              "    <tr>\n",
              "      <th>Brooklyn</th>\n",
              "      <td>9559</td>\n",
              "      <td>10132</td>\n",
              "      <td>413</td>\n",
              "    </tr>\n",
              "    <tr>\n",
              "      <th>Manhattan</th>\n",
              "      <td>13199</td>\n",
              "      <td>7982</td>\n",
              "      <td>480</td>\n",
              "    </tr>\n",
              "    <tr>\n",
              "      <th>Queens</th>\n",
              "      <td>2096</td>\n",
              "      <td>3372</td>\n",
              "      <td>198</td>\n",
              "    </tr>\n",
              "    <tr>\n",
              "      <th>Staten Island</th>\n",
              "      <td>176</td>\n",
              "      <td>188</td>\n",
              "      <td>9</td>\n",
              "    </tr>\n",
              "  </tbody>\n",
              "</table>\n",
              "</div>\n",
              "      <button class=\"colab-df-convert\" onclick=\"convertToInteractive('df-31535ed9-1291-4646-a536-e69f74cdab01')\"\n",
              "              title=\"Convert this dataframe to an interactive table.\"\n",
              "              style=\"display:none;\">\n",
              "        \n",
              "  <svg xmlns=\"http://www.w3.org/2000/svg\" height=\"24px\"viewBox=\"0 0 24 24\"\n",
              "       width=\"24px\">\n",
              "    <path d=\"M0 0h24v24H0V0z\" fill=\"none\"/>\n",
              "    <path d=\"M18.56 5.44l.94 2.06.94-2.06 2.06-.94-2.06-.94-.94-2.06-.94 2.06-2.06.94zm-11 1L8.5 8.5l.94-2.06 2.06-.94-2.06-.94L8.5 2.5l-.94 2.06-2.06.94zm10 10l.94 2.06.94-2.06 2.06-.94-2.06-.94-.94-2.06-.94 2.06-2.06.94z\"/><path d=\"M17.41 7.96l-1.37-1.37c-.4-.4-.92-.59-1.43-.59-.52 0-1.04.2-1.43.59L10.3 9.45l-7.72 7.72c-.78.78-.78 2.05 0 2.83L4 21.41c.39.39.9.59 1.41.59.51 0 1.02-.2 1.41-.59l7.78-7.78 2.81-2.81c.8-.78.8-2.07 0-2.86zM5.41 20L4 18.59l7.72-7.72 1.47 1.35L5.41 20z\"/>\n",
              "  </svg>\n",
              "      </button>\n",
              "      \n",
              "  <style>\n",
              "    .colab-df-container {\n",
              "      display:flex;\n",
              "      flex-wrap:wrap;\n",
              "      gap: 12px;\n",
              "    }\n",
              "\n",
              "    .colab-df-convert {\n",
              "      background-color: #E8F0FE;\n",
              "      border: none;\n",
              "      border-radius: 50%;\n",
              "      cursor: pointer;\n",
              "      display: none;\n",
              "      fill: #1967D2;\n",
              "      height: 32px;\n",
              "      padding: 0 0 0 0;\n",
              "      width: 32px;\n",
              "    }\n",
              "\n",
              "    .colab-df-convert:hover {\n",
              "      background-color: #E2EBFA;\n",
              "      box-shadow: 0px 1px 2px rgba(60, 64, 67, 0.3), 0px 1px 3px 1px rgba(60, 64, 67, 0.15);\n",
              "      fill: #174EA6;\n",
              "    }\n",
              "\n",
              "    [theme=dark] .colab-df-convert {\n",
              "      background-color: #3B4455;\n",
              "      fill: #D2E3FC;\n",
              "    }\n",
              "\n",
              "    [theme=dark] .colab-df-convert:hover {\n",
              "      background-color: #434B5C;\n",
              "      box-shadow: 0px 1px 3px 1px rgba(0, 0, 0, 0.15);\n",
              "      filter: drop-shadow(0px 1px 2px rgba(0, 0, 0, 0.3));\n",
              "      fill: #FFFFFF;\n",
              "    }\n",
              "  </style>\n",
              "\n",
              "      <script>\n",
              "        const buttonEl =\n",
              "          document.querySelector('#df-31535ed9-1291-4646-a536-e69f74cdab01 button.colab-df-convert');\n",
              "        buttonEl.style.display =\n",
              "          google.colab.kernel.accessAllowed ? 'block' : 'none';\n",
              "\n",
              "        async function convertToInteractive(key) {\n",
              "          const element = document.querySelector('#df-31535ed9-1291-4646-a536-e69f74cdab01');\n",
              "          const dataTable =\n",
              "            await google.colab.kernel.invokeFunction('convertToInteractive',\n",
              "                                                     [key], {});\n",
              "          if (!dataTable) return;\n",
              "\n",
              "          const docLinkHtml = 'Like what you see? Visit the ' +\n",
              "            '<a target=\"_blank\" href=https://colab.research.google.com/notebooks/data_table.ipynb>data table notebook</a>'\n",
              "            + ' to learn more about interactive tables.';\n",
              "          element.innerHTML = '';\n",
              "          dataTable['output_type'] = 'display_data';\n",
              "          await google.colab.output.renderOutput(dataTable, element);\n",
              "          const docLink = document.createElement('div');\n",
              "          docLink.innerHTML = docLinkHtml;\n",
              "          element.appendChild(docLink);\n",
              "        }\n",
              "      </script>\n",
              "    </div>\n",
              "  </div>\n",
              "  "
            ],
            "text/plain": [
              "                    room_type                         \n",
              "room_type     Entire home/apt Private room Shared room\n",
              "borough                                               \n",
              "Bronx                     379          652          60\n",
              "Brooklyn                 9559        10132         413\n",
              "Manhattan               13199         7982         480\n",
              "Queens                   2096         3372         198\n",
              "Staten Island             176          188           9"
            ]
          },
          "metadata": {},
          "execution_count": 30
        }
      ],
      "source": [
        "#----------------------Block 27----------------------------------\n",
        "\n",
        "#looking how room_types are divided in each borough\n",
        "roomtype_in_borough = airbnbNY_data.groupby(['borough','room_type']).agg({'room_type':'count'}) #grouping by borough and roomtype, and counting number of different room type in each borough then\n",
        "roomtype_in_borough = roomtype_in_borough.unstack() #to change wide table to a long table\n",
        "roomtype_in_borough"
      ]
    },
    {
      "cell_type": "code",
      "source": [
        "#----------------------Block 28----------------------------------\n",
        "\n",
        "roomtype_in_borough.columns #to check for columns of the dataframe"
      ],
      "metadata": {
        "colab": {
          "base_uri": "https://localhost:8080/"
        },
        "id": "K6SvMupAHXHW",
        "outputId": "3b947e6b-d45f-443d-8d34-25229b24e28c"
      },
      "execution_count": 31,
      "outputs": [
        {
          "output_type": "execute_result",
          "data": {
            "text/plain": [
              "MultiIndex([('room_type', 'Entire home/apt'),\n",
              "            ('room_type',    'Private room'),\n",
              "            ('room_type',     'Shared room')],\n",
              "           names=[None, 'room_type'])"
            ]
          },
          "metadata": {},
          "execution_count": 31
        }
      ]
    },
    {
      "cell_type": "code",
      "execution_count": 32,
      "metadata": {
        "colab": {
          "base_uri": "https://localhost:8080/",
          "height": 971
        },
        "id": "GDBqpNqo9Zsg",
        "outputId": "12a02ffd-8144-4e39-9cf9-f321454e4492"
      },
      "outputs": [
        {
          "output_type": "display_data",
          "data": {
            "image/png": "[encoded data removed]",
            "text/plain": [
              "<Figure size 576x1080 with 6 Axes>"
            ]
          },
          "metadata": {
            "needs_background": "light"
          }
        }
      ],
      "source": [
        "#----------------------Block 29----------------------------------\n",
        "\n",
        "#plotting the pie charts for each borough to get the percentage split visualization of different room types \n",
        "plt.rcParams['figure.figsize'] = (8, 15) #defining figure\n",
        "fig, axes = plt.subplots(3,2) #creating figure and multiple axes(3*2=6)\n",
        "fig.suptitle('Percentage split of each room type in each borough') #to give a main title for all plots of 6 axes\n",
        "label=[]\n",
        "k=0\n",
        "for i in range(3):\n",
        "  label.append(roomtype_in_borough.columns[i][1]) #storing different room types in the list\n",
        "for i in range(3):\n",
        "  for j in range(2):\n",
        "    if i == 2 and j==1:\n",
        "      break\n",
        "    axes[i,j].pie(roomtype_in_borough.iloc[k],labels=label, autopct='%1.1f%%',radius=1) # plotting pie chart for each borough in different axes\n",
        "    axes[i,j].set_title(list(roomtype_in_borough.index)[k]) #setting title as the name of borough for each pie plot \n",
        "    k=k+1\n",
        "plt.figlegend(label) #to place a legend(room type) in the figure\n",
        "axes[2][1].set_axis_off() #to turn off the axes[2][1]\n"
      ]
    },
    {
      "cell_type": "markdown",
      "metadata": {
        "id": "-DBsug0a99EC"
      },
      "source": [
        "*In each borough shared room is very negligent.*\n",
        "\n",
        "*One thing noticable is that among all boroughs only Manhattan has more number of entire home than private rooms. Other than Manhattan in each borough private room takes up that place.*"
      ]
    },
    {
      "cell_type": "markdown",
      "metadata": {
        "id": "KyzNK4RY_o9K"
      },
      "source": [
        "###**Lets check on how does prices distributed among these room types**"
      ]
    },
    {
      "cell_type": "code",
      "execution_count": 33,
      "metadata": {
        "colab": {
          "base_uri": "https://localhost:8080/",
          "height": 911
        },
        "id": "JGsUfEVO9kMC",
        "outputId": "8d7283f8-26d1-4734-d870-761ec7d139d3"
      },
      "outputs": [
        {
          "output_type": "execute_result",
          "data": {
            "text/plain": [
              "Text(0.5, 1.0, 'Box plot for the prices of room type')"
            ]
          },
          "metadata": {},
          "execution_count": 33
        },
        {
          "output_type": "display_data",
          "data": {
            "image/png": "[encoded data removed]",
            "text/plain": [
              "<Figure size 576x1080 with 1 Axes>"
            ]
          },
          "metadata": {
            "needs_background": "light"
          }
        }
      ],
      "source": [
        "#----------------------Block 30----------------------------------\n",
        "\n",
        "sns.boxplot(x='room_type', y='price', data = airbnbNY_data) # price dist box plot\n",
        "plt.title('Box plot for the prices of room type')"
      ]
    },
    {
      "cell_type": "markdown",
      "metadata": {
        "id": "_OMcpJDFBGeY"
      },
      "source": [
        "*Our prices of each room type is strongly influenced by the outliers.*\n",
        "\n",
        "*For each roomtype maximum price saturates at nearby 300-400 and above that mostly are outliers.*"
      ]
    },
    {
      "cell_type": "code",
      "execution_count": 34,
      "metadata": {
        "colab": {
          "base_uri": "https://localhost:8080/",
          "height": 421
        },
        "id": "6f1BuRXiAu-k",
        "outputId": "b2b239a1-6c8b-48d9-d851-81641456c1d4"
      },
      "outputs": [
        {
          "output_type": "execute_result",
          "data": {
            "text/plain": [
              "Text(0.5, 1.0, 'Box plot for the prices of room type after treating outliers')"
            ]
          },
          "metadata": {},
          "execution_count": 34
        },
        {
          "output_type": "display_data",
          "data": {
            "image/png": "[encoded data removed]",
            "text/plain": [
              "<Figure size 576x432 with 1 Axes>"
            ]
          },
          "metadata": {
            "needs_background": "light"
          }
        }
      ],
      "source": [
        "#----------------------Block 31----------------------------------\n",
        "plt.rcParams['figure.figsize'] = (8, 6)\n",
        "price_df = airbnbNY_data[airbnbNY_data['price']<600] #sub dataframe to treat outliers\n",
        "sns.boxplot(x='room_type', y='price', data = price_df) \n",
        "plt.title('Box plot for the prices of room type after treating outliers')"
      ]
    },
    {
      "cell_type": "markdown",
      "metadata": {
        "id": "UQvwPcJiCQrD"
      },
      "source": [
        "*Note :  Although we have removed whole lot outliers but some are still there and we have to bear with them.*\n",
        "\n",
        "*For entire apartments price range is varying till 370 approx and a median or an average value somewhere lies nearby 140-150.*\n",
        "\n",
        "*For private room price range is varying till 250 approx rest are still  outliers and a median or an average value somewhere lies nearby 70-80.*\n",
        "\n",
        "*For shared rooms price range is varying till 80 approx and a median or an average value somewhere lies nearby 40-50.*\n"
      ]
    },
    {
      "cell_type": "markdown",
      "metadata": {
        "id": "_reG_I9wDTFd"
      },
      "source": [
        "###**Now lets see whether every borough have a nearby same average price range or it differs**"
      ]
    },
    {
      "cell_type": "code",
      "execution_count": 35,
      "metadata": {
        "colab": {
          "base_uri": "https://localhost:8080/",
          "height": 520
        },
        "id": "7d4MDo2EB1HQ",
        "outputId": "56307cd3-9678-4b06-988a-d0f97d34016b"
      },
      "outputs": [
        {
          "output_type": "execute_result",
          "data": {
            "text/html": [
              "\n",
              "  <div id=\"df-7452fbff-79d8-42ee-9276-fe91d71888a8\">\n",
              "    <div class=\"colab-df-container\">\n",
              "      <div>\n",
              "<style scoped>\n",
              "    .dataframe tbody tr th:only-of-type {\n",
              "        vertical-align: middle;\n",
              "    }\n",
              "\n",
              "    .dataframe tbody tr th {\n",
              "        vertical-align: top;\n",
              "    }\n",
              "\n",
              "    .dataframe thead th {\n",
              "        text-align: right;\n",
              "    }\n",
              "</style>\n",
              "<table border=\"1\" class=\"dataframe\">\n",
              "  <thead>\n",
              "    <tr style=\"text-align: right;\">\n",
              "      <th></th>\n",
              "      <th>borough</th>\n",
              "      <th>room_type</th>\n",
              "      <th>price</th>\n",
              "    </tr>\n",
              "  </thead>\n",
              "  <tbody>\n",
              "    <tr>\n",
              "      <th>0</th>\n",
              "      <td>Bronx</td>\n",
              "      <td>Entire home/apt</td>\n",
              "      <td>122.486702</td>\n",
              "    </tr>\n",
              "    <tr>\n",
              "      <th>1</th>\n",
              "      <td>Bronx</td>\n",
              "      <td>Private room</td>\n",
              "      <td>61.272727</td>\n",
              "    </tr>\n",
              "    <tr>\n",
              "      <th>2</th>\n",
              "      <td>Bronx</td>\n",
              "      <td>Shared room</td>\n",
              "      <td>47.254237</td>\n",
              "    </tr>\n",
              "    <tr>\n",
              "      <th>3</th>\n",
              "      <td>Brooklyn</td>\n",
              "      <td>Entire home/apt</td>\n",
              "      <td>161.836750</td>\n",
              "    </tr>\n",
              "    <tr>\n",
              "      <th>4</th>\n",
              "      <td>Brooklyn</td>\n",
              "      <td>Private room</td>\n",
              "      <td>71.607585</td>\n",
              "    </tr>\n",
              "    <tr>\n",
              "      <th>5</th>\n",
              "      <td>Brooklyn</td>\n",
              "      <td>Shared room</td>\n",
              "      <td>48.890777</td>\n",
              "    </tr>\n",
              "    <tr>\n",
              "      <th>6</th>\n",
              "      <td>Manhattan</td>\n",
              "      <td>Entire home/apt</td>\n",
              "      <td>207.179467</td>\n",
              "    </tr>\n",
              "    <tr>\n",
              "      <th>7</th>\n",
              "      <td>Manhattan</td>\n",
              "      <td>Private room</td>\n",
              "      <td>104.308734</td>\n",
              "    </tr>\n",
              "    <tr>\n",
              "      <th>8</th>\n",
              "      <td>Manhattan</td>\n",
              "      <td>Shared room</td>\n",
              "      <td>84.085954</td>\n",
              "    </tr>\n",
              "    <tr>\n",
              "      <th>9</th>\n",
              "      <td>Queens</td>\n",
              "      <td>Entire home/apt</td>\n",
              "      <td>139.125000</td>\n",
              "    </tr>\n",
              "    <tr>\n",
              "      <th>10</th>\n",
              "      <td>Queens</td>\n",
              "      <td>Private room</td>\n",
              "      <td>67.020809</td>\n",
              "    </tr>\n",
              "    <tr>\n",
              "      <th>11</th>\n",
              "      <td>Queens</td>\n",
              "      <td>Shared room</td>\n",
              "      <td>49.312821</td>\n",
              "    </tr>\n",
              "    <tr>\n",
              "      <th>12</th>\n",
              "      <td>Staten Island</td>\n",
              "      <td>Entire home/apt</td>\n",
              "      <td>124.835294</td>\n",
              "    </tr>\n",
              "    <tr>\n",
              "      <th>13</th>\n",
              "      <td>Staten Island</td>\n",
              "      <td>Private room</td>\n",
              "      <td>62.292553</td>\n",
              "    </tr>\n",
              "    <tr>\n",
              "      <th>14</th>\n",
              "      <td>Staten Island</td>\n",
              "      <td>Shared room</td>\n",
              "      <td>57.444444</td>\n",
              "    </tr>\n",
              "  </tbody>\n",
              "</table>\n",
              "</div>\n",
              "      <button class=\"colab-df-convert\" onclick=\"convertToInteractive('df-7452fbff-79d8-42ee-9276-fe91d71888a8')\"\n",
              "              title=\"Convert this dataframe to an interactive table.\"\n",
              "              style=\"display:none;\">\n",
              "        \n",
              "  <svg xmlns=\"http://www.w3.org/2000/svg\" height=\"24px\"viewBox=\"0 0 24 24\"\n",
              "       width=\"24px\">\n",
              "    <path d=\"M0 0h24v24H0V0z\" fill=\"none\"/>\n",
              "    <path d=\"M18.56 5.44l.94 2.06.94-2.06 2.06-.94-2.06-.94-.94-2.06-.94 2.06-2.06.94zm-11 1L8.5 8.5l.94-2.06 2.06-.94-2.06-.94L8.5 2.5l-.94 2.06-2.06.94zm10 10l.94 2.06.94-2.06 2.06-.94-2.06-.94-.94-2.06-.94 2.06-2.06.94z\"/><path d=\"M17.41 7.96l-1.37-1.37c-.4-.4-.92-.59-1.43-.59-.52 0-1.04.2-1.43.59L10.3 9.45l-7.72 7.72c-.78.78-.78 2.05 0 2.83L4 21.41c.39.39.9.59 1.41.59.51 0 1.02-.2 1.41-.59l7.78-7.78 2.81-2.81c.8-.78.8-2.07 0-2.86zM5.41 20L4 18.59l7.72-7.72 1.47 1.35L5.41 20z\"/>\n",
              "  </svg>\n",
              "      </button>\n",
              "      \n",
              "  <style>\n",
              "    .colab-df-container {\n",
              "      display:flex;\n",
              "      flex-wrap:wrap;\n",
              "      gap: 12px;\n",
              "    }\n",
              "\n",
              "    .colab-df-convert {\n",
              "      background-color: #E8F0FE;\n",
              "      border: none;\n",
              "      border-radius: 50%;\n",
              "      cursor: pointer;\n",
              "      display: none;\n",
              "      fill: #1967D2;\n",
              "      height: 32px;\n",
              "      padding: 0 0 0 0;\n",
              "      width: 32px;\n",
              "    }\n",
              "\n",
              "    .colab-df-convert:hover {\n",
              "      background-color: #E2EBFA;\n",
              "      box-shadow: 0px 1px 2px rgba(60, 64, 67, 0.3), 0px 1px 3px 1px rgba(60, 64, 67, 0.15);\n",
              "      fill: #174EA6;\n",
              "    }\n",
              "\n",
              "    [theme=dark] .colab-df-convert {\n",
              "      background-color: #3B4455;\n",
              "      fill: #D2E3FC;\n",
              "    }\n",
              "\n",
              "    [theme=dark] .colab-df-convert:hover {\n",
              "      background-color: #434B5C;\n",
              "      box-shadow: 0px 1px 3px 1px rgba(0, 0, 0, 0.15);\n",
              "      filter: drop-shadow(0px 1px 2px rgba(0, 0, 0, 0.3));\n",
              "      fill: #FFFFFF;\n",
              "    }\n",
              "  </style>\n",
              "\n",
              "      <script>\n",
              "        const buttonEl =\n",
              "          document.querySelector('#df-7452fbff-79d8-42ee-9276-fe91d71888a8 button.colab-df-convert');\n",
              "        buttonEl.style.display =\n",
              "          google.colab.kernel.accessAllowed ? 'block' : 'none';\n",
              "\n",
              "        async function convertToInteractive(key) {\n",
              "          const element = document.querySelector('#df-7452fbff-79d8-42ee-9276-fe91d71888a8');\n",
              "          const dataTable =\n",
              "            await google.colab.kernel.invokeFunction('convertToInteractive',\n",
              "                                                     [key], {});\n",
              "          if (!dataTable) return;\n",
              "\n",
              "          const docLinkHtml = 'Like what you see? Visit the ' +\n",
              "            '<a target=\"_blank\" href=https://colab.research.google.com/notebooks/data_table.ipynb>data table notebook</a>'\n",
              "            + ' to learn more about interactive tables.';\n",
              "          element.innerHTML = '';\n",
              "          dataTable['output_type'] = 'display_data';\n",
              "          await google.colab.output.renderOutput(dataTable, element);\n",
              "          const docLink = document.createElement('div');\n",
              "          docLink.innerHTML = docLinkHtml;\n",
              "          element.appendChild(docLink);\n",
              "        }\n",
              "      </script>\n",
              "    </div>\n",
              "  </div>\n",
              "  "
            ],
            "text/plain": [
              "          borough        room_type       price\n",
              "0           Bronx  Entire home/apt  122.486702\n",
              "1           Bronx     Private room   61.272727\n",
              "2           Bronx      Shared room   47.254237\n",
              "3        Brooklyn  Entire home/apt  161.836750\n",
              "4        Brooklyn     Private room   71.607585\n",
              "5        Brooklyn      Shared room   48.890777\n",
              "6       Manhattan  Entire home/apt  207.179467\n",
              "7       Manhattan     Private room  104.308734\n",
              "8       Manhattan      Shared room   84.085954\n",
              "9          Queens  Entire home/apt  139.125000\n",
              "10         Queens     Private room   67.020809\n",
              "11         Queens      Shared room   49.312821\n",
              "12  Staten Island  Entire home/apt  124.835294\n",
              "13  Staten Island     Private room   62.292553\n",
              "14  Staten Island      Shared room   57.444444"
            ]
          },
          "metadata": {},
          "execution_count": 35
        }
      ],
      "source": [
        "#----------------------Block 32----------------------------------\n",
        "\n",
        "#average price of each roomtype in each borough\n",
        "#taken a subdataframe with rmoved outliers so that outliers doesn't affect the average price much \n",
        "average_price = price_df.groupby(['borough','room_type']).agg({'price':'mean'}).reset_index() #grouping by borough and room type and averaging on price then\n",
        "average_price"
      ]
    },
    {
      "cell_type": "code",
      "execution_count": 36,
      "metadata": {
        "colab": {
          "base_uri": "https://localhost:8080/",
          "height": 530
        },
        "id": "ugUwxCmDDvmp",
        "outputId": "ca10f608-aa74-4973-ac13-b70c1cb19e3c"
      },
      "outputs": [
        {
          "output_type": "execute_result",
          "data": {
            "text/plain": [
              "Text(0.5, 1.0, 'Average Price of each room type in each borough')"
            ]
          },
          "metadata": {},
          "execution_count": 36
        },
        {
          "output_type": "display_data",
          "data": {
            "image/png": "[encoded data removed]",
            "text/plain": [
              "<Figure size 1440x576 with 1 Axes>"
            ]
          },
          "metadata": {
            "needs_background": "light"
          }
        }
      ],
      "source": [
        "#----------------------Block 33----------------------------------\n",
        "\n",
        "#plotting the summary of average prices\n",
        "plt.figure(figsize=(20,8))\n",
        "entire_home = average_price[average_price['room_type']=='Entire home/apt'] #to create a Sub dataframe from average price dataframe where room type is entire room\n",
        "private_room = average_price[average_price['room_type']=='Private room'] #to create a Sub dataframe from average price dataframe where room type is private room\n",
        "shared_room =  average_price[average_price['room_type']=='Shared room'] #to create a Sub dataframe from average price dataframe where room type is shared room\n",
        "x_axis=np.arange(len(entire_home['borough'])) #to get evenly spaced values within range of len(entire_home['borough'])\n",
        "plt.bar(x_axis-0.3,entire_home['price'],label ='Entire Home',color='wheat',width=0.3) #to get first bar stick of group of three bars\n",
        "plt.bar(x_axis,private_room['price'],label ='Private Room',color='goldenrod',width=0.3) #to get second bar stick of group of three bars\n",
        "plt.bar(x_axis+0.3,shared_room['price'],label ='Shared Room',color='gold',width=0.3) #to get third bar stick of group of three bars\n",
        "plt.legend() #to place legend in the figure\n",
        "plt.xticks(x_axis,entire_home['borough'])\n",
        "plt.xlabel('Boroughs')\n",
        "plt.ylabel('Average price')\n",
        "plt.title(\"Average Price of each room type in each borough\")"
      ]
    },
    {
      "cell_type": "markdown",
      "metadata": {
        "id": "ZXVDI7mrErkO"
      },
      "source": [
        "*Manhattan is leading in a scoreboard of higher prices and Brooklyn follows Manhattan.*\n",
        "\n",
        "*Manhattan and Brooklyn are tourist areas in NYC and as everywhere rule higher the tourism, higher the prices of rentals also applies here.*  "
      ]
    },
    {
      "cell_type": "markdown",
      "metadata": {
        "id": "v_J19YBAN70l"
      },
      "source": [
        "###**Which room type has most number of reviews**"
      ]
    },
    {
      "cell_type": "code",
      "execution_count": 37,
      "metadata": {
        "colab": {
          "base_uri": "https://localhost:8080/",
          "height": 492
        },
        "id": "kduqQCkeEEoO",
        "outputId": "ac5c1889-5fd7-4e21-e358-99f1f43e2888"
      },
      "outputs": [
        {
          "output_type": "execute_result",
          "data": {
            "text/plain": [
              "Text(0.5, 1.0, 'Total number of reviews each room type have')"
            ]
          },
          "metadata": {},
          "execution_count": 37
        },
        {
          "output_type": "display_data",
          "data": {
            "image/png": "[encoded data removed]",
            "text/plain": [
              "<Figure size 720x432 with 1 Axes>"
            ]
          },
          "metadata": {
            "needs_background": "light"
          }
        }
      ],
      "source": [
        "#----------------------Block 34----------------------------------\n",
        "\n",
        "roomtype_reviews = airbnbNY_data.groupby('room_type').agg({'number_of_reviews':'sum'}) #grouping on room type and adding the number of reviews then\n",
        "plt.rcParams['figure.figsize']=(10,6)\n",
        "roomtype_reviews.plot.bar(color='brown')\n",
        "plt.ylabel('Total number of reviews')\n",
        "plt.title('Total number of reviews each room type have')"
      ]
    },
    {
      "cell_type": "markdown",
      "metadata": {
        "id": "A1H6lkjAP79U"
      },
      "source": [
        "*Number of reviews follow the same pattern as of the availabilities of each room type in listings. We have most no. of entire homes in our listings and so do reviews for them are most. It goes in same fashion for private and shared room as well.*  "
      ]
    },
    {
      "cell_type": "markdown",
      "metadata": {
        "id": "gdAKE08gRE1c"
      },
      "source": [
        "###**After analysis of various factors about roomtype we have gathered following info :**\n",
        "\n",
        "*1 Entire homes are one of the most available rental in New York City whereas shared room are very less preferable.* \n",
        "\n",
        "*2. In every borough private rooms are more in counts whereas in Manhattan entire home wins this race.*\n",
        "\n",
        "*3. For entire homes nearby 75% of rentals are under the price of 200 and in private room its somewhere near 100 and for shared ones its 75 somewhere.*\n",
        "\n",
        "*4 Manhattan is most expensive borough in each of the room types, Brooklyn follows Manhattan, then Queens and Staten Island and Bronx are somewhere at same place.*\n",
        "\n"
      ]
    },
    {
      "cell_type": "markdown",
      "metadata": {
        "id": "1l5bvnnMS_o-"
      },
      "source": [
        "##***3. Visualising and analysing about hosts***"
      ]
    },
    {
      "cell_type": "code",
      "execution_count": 38,
      "metadata": {
        "colab": {
          "base_uri": "https://localhost:8080/"
        },
        "id": "6xFyUYboPZBL",
        "outputId": "6d7d5295-b270-4527-c801-29aef3ae333b"
      },
      "outputs": [
        {
          "output_type": "execute_result",
          "data": {
            "text/plain": [
              "37457"
            ]
          },
          "metadata": {},
          "execution_count": 38
        }
      ],
      "source": [
        "#---------------------Block 35----------------------------\n",
        "\n",
        "#Checking for unique values in host id\n",
        "airbnbNY_data['host_id'].nunique()"
      ]
    },
    {
      "cell_type": "markdown",
      "metadata": {
        "id": "qI4OMoI5TRrd"
      },
      "source": [
        "*We have 37457 unique hosts in our data. Rest are duplicates and have appeared multiple times in data.* "
      ]
    },
    {
      "cell_type": "markdown",
      "metadata": {
        "id": "2jfT9QCpXwYl"
      },
      "source": [
        "*Calculated host listing counts means no. of listings specific host have in our data. For example say host id 2009___ something have calculated host listing value 6 then that host id has 6 listings in our data. We'll verify that as well.*"
      ]
    },
    {
      "cell_type": "code",
      "execution_count": 41,
      "metadata": {
        "colab": {
          "base_uri": "https://localhost:8080/"
        },
        "id": "qMcY1GT0T6Bg",
        "outputId": "e53c0d45-3d60-4b14-e6c4-ce866bdd18bf"
      },
      "outputs": [
        {
          "output_type": "execute_result",
          "data": {
            "text/plain": [
              "array([48895])"
            ]
          },
          "metadata": {},
          "execution_count": 41
        }
      ],
      "source": [
        "#---------------------Block 36----------------------------\n",
        "\n",
        "#sum of unique host listing count for unique host ids\n",
        "x = airbnbNY_data.groupby('host_id').agg({'calculated_host_listings_count':'unique'}).values\n",
        "x=x.reshape(x.shape[0],)\n",
        "sum(list(x))"
      ]
    },
    {
      "cell_type": "code",
      "execution_count": 42,
      "metadata": {
        "colab": {
          "base_uri": "https://localhost:8080/",
          "height": 162
        },
        "id": "4xzxevaUVZmi",
        "outputId": "513942b1-4a84-4d61-f34c-5e5e0be3e8ce"
      },
      "outputs": [
        {
          "output_type": "execute_result",
          "data": {
            "text/html": [
              "\n",
              "  <div id=\"df-bb7aec73-120c-41f8-ba22-d3ee81c2347e\">\n",
              "    <div class=\"colab-df-container\">\n",
              "      <div>\n",
              "<style scoped>\n",
              "    .dataframe tbody tr th:only-of-type {\n",
              "        vertical-align: middle;\n",
              "    }\n",
              "\n",
              "    .dataframe tbody tr th {\n",
              "        vertical-align: top;\n",
              "    }\n",
              "\n",
              "    .dataframe thead th {\n",
              "        text-align: right;\n",
              "    }\n",
              "</style>\n",
              "<table border=\"1\" class=\"dataframe\">\n",
              "  <thead>\n",
              "    <tr style=\"text-align: right;\">\n",
              "      <th></th>\n",
              "      <th>id</th>\n",
              "      <th>host_id</th>\n",
              "      <th>borough</th>\n",
              "      <th>neighbourhood</th>\n",
              "      <th>latitude</th>\n",
              "      <th>longitude</th>\n",
              "      <th>room_type</th>\n",
              "      <th>price</th>\n",
              "      <th>minimum_nights</th>\n",
              "      <th>number_of_reviews</th>\n",
              "      <th>reviews_per_month</th>\n",
              "      <th>calculated_host_listings_count</th>\n",
              "      <th>availability_365</th>\n",
              "    </tr>\n",
              "  </thead>\n",
              "  <tbody>\n",
              "    <tr>\n",
              "      <th>0</th>\n",
              "      <td>2539</td>\n",
              "      <td>2787</td>\n",
              "      <td>Brooklyn</td>\n",
              "      <td>Kensington</td>\n",
              "      <td>40.64749</td>\n",
              "      <td>-73.97237</td>\n",
              "      <td>Private room</td>\n",
              "      <td>149</td>\n",
              "      <td>1</td>\n",
              "      <td>9</td>\n",
              "      <td>0.21</td>\n",
              "      <td>6</td>\n",
              "      <td>365</td>\n",
              "    </tr>\n",
              "  </tbody>\n",
              "</table>\n",
              "</div>\n",
              "      <button class=\"colab-df-convert\" onclick=\"convertToInteractive('df-bb7aec73-120c-41f8-ba22-d3ee81c2347e')\"\n",
              "              title=\"Convert this dataframe to an interactive table.\"\n",
              "              style=\"display:none;\">\n",
              "        \n",
              "  <svg xmlns=\"http://www.w3.org/2000/svg\" height=\"24px\"viewBox=\"0 0 24 24\"\n",
              "       width=\"24px\">\n",
              "    <path d=\"M0 0h24v24H0V0z\" fill=\"none\"/>\n",
              "    <path d=\"M18.56 5.44l.94 2.06.94-2.06 2.06-.94-2.06-.94-.94-2.06-.94 2.06-2.06.94zm-11 1L8.5 8.5l.94-2.06 2.06-.94-2.06-.94L8.5 2.5l-.94 2.06-2.06.94zm10 10l.94 2.06.94-2.06 2.06-.94-2.06-.94-.94-2.06-.94 2.06-2.06.94z\"/><path d=\"M17.41 7.96l-1.37-1.37c-.4-.4-.92-.59-1.43-.59-.52 0-1.04.2-1.43.59L10.3 9.45l-7.72 7.72c-.78.78-.78 2.05 0 2.83L4 21.41c.39.39.9.59 1.41.59.51 0 1.02-.2 1.41-.59l7.78-7.78 2.81-2.81c.8-.78.8-2.07 0-2.86zM5.41 20L4 18.59l7.72-7.72 1.47 1.35L5.41 20z\"/>\n",
              "  </svg>\n",
              "      </button>\n",
              "      \n",
              "  <style>\n",
              "    .colab-df-container {\n",
              "      display:flex;\n",
              "      flex-wrap:wrap;\n",
              "      gap: 12px;\n",
              "    }\n",
              "\n",
              "    .colab-df-convert {\n",
              "      background-color: #E8F0FE;\n",
              "      border: none;\n",
              "      border-radius: 50%;\n",
              "      cursor: pointer;\n",
              "      display: none;\n",
              "      fill: #1967D2;\n",
              "      height: 32px;\n",
              "      padding: 0 0 0 0;\n",
              "      width: 32px;\n",
              "    }\n",
              "\n",
              "    .colab-df-convert:hover {\n",
              "      background-color: #E2EBFA;\n",
              "      box-shadow: 0px 1px 2px rgba(60, 64, 67, 0.3), 0px 1px 3px 1px rgba(60, 64, 67, 0.15);\n",
              "      fill: #174EA6;\n",
              "    }\n",
              "\n",
              "    [theme=dark] .colab-df-convert {\n",
              "      background-color: #3B4455;\n",
              "      fill: #D2E3FC;\n",
              "    }\n",
              "\n",
              "    [theme=dark] .colab-df-convert:hover {\n",
              "      background-color: #434B5C;\n",
              "      box-shadow: 0px 1px 3px 1px rgba(0, 0, 0, 0.15);\n",
              "      filter: drop-shadow(0px 1px 2px rgba(0, 0, 0, 0.3));\n",
              "      fill: #FFFFFF;\n",
              "    }\n",
              "  </style>\n",
              "\n",
              "      <script>\n",
              "        const buttonEl =\n",
              "          document.querySelector('#df-bb7aec73-120c-41f8-ba22-d3ee81c2347e button.colab-df-convert');\n",
              "        buttonEl.style.display =\n",
              "          google.colab.kernel.accessAllowed ? 'block' : 'none';\n",
              "\n",
              "        async function convertToInteractive(key) {\n",
              "          const element = document.querySelector('#df-bb7aec73-120c-41f8-ba22-d3ee81c2347e');\n",
              "          const dataTable =\n",
              "            await google.colab.kernel.invokeFunction('convertToInteractive',\n",
              "                                                     [key], {});\n",
              "          if (!dataTable) return;\n",
              "\n",
              "          const docLinkHtml = 'Like what you see? Visit the ' +\n",
              "            '<a target=\"_blank\" href=https://colab.research.google.com/notebooks/data_table.ipynb>data table notebook</a>'\n",
              "            + ' to learn more about interactive tables.';\n",
              "          element.innerHTML = '';\n",
              "          dataTable['output_type'] = 'display_data';\n",
              "          await google.colab.output.renderOutput(dataTable, element);\n",
              "          const docLink = document.createElement('div');\n",
              "          docLink.innerHTML = docLinkHtml;\n",
              "          element.appendChild(docLink);\n",
              "        }\n",
              "      </script>\n",
              "    </div>\n",
              "  </div>\n",
              "  "
            ],
            "text/plain": [
              "     id  host_id  ... calculated_host_listings_count availability_365\n",
              "0  2539     2787  ...                              6              365\n",
              "\n",
              "[1 rows x 13 columns]"
            ]
          },
          "metadata": {},
          "execution_count": 42
        }
      ],
      "source": [
        "#---------------------Block 37----------------------------\n",
        "# Just picking up a row to get host_id and its respective host listing counts\n",
        "airbnbNY_data.iloc[0:1]"
      ]
    },
    {
      "cell_type": "markdown",
      "metadata": {
        "id": "WmKHSKjGY78K"
      },
      "source": [
        "*So the host id 2787 has calculated host listing count value as 6. Lets check if thats true.* "
      ]
    },
    {
      "cell_type": "code",
      "execution_count": 43,
      "metadata": {
        "colab": {
          "base_uri": "https://localhost:8080/",
          "height": 406
        },
        "id": "r8zc6MUlXFXt",
        "outputId": "33bc5543-8dc9-4a49-c779-12df4de7e0f6"
      },
      "outputs": [
        {
          "output_type": "execute_result",
          "data": {
            "text/html": [
              "\n",
              "  <div id=\"df-19493686-f71e-49a6-81b3-71f8319ff8bf\">\n",
              "    <div class=\"colab-df-container\">\n",
              "      <div>\n",
              "<style scoped>\n",
              "    .dataframe tbody tr th:only-of-type {\n",
              "        vertical-align: middle;\n",
              "    }\n",
              "\n",
              "    .dataframe tbody tr th {\n",
              "        vertical-align: top;\n",
              "    }\n",
              "\n",
              "    .dataframe thead th {\n",
              "        text-align: right;\n",
              "    }\n",
              "</style>\n",
              "<table border=\"1\" class=\"dataframe\">\n",
              "  <thead>\n",
              "    <tr style=\"text-align: right;\">\n",
              "      <th></th>\n",
              "      <th>id</th>\n",
              "      <th>host_id</th>\n",
              "      <th>borough</th>\n",
              "      <th>neighbourhood</th>\n",
              "      <th>latitude</th>\n",
              "      <th>longitude</th>\n",
              "      <th>room_type</th>\n",
              "      <th>price</th>\n",
              "      <th>minimum_nights</th>\n",
              "      <th>number_of_reviews</th>\n",
              "      <th>reviews_per_month</th>\n",
              "      <th>calculated_host_listings_count</th>\n",
              "      <th>availability_365</th>\n",
              "    </tr>\n",
              "  </thead>\n",
              "  <tbody>\n",
              "    <tr>\n",
              "      <th>0</th>\n",
              "      <td>2539</td>\n",
              "      <td>2787</td>\n",
              "      <td>Brooklyn</td>\n",
              "      <td>Kensington</td>\n",
              "      <td>40.64749</td>\n",
              "      <td>-73.97237</td>\n",
              "      <td>Private room</td>\n",
              "      <td>149</td>\n",
              "      <td>1</td>\n",
              "      <td>9</td>\n",
              "      <td>0.21</td>\n",
              "      <td>6</td>\n",
              "      <td>365</td>\n",
              "    </tr>\n",
              "    <tr>\n",
              "      <th>10372</th>\n",
              "      <td>7937553</td>\n",
              "      <td>2787</td>\n",
              "      <td>Brooklyn</td>\n",
              "      <td>Bensonhurst</td>\n",
              "      <td>40.60951</td>\n",
              "      <td>-73.97622</td>\n",
              "      <td>Private room</td>\n",
              "      <td>99</td>\n",
              "      <td>1</td>\n",
              "      <td>21</td>\n",
              "      <td>0.50</td>\n",
              "      <td>6</td>\n",
              "      <td>153</td>\n",
              "    </tr>\n",
              "    <tr>\n",
              "      <th>13583</th>\n",
              "      <td>10160215</td>\n",
              "      <td>2787</td>\n",
              "      <td>Brooklyn</td>\n",
              "      <td>Gravesend</td>\n",
              "      <td>40.60755</td>\n",
              "      <td>-73.97410</td>\n",
              "      <td>Private room</td>\n",
              "      <td>79</td>\n",
              "      <td>1</td>\n",
              "      <td>17</td>\n",
              "      <td>0.40</td>\n",
              "      <td>6</td>\n",
              "      <td>174</td>\n",
              "    </tr>\n",
              "    <tr>\n",
              "      <th>13688</th>\n",
              "      <td>10267242</td>\n",
              "      <td>2787</td>\n",
              "      <td>Brooklyn</td>\n",
              "      <td>Gravesend</td>\n",
              "      <td>40.60810</td>\n",
              "      <td>-73.97541</td>\n",
              "      <td>Private room</td>\n",
              "      <td>149</td>\n",
              "      <td>1</td>\n",
              "      <td>24</td>\n",
              "      <td>0.64</td>\n",
              "      <td>6</td>\n",
              "      <td>180</td>\n",
              "    </tr>\n",
              "    <tr>\n",
              "      <th>13963</th>\n",
              "      <td>10593675</td>\n",
              "      <td>2787</td>\n",
              "      <td>Brooklyn</td>\n",
              "      <td>Bensonhurst</td>\n",
              "      <td>40.60951</td>\n",
              "      <td>-73.97642</td>\n",
              "      <td>Shared room</td>\n",
              "      <td>79</td>\n",
              "      <td>1</td>\n",
              "      <td>15</td>\n",
              "      <td>0.43</td>\n",
              "      <td>6</td>\n",
              "      <td>180</td>\n",
              "    </tr>\n",
              "    <tr>\n",
              "      <th>21556</th>\n",
              "      <td>17263207</td>\n",
              "      <td>2787</td>\n",
              "      <td>Brooklyn</td>\n",
              "      <td>Bensonhurst</td>\n",
              "      <td>40.60877</td>\n",
              "      <td>-73.97382</td>\n",
              "      <td>Private room</td>\n",
              "      <td>49</td>\n",
              "      <td>1</td>\n",
              "      <td>19</td>\n",
              "      <td>0.70</td>\n",
              "      <td>6</td>\n",
              "      <td>360</td>\n",
              "    </tr>\n",
              "  </tbody>\n",
              "</table>\n",
              "</div>\n",
              "      <button class=\"colab-df-convert\" onclick=\"convertToInteractive('df-19493686-f71e-49a6-81b3-71f8319ff8bf')\"\n",
              "              title=\"Convert this dataframe to an interactive table.\"\n",
              "              style=\"display:none;\">\n",
              "        \n",
              "  <svg xmlns=\"http://www.w3.org/2000/svg\" height=\"24px\"viewBox=\"0 0 24 24\"\n",
              "       width=\"24px\">\n",
              "    <path d=\"M0 0h24v24H0V0z\" fill=\"none\"/>\n",
              "    <path d=\"M18.56 5.44l.94 2.06.94-2.06 2.06-.94-2.06-.94-.94-2.06-.94 2.06-2.06.94zm-11 1L8.5 8.5l.94-2.06 2.06-.94-2.06-.94L8.5 2.5l-.94 2.06-2.06.94zm10 10l.94 2.06.94-2.06 2.06-.94-2.06-.94-.94-2.06-.94 2.06-2.06.94z\"/><path d=\"M17.41 7.96l-1.37-1.37c-.4-.4-.92-.59-1.43-.59-.52 0-1.04.2-1.43.59L10.3 9.45l-7.72 7.72c-.78.78-.78 2.05 0 2.83L4 21.41c.39.39.9.59 1.41.59.51 0 1.02-.2 1.41-.59l7.78-7.78 2.81-2.81c.8-.78.8-2.07 0-2.86zM5.41 20L4 18.59l7.72-7.72 1.47 1.35L5.41 20z\"/>\n",
              "  </svg>\n",
              "      </button>\n",
              "      \n",
              "  <style>\n",
              "    .colab-df-container {\n",
              "      display:flex;\n",
              "      flex-wrap:wrap;\n",
              "      gap: 12px;\n",
              "    }\n",
              "\n",
              "    .colab-df-convert {\n",
              "      background-color: #E8F0FE;\n",
              "      border: none;\n",
              "      border-radius: 50%;\n",
              "      cursor: pointer;\n",
              "      display: none;\n",
              "      fill: #1967D2;\n",
              "      height: 32px;\n",
              "      padding: 0 0 0 0;\n",
              "      width: 32px;\n",
              "    }\n",
              "\n",
              "    .colab-df-convert:hover {\n",
              "      background-color: #E2EBFA;\n",
              "      box-shadow: 0px 1px 2px rgba(60, 64, 67, 0.3), 0px 1px 3px 1px rgba(60, 64, 67, 0.15);\n",
              "      fill: #174EA6;\n",
              "    }\n",
              "\n",
              "    [theme=dark] .colab-df-convert {\n",
              "      background-color: #3B4455;\n",
              "      fill: #D2E3FC;\n",
              "    }\n",
              "\n",
              "    [theme=dark] .colab-df-convert:hover {\n",
              "      background-color: #434B5C;\n",
              "      box-shadow: 0px 1px 3px 1px rgba(0, 0, 0, 0.15);\n",
              "      filter: drop-shadow(0px 1px 2px rgba(0, 0, 0, 0.3));\n",
              "      fill: #FFFFFF;\n",
              "    }\n",
              "  </style>\n",
              "\n",
              "      <script>\n",
              "        const buttonEl =\n",
              "          document.querySelector('#df-19493686-f71e-49a6-81b3-71f8319ff8bf button.colab-df-convert');\n",
              "        buttonEl.style.display =\n",
              "          google.colab.kernel.accessAllowed ? 'block' : 'none';\n",
              "\n",
              "        async function convertToInteractive(key) {\n",
              "          const element = document.querySelector('#df-19493686-f71e-49a6-81b3-71f8319ff8bf');\n",
              "          const dataTable =\n",
              "            await google.colab.kernel.invokeFunction('convertToInteractive',\n",
              "                                                     [key], {});\n",
              "          if (!dataTable) return;\n",
              "\n",
              "          const docLinkHtml = 'Like what you see? Visit the ' +\n",
              "            '<a target=\"_blank\" href=https://colab.research.google.com/notebooks/data_table.ipynb>data table notebook</a>'\n",
              "            + ' to learn more about interactive tables.';\n",
              "          element.innerHTML = '';\n",
              "          dataTable['output_type'] = 'display_data';\n",
              "          await google.colab.output.renderOutput(dataTable, element);\n",
              "          const docLink = document.createElement('div');\n",
              "          docLink.innerHTML = docLinkHtml;\n",
              "          element.appendChild(docLink);\n",
              "        }\n",
              "      </script>\n",
              "    </div>\n",
              "  </div>\n",
              "  "
            ],
            "text/plain": [
              "             id  host_id  ... calculated_host_listings_count availability_365\n",
              "0          2539     2787  ...                              6              365\n",
              "10372   7937553     2787  ...                              6              153\n",
              "13583  10160215     2787  ...                              6              174\n",
              "13688  10267242     2787  ...                              6              180\n",
              "13963  10593675     2787  ...                              6              180\n",
              "21556  17263207     2787  ...                              6              360\n",
              "\n",
              "[6 rows x 13 columns]"
            ]
          },
          "metadata": {},
          "execution_count": 43
        }
      ],
      "source": [
        "#---------------------Block 38----------------------------\n",
        "#Selecting all the observations with host id 2787\n",
        "airbnbNY_data[airbnbNY_data['host_id']==2787]"
      ]
    },
    {
      "cell_type": "markdown",
      "metadata": {
        "id": "DQ3QGBDTZXh3"
      },
      "source": [
        "*So the host has total of 6 listings in Brooklyn borough.*"
      ]
    },
    {
      "cell_type": "markdown",
      "metadata": {
        "id": "htpA-TH1d4Tp"
      },
      "source": [
        "###**Lets look for some of the top and busiest host in our dataset**\n",
        "\n",
        "*Note we have considered here the host to be top or busiest if they have more number of rentals.*"
      ]
    },
    {
      "cell_type": "code",
      "execution_count": 44,
      "metadata": {
        "colab": {
          "base_uri": "https://localhost:8080/",
          "height": 398
        },
        "id": "xiAGdN4HZO-V",
        "outputId": "b0e8a11f-e785-4a05-d404-31aebc48f53f"
      },
      "outputs": [
        {
          "output_type": "display_data",
          "data": {
            "image/png": "[encoded data removed]",
            "text/plain": [
              "<Figure size 720x360 with 1 Axes>"
            ]
          },
          "metadata": {
            "needs_background": "light"
          }
        }
      ],
      "source": [
        "#---------------------Block 39----------------------------\n",
        "\n",
        "#grouping by host_id and then counting the ids to know the no. of times host id has appeared\n",
        "top_host = airbnbNY_data.groupby('host_id').agg({'id':'count'}).sort_values(by = 'id', ascending = False)[0:10] #grouping by on host_id and counting their numbers\n",
        "top_host.rename(columns = {'id':'hostings_count'},inplace =True) # renaming the column 'id' with hosting counts\n",
        "plt.rcParams['figure.figsize']=(10,5)\n",
        "top_host.plot.bar(color='darkseagreen')\n",
        "plt.ylabel('Number of hostings')\n",
        "plt.title('Top 10 hosts with mos number of hostings')  #title for bar plot\n",
        "for i,host_count in enumerate(list(top_host['hostings_count'])):\n",
        "  plt.text(x=i, y = host_count+3, s= str(host_count)) #to write a text over the top of bar sticks\n"
      ]
    },
    {
      "cell_type": "markdown",
      "metadata": {
        "id": "G0IalYP0mPHm"
      },
      "source": [
        "*There is a steep decrease in each for top 3 host counts and also they have too many hostings in it.* \n",
        "\n",
        "*Now we'll try to dig a bit deep on these hosts*\n"
      ]
    },
    {
      "cell_type": "markdown",
      "metadata": {
        "id": "gZzvgaGeTp-2"
      },
      "source": [
        "###**Lets look for how calculated host listing is distributed**"
      ]
    },
    {
      "cell_type": "code",
      "execution_count": 45,
      "metadata": {
        "colab": {
          "base_uri": "https://localhost:8080/",
          "height": 531
        },
        "id": "Klw0pkwSTxJc",
        "outputId": "1531f108-88d3-4463-9d9e-c98c8887786f"
      },
      "outputs": [
        {
          "output_type": "execute_result",
          "data": {
            "text/plain": [
              "Text(0.5, 1.0, 'Distribution of Host listing count')"
            ]
          },
          "metadata": {},
          "execution_count": 45
        },
        {
          "output_type": "display_data",
          "data": {
            "image/png": "[encoded data removed]",
            "text/plain": [
              "<Figure size 864x576 with 1 Axes>"
            ]
          },
          "metadata": {
            "needs_background": "light"
          }
        }
      ],
      "source": [
        "#-------------------------block 39-a---------------------------------\n",
        "\n",
        "plt.rcParams['figure.figsize']=(12,8)\n",
        "sns.distplot(airbnbNY_data['calculated_host_listings_count'],color='goldenrod') #distribution plot for calculated host listing count\n",
        "plt.title('Distribution of Host listing count')"
      ]
    },
    {
      "cell_type": "code",
      "execution_count": 46,
      "metadata": {
        "colab": {
          "base_uri": "https://localhost:8080/",
          "height": 531
        },
        "id": "vkxbNALJUvRq",
        "outputId": "45e51694-e498-4bfb-d706-942e6c7f95c5"
      },
      "outputs": [
        {
          "output_type": "execute_result",
          "data": {
            "text/plain": [
              "Text(0.5, 1.0, 'Distribution of Host listing count with a threshold of host listing count as 10')"
            ]
          },
          "metadata": {},
          "execution_count": 46
        },
        {
          "output_type": "display_data",
          "data": {
            "image/png": "[encoded data removed]",
            "text/plain": [
              "<Figure size 864x576 with 1 Axes>"
            ]
          },
          "metadata": {
            "needs_background": "light"
          }
        }
      ],
      "source": [
        "#-------------------------block 39-b---------------------------------\n",
        "\n",
        "sns.distplot(airbnbNY_data[airbnbNY_data['calculated_host_listings_count']<10]['calculated_host_listings_count'],color='darkgoldenrod') #distribution plot for calculated host listing count with calculated host listing count<10\n",
        "plt.title('Distribution of Host listing count with a threshold of host listing count as 10')"
      ]
    },
    {
      "cell_type": "markdown",
      "metadata": {
        "id": "0Ia0uxw-VOd5"
      },
      "source": [
        "*From above two blocks we came to know that having a host listing counts of 327 or so and even having a host lising count greater than one is rare in our dataset. Most host has only 1 rentals thus a value of calculated host listing count as 1.*"
      ]
    },
    {
      "cell_type": "code",
      "execution_count": 47,
      "metadata": {
        "id": "dRjSF77Ieb2e"
      },
      "outputs": [],
      "source": [
        "#---------------------Block 40----------------------------\n",
        "\n",
        "#function to create a sub dataframe only with these top 10 hosts \n",
        "def host_selector(col):\n",
        "  if col in top_host.index:\n",
        "    return True\n",
        "  else:\n",
        "    return False"
      ]
    },
    {
      "cell_type": "code",
      "execution_count": 48,
      "metadata": {
        "colab": {
          "base_uri": "https://localhost:8080/"
        },
        "id": "uEI214m0BUqP",
        "outputId": "872ec9a5-ddd8-45f7-9cad-8fdf410c078f"
      },
      "outputs": [
        {
          "output_type": "execute_result",
          "data": {
            "text/plain": [
              "219517861    327\n",
              "107434423    232\n",
              "30283594     121\n",
              "137358866    103\n",
              "16098958      96\n",
              "12243051      96\n",
              "61391963      91\n",
              "22541573      87\n",
              "200380610     65\n",
              "1475015       52\n",
              "Name: host_id, dtype: int64"
            ]
          },
          "metadata": {},
          "execution_count": 48
        }
      ],
      "source": [
        "#---------------------Block 41----------------------------\n",
        "\n",
        "#applying previous defined function in block 40 to create a sub dataframe with name tophost_df \n",
        "tophost_df = airbnbNY_data[airbnbNY_data['host_id'].apply(host_selector)]\n",
        "tophost_df['host_id'].value_counts()"
      ]
    },
    {
      "cell_type": "markdown",
      "metadata": {
        "id": "1R6XEJx7EUX2"
      },
      "source": [
        "### **Lets see in which borough/neighbourhood these top 10 hosts have most of their hostings,room type offered by these hosts and price distribution for these hosts**\n"
      ]
    },
    {
      "cell_type": "code",
      "execution_count": 49,
      "metadata": {
        "colab": {
          "base_uri": "https://localhost:8080/"
        },
        "id": "AeC574f2CRzy",
        "outputId": "0a3c20b7-58bf-46ab-dc6c-a2f20fb768cb"
      },
      "outputs": [
        {
          "output_type": "execute_result",
          "data": {
            "text/plain": [
              "host_id    borough  \n",
              "1475015    Manhattan     52\n",
              "12243051   Manhattan     96\n",
              "16098958   Manhattan     96\n",
              "22541573   Manhattan     86\n",
              "           Brooklyn       1\n",
              "30283594   Manhattan    121\n",
              "61391963   Manhattan     91\n",
              "107434423  Manhattan    230\n",
              "           Brooklyn       2\n",
              "137358866  Queens        79\n",
              "           Manhattan     18\n",
              "           Brooklyn       6\n",
              "200380610  Manhattan     65\n",
              "219517861  Manhattan    327\n",
              "Name: borough, dtype: int64"
            ]
          },
          "metadata": {},
          "execution_count": 49
        }
      ],
      "source": [
        "#---------------------Block 42----------------------------\n",
        "\n",
        "tophost_df.groupby('host_id')['borough'].value_counts()  #grouping by host id and then creating a series with borough and having their value counts"
      ]
    },
    {
      "cell_type": "markdown",
      "metadata": {
        "id": "L7oe-9KLFeZe"
      },
      "source": [
        "*Manhattan is a winning borough in this case if you see out of the 10 hosts 7 have all their hostings in Manhattan whereas for rest 3 most of their hostings in Manhattan except host id 137358866.*\n",
        "\n"
      ]
    },
    {
      "cell_type": "markdown",
      "metadata": {
        "id": "7XDimodJAyM4"
      },
      "source": [
        "*Now we have seen that most of them belongs to Mahnhattan borough.*\n",
        "\n",
        "**Now lets look for the neighbourhoods that these hosts occupied**"
      ]
    },
    {
      "cell_type": "code",
      "execution_count": null,
      "metadata": {
        "colab": {
          "base_uri": "https://localhost:8080/",
          "height": 618
        },
        "id": "YEjlykg3Dsvv",
        "outputId": "03a23ab4-45c0-44f5-c9df-01a2d9e32a57"
      },
      "outputs": [
        {
          "output_type": "execute_result",
          "data": {
            "text/plain": [
              "Text(0.5, 1.0, 'Neighbourhoods in which top 10 hosts have their hostings')"
            ]
          },
          "metadata": {},
          "execution_count": 47
        },
        {
          "output_type": "display_data",
          "data": {
            "image/png": "[encoded data removed]",
            "text/plain": [
              "<Figure size 1800x576 with 1 Axes>"
            ]
          },
          "metadata": {
            "needs_background": "light"
          }
        }
      ],
      "source": [
        "#---------------------Block 43----------------------------\n",
        "#Checking for the neighbourhood and their hosting counts in top host sub dataframe \n",
        "tophost_nghbrhood = tophost_df.groupby(['borough','neighbourhood']).agg({'id':'count'}).sort_values(by = 'id',ascending =False).reset_index()\n",
        "tophost_nghbrhood.rename(columns={'id':'count'}, inplace = True) #renaming the column names\n",
        "unique_borough= set(list(tophost_nghbrhood['borough'])) #to store unique boroughs of tophost_nghbrhood dataframe\n",
        "borough_dict ={} #initialising an empty dictionary\n",
        "index = 0 \n",
        "color = ['cyan','purple','red','orange','green']\n",
        "for borough in unique_borough:\n",
        "  borough_dict[borough] = color[index] #storing boroughs as key and color as value in the dictionary\n",
        "  index = index +1\n",
        "color_list=[] \n",
        "for borough in tophost_nghbrhood['borough']:\n",
        "  color_list.append(borough_dict[borough]) #storing different colors in the list according to the borough\n",
        "plt.figure(figsize=(25,8))\n",
        "plt.bar(tophost_nghbrhood['neighbourhood'], tophost_nghbrhood['count'], color = color_list) \n",
        "labels = list(borough_dict.keys())\n",
        "#to get labelling on plot\n",
        "custom_lines = [Line2D([0], [0], color='cyan', lw=4), \n",
        "                Line2D([0], [0], color='purple', lw=4),\n",
        "                Line2D([0], [0], color='red', lw=4),\n",
        "                Line2D([0], [0], color='orange', lw=4),\n",
        "                Line2D([0], [0], color='green', lw=4)]\n",
        "plt.xticks(rotation = 90) #to rotate x-ticks by 90 degree\n",
        "plt.legend(custom_lines,labels)#to get legend\n",
        "plt.xlabel('neighbourhood')\n",
        "plt.ylabel('Number of hostings')\n",
        "plt.title(\"Neighbourhoods in which top 10 hosts have their hostings\")"
      ]
    },
    {
      "cell_type": "markdown",
      "metadata": {
        "id": "Au7ViiNL5Jzu"
      },
      "source": [
        "*Top and major neighbourhoods comes under Manhattan and are the major attraction of tourists. Thats the reason of multiple hostings are there in these neighbourhood.*"
      ]
    },
    {
      "cell_type": "code",
      "execution_count": null,
      "metadata": {
        "colab": {
          "base_uri": "https://localhost:8080/",
          "height": 488
        },
        "id": "0SOA0IMfDuVx",
        "outputId": "df2f9817-049b-45b9-c672-372488b85e5c"
      },
      "outputs": [
        {
          "output_type": "execute_result",
          "data": {
            "text/html": [
              "\n",
              "  <div id=\"df-1e04ec80-60a1-4746-af06-349a8ba2111c\">\n",
              "    <div class=\"colab-df-container\">\n",
              "      <div>\n",
              "<style scoped>\n",
              "    .dataframe tbody tr th:only-of-type {\n",
              "        vertical-align: middle;\n",
              "    }\n",
              "\n",
              "    .dataframe tbody tr th {\n",
              "        vertical-align: top;\n",
              "    }\n",
              "\n",
              "    .dataframe thead th {\n",
              "        text-align: right;\n",
              "    }\n",
              "</style>\n",
              "<table border=\"1\" class=\"dataframe\">\n",
              "  <thead>\n",
              "    <tr style=\"text-align: right;\">\n",
              "      <th></th>\n",
              "      <th></th>\n",
              "      <th>id</th>\n",
              "    </tr>\n",
              "    <tr>\n",
              "      <th>host_id</th>\n",
              "      <th>room_type</th>\n",
              "      <th></th>\n",
              "    </tr>\n",
              "  </thead>\n",
              "  <tbody>\n",
              "    <tr>\n",
              "      <th>1475015</th>\n",
              "      <th>Entire home/apt</th>\n",
              "      <td>52</td>\n",
              "    </tr>\n",
              "    <tr>\n",
              "      <th>12243051</th>\n",
              "      <th>Entire home/apt</th>\n",
              "      <td>96</td>\n",
              "    </tr>\n",
              "    <tr>\n",
              "      <th rowspan=\"2\" valign=\"top\">16098958</th>\n",
              "      <th>Entire home/apt</th>\n",
              "      <td>95</td>\n",
              "    </tr>\n",
              "    <tr>\n",
              "      <th>Private room</th>\n",
              "      <td>1</td>\n",
              "    </tr>\n",
              "    <tr>\n",
              "      <th>22541573</th>\n",
              "      <th>Entire home/apt</th>\n",
              "      <td>87</td>\n",
              "    </tr>\n",
              "    <tr>\n",
              "      <th>30283594</th>\n",
              "      <th>Entire home/apt</th>\n",
              "      <td>121</td>\n",
              "    </tr>\n",
              "    <tr>\n",
              "      <th>61391963</th>\n",
              "      <th>Entire home/apt</th>\n",
              "      <td>91</td>\n",
              "    </tr>\n",
              "    <tr>\n",
              "      <th>107434423</th>\n",
              "      <th>Entire home/apt</th>\n",
              "      <td>232</td>\n",
              "    </tr>\n",
              "    <tr>\n",
              "      <th rowspan=\"2\" valign=\"top\">137358866</th>\n",
              "      <th>Entire home/apt</th>\n",
              "      <td>2</td>\n",
              "    </tr>\n",
              "    <tr>\n",
              "      <th>Private room</th>\n",
              "      <td>101</td>\n",
              "    </tr>\n",
              "    <tr>\n",
              "      <th>200380610</th>\n",
              "      <th>Entire home/apt</th>\n",
              "      <td>65</td>\n",
              "    </tr>\n",
              "    <tr>\n",
              "      <th rowspan=\"2\" valign=\"top\">219517861</th>\n",
              "      <th>Entire home/apt</th>\n",
              "      <td>319</td>\n",
              "    </tr>\n",
              "    <tr>\n",
              "      <th>Private room</th>\n",
              "      <td>8</td>\n",
              "    </tr>\n",
              "  </tbody>\n",
              "</table>\n",
              "</div>\n",
              "      <button class=\"colab-df-convert\" onclick=\"convertToInteractive('df-1e04ec80-60a1-4746-af06-349a8ba2111c')\"\n",
              "              title=\"Convert this dataframe to an interactive table.\"\n",
              "              style=\"display:none;\">\n",
              "        \n",
              "  <svg xmlns=\"http://www.w3.org/2000/svg\" height=\"24px\"viewBox=\"0 0 24 24\"\n",
              "       width=\"24px\">\n",
              "    <path d=\"M0 0h24v24H0V0z\" fill=\"none\"/>\n",
              "    <path d=\"M18.56 5.44l.94 2.06.94-2.06 2.06-.94-2.06-.94-.94-2.06-.94 2.06-2.06.94zm-11 1L8.5 8.5l.94-2.06 2.06-.94-2.06-.94L8.5 2.5l-.94 2.06-2.06.94zm10 10l.94 2.06.94-2.06 2.06-.94-2.06-.94-.94-2.06-.94 2.06-2.06.94z\"/><path d=\"M17.41 7.96l-1.37-1.37c-.4-.4-.92-.59-1.43-.59-.52 0-1.04.2-1.43.59L10.3 9.45l-7.72 7.72c-.78.78-.78 2.05 0 2.83L4 21.41c.39.39.9.59 1.41.59.51 0 1.02-.2 1.41-.59l7.78-7.78 2.81-2.81c.8-.78.8-2.07 0-2.86zM5.41 20L4 18.59l7.72-7.72 1.47 1.35L5.41 20z\"/>\n",
              "  </svg>\n",
              "      </button>\n",
              "      \n",
              "  <style>\n",
              "    .colab-df-container {\n",
              "      display:flex;\n",
              "      flex-wrap:wrap;\n",
              "      gap: 12px;\n",
              "    }\n",
              "\n",
              "    .colab-df-convert {\n",
              "      background-color: #E8F0FE;\n",
              "      border: none;\n",
              "      border-radius: 50%;\n",
              "      cursor: pointer;\n",
              "      display: none;\n",
              "      fill: #1967D2;\n",
              "      height: 32px;\n",
              "      padding: 0 0 0 0;\n",
              "      width: 32px;\n",
              "    }\n",
              "\n",
              "    .colab-df-convert:hover {\n",
              "      background-color: #E2EBFA;\n",
              "      box-shadow: 0px 1px 2px rgba(60, 64, 67, 0.3), 0px 1px 3px 1px rgba(60, 64, 67, 0.15);\n",
              "      fill: #174EA6;\n",
              "    }\n",
              "\n",
              "    [theme=dark] .colab-df-convert {\n",
              "      background-color: #3B4455;\n",
              "      fill: #D2E3FC;\n",
              "    }\n",
              "\n",
              "    [theme=dark] .colab-df-convert:hover {\n",
              "      background-color: #434B5C;\n",
              "      box-shadow: 0px 1px 3px 1px rgba(0, 0, 0, 0.15);\n",
              "      filter: drop-shadow(0px 1px 2px rgba(0, 0, 0, 0.3));\n",
              "      fill: #FFFFFF;\n",
              "    }\n",
              "  </style>\n",
              "\n",
              "      <script>\n",
              "        const buttonEl =\n",
              "          document.querySelector('#df-1e04ec80-60a1-4746-af06-349a8ba2111c button.colab-df-convert');\n",
              "        buttonEl.style.display =\n",
              "          google.colab.kernel.accessAllowed ? 'block' : 'none';\n",
              "\n",
              "        async function convertToInteractive(key) {\n",
              "          const element = document.querySelector('#df-1e04ec80-60a1-4746-af06-349a8ba2111c');\n",
              "          const dataTable =\n",
              "            await google.colab.kernel.invokeFunction('convertToInteractive',\n",
              "                                                     [key], {});\n",
              "          if (!dataTable) return;\n",
              "\n",
              "          const docLinkHtml = 'Like what you see? Visit the ' +\n",
              "            '<a target=\"_blank\" href=https://colab.research.google.com/notebooks/data_table.ipynb>data table notebook</a>'\n",
              "            + ' to learn more about interactive tables.';\n",
              "          element.innerHTML = '';\n",
              "          dataTable['output_type'] = 'display_data';\n",
              "          await google.colab.output.renderOutput(dataTable, element);\n",
              "          const docLink = document.createElement('div');\n",
              "          docLink.innerHTML = docLinkHtml;\n",
              "          element.appendChild(docLink);\n",
              "        }\n",
              "      </script>\n",
              "    </div>\n",
              "  </div>\n",
              "  "
            ],
            "text/plain": [
              "                            id\n",
              "host_id   room_type           \n",
              "1475015   Entire home/apt   52\n",
              "12243051  Entire home/apt   96\n",
              "16098958  Entire home/apt   95\n",
              "          Private room       1\n",
              "22541573  Entire home/apt   87\n",
              "30283594  Entire home/apt  121\n",
              "61391963  Entire home/apt   91\n",
              "107434423 Entire home/apt  232\n",
              "137358866 Entire home/apt    2\n",
              "          Private room     101\n",
              "200380610 Entire home/apt   65\n",
              "219517861 Entire home/apt  319\n",
              "          Private room       8"
            ]
          },
          "metadata": {},
          "execution_count": 48
        }
      ],
      "source": [
        "#---------------------Block 44----------------------------\n",
        "\n",
        "#grouping by host id and room type then counting number of rooms of that particular type for that particular host_id\n",
        "tophost_df.groupby(['host_id','room_type']).agg({'id':'count'}) "
      ]
    },
    {
      "cell_type": "markdown",
      "metadata": {
        "id": "IbuI4HF7BZ23"
      },
      "source": [
        "*Ok so mostly they offer entire home only with just few of them offering private rooms and no shared rooms*"
      ]
    },
    {
      "cell_type": "markdown",
      "metadata": {
        "id": "Bg53-dSg7fP4"
      },
      "source": [
        "**Lets check on how the price of these hosts differs from the average price of boroughs. As most of them only have entire homes only so will check for that only**"
      ]
    },
    {
      "cell_type": "code",
      "execution_count": null,
      "metadata": {
        "colab": {
          "base_uri": "https://localhost:8080/",
          "height": 436
        },
        "id": "b5TffXluDwbE",
        "outputId": "21e8c9aa-487d-4dfd-9aac-462a5fd2bd45"
      },
      "outputs": [
        {
          "output_type": "display_data",
          "data": {
            "image/png": "[encoded data removed]",
            "text/plain": [
              "<Figure size 720x432 with 1 Axes>"
            ]
          },
          "metadata": {
            "needs_background": "light"
          }
        }
      ],
      "source": [
        "#---------------------Block 45----------------------------\n",
        "\n",
        "avgprice = tophost_df.groupby(['host_id','room_type']).agg({'price':'mean'}).reset_index() #grouping by host id and room type then averaging the price for that particular room and that particular host\n",
        "avgprice = avgprice[avgprice['room_type']=='Entire home/apt'].reset_index().sort_values(by = 'price',ascending=False) #creating a subdataframe from avgprice dataframe where room type is entire home\n",
        "fig = plt.figure(figsize=(10,6))\n",
        "ax = fig.gca() #to get current axes\n",
        "avgprice.plot.bar(x='host_id', y='price', ax = ax,color='olive')\n",
        "for i,price in enumerate(list(avgprice['price'])):\n",
        "  ax.text(x=i,y = price+5, s = str(round(price,2)))\n"
      ]
    },
    {
      "cell_type": "markdown",
      "metadata": {
        "id": "bR_AkfbDJVGL"
      },
      "source": [
        "*Initially in block 29 when we plotted the box plot we saw tha the median or an average price of entire home lies somewhere near 160-170 and also from block 31 we can see that the average entire home prices in Manhattan is 180 as most of these host belongs to Manhattan only.* \n",
        "\n",
        "*But there we have removed the outliers by setting a price threshold with 600 so lets try that here as well to see actual price differences among other hosts and these hosts.*"
      ]
    },
    {
      "cell_type": "code",
      "execution_count": null,
      "metadata": {
        "colab": {
          "base_uri": "https://localhost:8080/",
          "height": 436
        },
        "id": "xseuBYItDyvw",
        "outputId": "e9a23fc3-ef4c-439a-8d27-3da1b6a2e1c2"
      },
      "outputs": [
        {
          "output_type": "display_data",
          "data": {
            "image/png": "[encoded data removed]",
            "text/plain": [
              "<Figure size 720x432 with 1 Axes>"
            ]
          },
          "metadata": {
            "needs_background": "light"
          }
        }
      ],
      "source": [
        "#---------------------Block 46----------------------------\n",
        "\n",
        "#applying the same thing as in block 45 but setting price threshold as 350\n",
        "price_350 = tophost_df[tophost_df['price']<600] #to create a subdataframe from tophost_df where price <600\n",
        "avgprice = price_350.groupby(['host_id','room_type']).agg({'price':'mean'}).reset_index()\n",
        "avgprice = avgprice[avgprice['room_type']=='Entire home/apt'].reset_index().sort_values(by = 'price',ascending=False)\n",
        "fig = plt.figure(figsize=(10,6))\n",
        "ax = fig.gca()\n",
        "avgprice.plot.bar(x='host_id', y='price', ax = ax,color='sandybrown')\n",
        "for i,price in enumerate(list(avgprice['price'])):\n",
        "  ax.text(x=i,y = price+5, s = str(round(price,2)))"
      ]
    },
    {
      "cell_type": "markdown",
      "metadata": {
        "id": "bIBJExbxOl43"
      },
      "source": [
        "*So even after setting a threshold as 600 for price there is not much change in average prices and nearly them appears to be higher than average prices we have seen in block 28.*\n",
        "\n",
        "*So we can draw following conclusions. - Generally most of these top hosts might have luxurious apartments and most of them some where have a charge higher than the average charges we have seen earlier in block 29 and 31.*\n"
      ]
    },
    {
      "cell_type": "markdown",
      "metadata": {
        "id": "eiTQ_noHWrM1"
      },
      "source": [
        "###**So collected info about hosts are :**\n",
        "\n",
        "*1. We have 37k + unique hosts in our dataset.*\n",
        "\n",
        "*2. Most host has single rentals only. Although there are also such host having rentals as high as 327, then in 200s, 100s and 50s but general population in our dataset has 1 only.*\n",
        "\n",
        "*3. All these top host mostly belongs to Manhattan. Out of total rentals that these top 10 hosts combinely have only 88 from them is in other boroughs rest all are in Manhattan.*\n",
        "\n",
        "*4. Financial district neighbourhood is the one where all these top host mostly have their rentals.*\n",
        "\n",
        "*5. When trying to check, is it the price that sets these host difference it actually came into notice that these host in general have higher price than the average price in their respective boroughs. So it might following a phenomena of brand value as we all know the higher the brand value higher the price. Yeah and also along with some good facilities.*"
      ]
    }
  ],
  "metadata": {
    "colab": {
      "collapsed_sections": [
        "hQRkJ9echIuE",
        "hy23Hf2U8cTF",
        "og3TJmGzrnbI",
        "fWi-17M2rw7x",
        "1l5bvnnMS_o-"
      ],
      "name": "Airbnb Bookings Analysis.ipynb",
      "provenance": [],
      "include_colab_link": true
    },
    "kernelspec": {
      "display_name": "Python 3",
      "language": "python",
      "name": "python3"
    },
    "language_info": {
      "codemirror_mode": {
        "name": "ipython",
        "version": 3
      },
      "file_extension": ".py",
      "mimetype": "text/x-python",
      "name": "python",
      "nbconvert_exporter": "python",
      "pygments_lexer": "ipython3",
      "version": "3.6.6"
    }
  },
  "nbformat": 4,
  "nbformat_minor": 0
}